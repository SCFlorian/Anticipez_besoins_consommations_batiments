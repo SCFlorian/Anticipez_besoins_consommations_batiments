{
 "cells": [
  {
   "cell_type": "markdown",
   "metadata": {},
   "source": [
    "# Anticipez les besoins en consommations de bâtiments"
   ]
  },
  {
   "cell_type": "markdown",
   "metadata": {},
   "source": [
    "## Étape 4 : Comparez plusieurs modèles supervisés"
   ]
  },
  {
   "cell_type": "markdown",
   "metadata": {},
   "source": [
    "### Reprendre les éléments de notre notebook de l'étape 3"
   ]
  },
  {
   "cell_type": "markdown",
   "metadata": {},
   "source": [
    "* J'importe les librairies nécessaires"
   ]
  },
  {
   "cell_type": "code",
   "execution_count": 1,
   "metadata": {},
   "outputs": [],
   "source": [
    "#Selection\n",
    "from sklearn.model_selection import (\n",
    "    train_test_split,\n",
    "    GridSearchCV, \n",
    "    cross_validate, \n",
    ")\n",
    "from sklearn.metrics import mean_squared_error, r2_score, mean_absolute_error \n",
    "from sklearn.inspection import permutation_importance\n",
    "\n",
    "#Preprocess\n",
    "from sklearn.compose import ColumnTransformer\n",
    "from sklearn.preprocessing import LabelEncoder, OneHotEncoder, StandardScaler\n",
    "\n",
    "#Modèles\n",
    "from sklearn.dummy import DummyRegressor\n",
    "from sklearn.linear_model import LinearRegression\n",
    "from sklearn.svm import SVR\n",
    "from sklearn.ensemble import RandomForestRegressor\n",
    "from sklearn.metrics import make_scorer\n",
    "\n",
    "#Librairies de base et notre fichier de l'étape 3\n",
    "\n",
    "import pandas as pd\n",
    "import numpy as np\n",
    "import matplotlib.pyplot as plt\n",
    "import seaborn as sns \n",
    "building_clean_def = pd.read_csv(\"../Data/Projet_3_etape3_clean.csv\")"
   ]
  },
  {
   "cell_type": "markdown",
   "metadata": {},
   "source": [
    "* Petit récapitulatif"
   ]
  },
  {
   "cell_type": "code",
   "execution_count": 2,
   "metadata": {},
   "outputs": [
    {
     "name": "stdout",
     "output_type": "stream",
     "text": [
      "Nous retrouvons 1601 lignes et nous avons 48 colonnes avant le nettoyage des données avant transformation.\n"
     ]
    }
   ],
   "source": [
    "data_avant_transformation = building_clean_def.shape\n",
    "print('Nous retrouvons',data_avant_transformation[0],'lignes et nous avons',data_avant_transformation[1],'colonnes avant le nettoyage des données avant transformation.')"
   ]
  },
  {
   "cell_type": "markdown",
   "metadata": {},
   "source": [
    "## Séparez votre jeu de données en un Pandas DataFrame X (ensemble de feautures) et Pandas Series y (votre target)."
   ]
  },
  {
   "cell_type": "markdown",
   "metadata": {},
   "source": [
    "### Recommendation 1 : Privilégier l'utilisation de la méthode cross_validate, déjà importée au début de la section modélisation du notebook template et regarder la documentation de scikit-learn sur cette méthode afin de bien l'adapter à votre usage.\n",
    "### Recommendation 2 : Commencer par un modèle linéaire, car il sera plus facile à comprendre."
   ]
  },
  {
   "cell_type": "markdown",
   "metadata": {},
   "source": [
    "#### Analyse de la distribution de notre valeur cible, la consommation totale d'énergie"
   ]
  },
  {
   "cell_type": "code",
   "execution_count": 3,
   "metadata": {},
   "outputs": [
    {
     "data": {
      "image/png": "[encoded data removed]",
      "text/plain": [
       "<Figure size 640x480 with 1 Axes>"
      ]
     },
     "metadata": {},
     "output_type": "display_data"
    }
   ],
   "source": [
    "sns.histplot(building_clean_def[\"SiteEnergyUse(kBtu)\"], bins=50, kde=True)\n",
    "plt.title(\"Histogramme de la consommation totale d'énergie\")\n",
    "plt.xlabel(\"Consommation d'énergie totale\")\n",
    "plt.grid()"
   ]
  },
  {
   "cell_type": "markdown",
   "metadata": {},
   "source": [
    "* On voit qu'il y a un étalement sur la droite.\n"
   ]
  },
  {
   "cell_type": "markdown",
   "metadata": {},
   "source": [
    "#### Dans la recommendation il est indiqué d'utiliser la fonction de cross validate. Nous allons également le faire mais dans un premier temps nous allons faire un test train split, pour prendre en mains les différentes méthodes."
   ]
  },
  {
   "cell_type": "markdown",
   "metadata": {},
   "source": [
    "### Avec un test train split sans cross validate"
   ]
  },
  {
   "cell_type": "markdown",
   "metadata": {},
   "source": [
    "#### On commence par la régression linéaire de scikit-learn"
   ]
  },
  {
   "cell_type": "markdown",
   "metadata": {},
   "source": [
    "* On enregistre notre modèle de régression linéaire"
   ]
  },
  {
   "cell_type": "code",
   "execution_count": 4,
   "metadata": {},
   "outputs": [],
   "source": [
    "reg = LinearRegression()"
   ]
  },
  {
   "cell_type": "code",
   "execution_count": 5,
   "metadata": {},
   "outputs": [
    {
     "name": "stdout",
     "output_type": "stream",
     "text": [
      "<class 'pandas.core.frame.DataFrame'>\n",
      "RangeIndex: 1601 entries, 0 to 1600\n",
      "Data columns (total 48 columns):\n",
      " #   Column                                          Non-Null Count  Dtype  \n",
      "---  ------                                          --------------  -----  \n",
      " 0   NumberofBuildings                               1601 non-null   float64\n",
      " 1   NumberofFloors                                  1601 non-null   int64  \n",
      " 2   PropertyGFATotal                                1601 non-null   int64  \n",
      " 3   PropertyGFAParking                              1601 non-null   int64  \n",
      " 4   SiteEnergyUse(kBtu)                             1601 non-null   float64\n",
      " 5   HasSteam                                        1601 non-null   int64  \n",
      " 6   HasElectricity                                  1601 non-null   int64  \n",
      " 7   HasGas                                          1601 non-null   int64  \n",
      " 8   NbSourcesEnergies                               1601 non-null   int64  \n",
      " 9   SecondUseRatio                                  1601 non-null   float64\n",
      " 10  ThirdUseRatio                                   1601 non-null   float64\n",
      " 11  AreaPerFloor                                    1601 non-null   float64\n",
      " 12  PrimaryPropertyType_Distribution_Center         1601 non-null   int64  \n",
      " 13  PrimaryPropertyType_Hospital                    1601 non-null   int64  \n",
      " 14  PrimaryPropertyType_Hotel                       1601 non-null   int64  \n",
      " 15  PrimaryPropertyType_K_12_School                 1601 non-null   int64  \n",
      " 16  PrimaryPropertyType_Laboratory                  1601 non-null   int64  \n",
      " 17  PrimaryPropertyType_Large_Office                1601 non-null   int64  \n",
      " 18  PrimaryPropertyType_Medical_Office              1601 non-null   int64  \n",
      " 19  PrimaryPropertyType_Mixed_Use_Property          1601 non-null   int64  \n",
      " 20  PrimaryPropertyType_Office                      1601 non-null   int64  \n",
      " 21  PrimaryPropertyType_Other                       1601 non-null   int64  \n",
      " 22  PrimaryPropertyType_Refrigerated_Warehouse      1601 non-null   int64  \n",
      " 23  PrimaryPropertyType_Residence_Hall              1601 non-null   int64  \n",
      " 24  PrimaryPropertyType_Restaurant                  1601 non-null   int64  \n",
      " 25  PrimaryPropertyType_Retail_Store                1601 non-null   int64  \n",
      " 26  PrimaryPropertyType_Self_Storage_Facility       1601 non-null   int64  \n",
      " 27  PrimaryPropertyType_Senior_Care_Community       1601 non-null   int64  \n",
      " 28  PrimaryPropertyType_Small_and_Mid_Sized_Office  1601 non-null   int64  \n",
      " 29  PrimaryPropertyType_Supermarket_Grocery_Store   1601 non-null   int64  \n",
      " 30  PrimaryPropertyType_University                  1601 non-null   int64  \n",
      " 31  PrimaryPropertyType_Warehouse                   1601 non-null   int64  \n",
      " 32  PrimaryPropertyType_Worship_Facility            1601 non-null   int64  \n",
      " 33  Neighborhood_BALLARD                            1601 non-null   int64  \n",
      " 34  Neighborhood_CENTRAL                            1601 non-null   int64  \n",
      " 35  Neighborhood_DELRIDGE                           1601 non-null   int64  \n",
      " 36  Neighborhood_DOWNTOWN                           1601 non-null   int64  \n",
      " 37  Neighborhood_EAST                               1601 non-null   int64  \n",
      " 38  Neighborhood_GREATER_DUWAMISH                   1601 non-null   int64  \n",
      " 39  Neighborhood_LAKE_UNION                         1601 non-null   int64  \n",
      " 40  Neighborhood_MAGNOLIA_QUEENANNE                 1601 non-null   int64  \n",
      " 41  Neighborhood_NORTH                              1601 non-null   int64  \n",
      " 42  Neighborhood_NORTHEAST                          1601 non-null   int64  \n",
      " 43  Neighborhood_NORTHWEST                          1601 non-null   int64  \n",
      " 44  Neighborhood_SOUTHEAST                          1601 non-null   int64  \n",
      " 45  Neighborhood_SOUTHWEST                          1601 non-null   int64  \n",
      " 46  UsageType_Bin                                   1601 non-null   int64  \n",
      " 47  AgeGroup                                        1601 non-null   int64  \n",
      "dtypes: float64(5), int64(43)\n",
      "memory usage: 600.5 KB\n"
     ]
    }
   ],
   "source": [
    "building_clean_def.info()"
   ]
  },
  {
   "cell_type": "markdown",
   "metadata": {},
   "source": [
    "#### On va scinder notre dataset en une partie d'entraînement et une partie d'évaluation en utilisant la fonction train_test_split de scikit-learn."
   ]
  },
  {
   "cell_type": "markdown",
   "metadata": {},
   "source": [
    "#### Séparation du jeu de données en jeu d’apprentissage et jeu de test. On fixe 20% pour les données test et 80% pour l'entraînement. Après avoir séparé le jeu avec le train test split on peut standardiser nos variables. Par contre on doit enlever les variables que nous avons déjà encodées"
   ]
  },
  {
   "cell_type": "markdown",
   "metadata": {},
   "source": [
    "#### J'enregsitre les colonnes à standardiser et celles qui ne doivent pas changer"
   ]
  },
  {
   "cell_type": "code",
   "execution_count": 6,
   "metadata": {},
   "outputs": [],
   "source": [
    "numerical_cols = [\n",
    "    'NumberofBuildings','NumberofFloors','PropertyGFATotal','PropertyGFAParking',\n",
    "    'NbSourcesEnergies','SecondUseRatio',\n",
    "    'ThirdUseRatio','AreaPerFloor']\n",
    "encoded_cols = [\n",
    "    'HasSteam','HasElectricity','HasGas','PrimaryPropertyType_Distribution_Center','PrimaryPropertyType_Hospital',\n",
    "    'PrimaryPropertyType_Hotel','PrimaryPropertyType_K_12_School','PrimaryPropertyType_Laboratory','PrimaryPropertyType_Large_Office',\n",
    "    'PrimaryPropertyType_Medical_Office','PrimaryPropertyType_Mixed_Use_Property','PrimaryPropertyType_Office','PrimaryPropertyType_Other',\n",
    "    'PrimaryPropertyType_Refrigerated_Warehouse','PrimaryPropertyType_Residence_Hall','PrimaryPropertyType_Restaurant','PrimaryPropertyType_Retail_Store',\n",
    "    'PrimaryPropertyType_Self_Storage_Facility','PrimaryPropertyType_Senior_Care_Community','PrimaryPropertyType_Small_and_Mid_Sized_Office',\n",
    "    'PrimaryPropertyType_Supermarket_Grocery_Store','PrimaryPropertyType_University','PrimaryPropertyType_Warehouse','PrimaryPropertyType_Worship_Facility',\n",
    "    'Neighborhood_BALLARD','Neighborhood_CENTRAL','Neighborhood_DELRIDGE','Neighborhood_DOWNTOWN','Neighborhood_EAST','Neighborhood_GREATER_DUWAMISH',\n",
    "    'Neighborhood_LAKE_UNION','Neighborhood_MAGNOLIA_QUEENANNE','Neighborhood_NORTH','Neighborhood_NORTHEAST','Neighborhood_NORTHWEST','Neighborhood_SOUTHEAST',\n",
    "    'Neighborhood_SOUTHWEST','UsageType_Bin','AgeGroup'\n",
    "    ]"
   ]
  },
  {
   "cell_type": "markdown",
   "metadata": {},
   "source": [
    "* Vérification du nombre de colonnes que j'enregistre. J'en ai une de moins, ce qui est normal c'est ma target"
   ]
  },
  {
   "cell_type": "code",
   "execution_count": 7,
   "metadata": {},
   "outputs": [
    {
     "data": {
      "text/plain": [
       "47"
      ]
     },
     "execution_count": 7,
     "metadata": {},
     "output_type": "execute_result"
    }
   ],
   "source": [
    "len(numerical_cols)+ len(encoded_cols)"
   ]
  },
  {
   "cell_type": "markdown",
   "metadata": {},
   "source": [
    "#### Je sépare mon jeu de données et je standardise les éléments numériques non encodés"
   ]
  },
  {
   "cell_type": "code",
   "execution_count": 8,
   "metadata": {},
   "outputs": [],
   "source": [
    "# Colonnes encodées et des colonnes numériques\n",
    "numerical_cols # à scaler\n",
    "encoded_cols # OneHot, Binaire, déjà OK\n",
    "\n",
    "# Séparation X / y\n",
    "y = building_clean_def[\"SiteEnergyUse(kBtu)\"]\n",
    "X = building_clean_def.drop(columns=[\"SiteEnergyUse(kBtu)\"])\n",
    "\n",
    "# Split train/test\n",
    "X_train, X_test, y_train, y_test = train_test_split(X, y, test_size=0.20, random_state=42)\n",
    "\n",
    "# Je définis ma varibale StandardScaler et je fais le scaling seulement sur les colonnes numériques\n",
    "scaler = StandardScaler()\n",
    "X_train_scaled_num = scaler.fit_transform(X_train[numerical_cols])\n",
    "X_test_scaled_num = scaler.transform(X_test[numerical_cols])\n",
    "\n",
    "# On recompose dans un DataFrame le X_train et X_test\n",
    "X_train_scaled = pd.concat([\n",
    "    pd.DataFrame(X_train_scaled_num, columns=numerical_cols, index=X_train.index),\n",
    "    X_train[encoded_cols]\n",
    "], axis=1)\n",
    "\n",
    "X_test_scaled = pd.concat([\n",
    "    pd.DataFrame(X_test_scaled_num, columns=numerical_cols, index=X_test.index),\n",
    "    X_test[encoded_cols]\n",
    "], axis=1)"
   ]
  },
  {
   "cell_type": "markdown",
   "metadata": {},
   "source": [
    "* Je vérifie si le scaling a fonctionné"
   ]
  },
  {
   "cell_type": "code",
   "execution_count": 9,
   "metadata": {},
   "outputs": [
    {
     "data": {
      "text/html": [
       "<div>\n",
       "<style scoped>\n",
       "    .dataframe tbody tr th:only-of-type {\n",
       "        vertical-align: middle;\n",
       "    }\n",
       "\n",
       "    .dataframe tbody tr th {\n",
       "        vertical-align: top;\n",
       "    }\n",
       "\n",
       "    .dataframe thead th {\n",
       "        text-align: right;\n",
       "    }\n",
       "</style>\n",
       "<table border=\"1\" class=\"dataframe\">\n",
       "  <thead>\n",
       "    <tr style=\"text-align: right;\">\n",
       "      <th></th>\n",
       "      <th>NumberofBuildings</th>\n",
       "      <th>NumberofFloors</th>\n",
       "      <th>PropertyGFATotal</th>\n",
       "      <th>PropertyGFAParking</th>\n",
       "      <th>NbSourcesEnergies</th>\n",
       "      <th>SecondUseRatio</th>\n",
       "      <th>ThirdUseRatio</th>\n",
       "      <th>AreaPerFloor</th>\n",
       "      <th>HasSteam</th>\n",
       "      <th>HasElectricity</th>\n",
       "      <th>...</th>\n",
       "      <th>Neighborhood_GREATER_DUWAMISH</th>\n",
       "      <th>Neighborhood_LAKE_UNION</th>\n",
       "      <th>Neighborhood_MAGNOLIA_QUEENANNE</th>\n",
       "      <th>Neighborhood_NORTH</th>\n",
       "      <th>Neighborhood_NORTHEAST</th>\n",
       "      <th>Neighborhood_NORTHWEST</th>\n",
       "      <th>Neighborhood_SOUTHEAST</th>\n",
       "      <th>Neighborhood_SOUTHWEST</th>\n",
       "      <th>UsageType_Bin</th>\n",
       "      <th>AgeGroup</th>\n",
       "    </tr>\n",
       "  </thead>\n",
       "  <tbody>\n",
       "    <tr>\n",
       "      <th>628</th>\n",
       "      <td>-0.082379</td>\n",
       "      <td>-0.327957</td>\n",
       "      <td>-0.485981</td>\n",
       "      <td>-0.306847</td>\n",
       "      <td>-1.606843</td>\n",
       "      <td>-0.662636</td>\n",
       "      <td>-0.348773</td>\n",
       "      <td>-0.398618</td>\n",
       "      <td>0</td>\n",
       "      <td>1</td>\n",
       "      <td>...</td>\n",
       "      <td>0</td>\n",
       "      <td>0</td>\n",
       "      <td>0</td>\n",
       "      <td>1</td>\n",
       "      <td>0</td>\n",
       "      <td>0</td>\n",
       "      <td>0</td>\n",
       "      <td>0</td>\n",
       "      <td>1</td>\n",
       "      <td>3</td>\n",
       "    </tr>\n",
       "    <tr>\n",
       "      <th>693</th>\n",
       "      <td>-0.082379</td>\n",
       "      <td>-0.169846</td>\n",
       "      <td>-0.440352</td>\n",
       "      <td>-0.306847</td>\n",
       "      <td>-1.606843</td>\n",
       "      <td>0.171100</td>\n",
       "      <td>-0.348773</td>\n",
       "      <td>-0.412013</td>\n",
       "      <td>0</td>\n",
       "      <td>1</td>\n",
       "      <td>...</td>\n",
       "      <td>0</td>\n",
       "      <td>0</td>\n",
       "      <td>0</td>\n",
       "      <td>0</td>\n",
       "      <td>1</td>\n",
       "      <td>0</td>\n",
       "      <td>0</td>\n",
       "      <td>0</td>\n",
       "      <td>1</td>\n",
       "      <td>3</td>\n",
       "    </tr>\n",
       "    <tr>\n",
       "      <th>705</th>\n",
       "      <td>-0.082379</td>\n",
       "      <td>-0.327957</td>\n",
       "      <td>-0.372505</td>\n",
       "      <td>-0.306847</td>\n",
       "      <td>0.425528</td>\n",
       "      <td>2.056722</td>\n",
       "      <td>-0.348773</td>\n",
       "      <td>-0.238885</td>\n",
       "      <td>0</td>\n",
       "      <td>1</td>\n",
       "      <td>...</td>\n",
       "      <td>1</td>\n",
       "      <td>0</td>\n",
       "      <td>0</td>\n",
       "      <td>0</td>\n",
       "      <td>0</td>\n",
       "      <td>0</td>\n",
       "      <td>0</td>\n",
       "      <td>0</td>\n",
       "      <td>1</td>\n",
       "      <td>1</td>\n",
       "    </tr>\n",
       "    <tr>\n",
       "      <th>497</th>\n",
       "      <td>-0.082379</td>\n",
       "      <td>0.304487</td>\n",
       "      <td>0.022551</td>\n",
       "      <td>-0.306847</td>\n",
       "      <td>0.425528</td>\n",
       "      <td>0.111210</td>\n",
       "      <td>-0.348773</td>\n",
       "      <td>-0.272438</td>\n",
       "      <td>0</td>\n",
       "      <td>1</td>\n",
       "      <td>...</td>\n",
       "      <td>0</td>\n",
       "      <td>0</td>\n",
       "      <td>0</td>\n",
       "      <td>0</td>\n",
       "      <td>0</td>\n",
       "      <td>0</td>\n",
       "      <td>0</td>\n",
       "      <td>0</td>\n",
       "      <td>1</td>\n",
       "      <td>3</td>\n",
       "    </tr>\n",
       "    <tr>\n",
       "      <th>1169</th>\n",
       "      <td>-0.082379</td>\n",
       "      <td>-0.486067</td>\n",
       "      <td>-0.462558</td>\n",
       "      <td>-0.306847</td>\n",
       "      <td>0.425528</td>\n",
       "      <td>0.820066</td>\n",
       "      <td>-0.348773</td>\n",
       "      <td>-0.164031</td>\n",
       "      <td>0</td>\n",
       "      <td>1</td>\n",
       "      <td>...</td>\n",
       "      <td>0</td>\n",
       "      <td>0</td>\n",
       "      <td>0</td>\n",
       "      <td>0</td>\n",
       "      <td>0</td>\n",
       "      <td>1</td>\n",
       "      <td>0</td>\n",
       "      <td>0</td>\n",
       "      <td>1</td>\n",
       "      <td>1</td>\n",
       "    </tr>\n",
       "    <tr>\n",
       "      <th>...</th>\n",
       "      <td>...</td>\n",
       "      <td>...</td>\n",
       "      <td>...</td>\n",
       "      <td>...</td>\n",
       "      <td>...</td>\n",
       "      <td>...</td>\n",
       "      <td>...</td>\n",
       "      <td>...</td>\n",
       "      <td>...</td>\n",
       "      <td>...</td>\n",
       "      <td>...</td>\n",
       "      <td>...</td>\n",
       "      <td>...</td>\n",
       "      <td>...</td>\n",
       "      <td>...</td>\n",
       "      <td>...</td>\n",
       "      <td>...</td>\n",
       "      <td>...</td>\n",
       "      <td>...</td>\n",
       "      <td>...</td>\n",
       "      <td>...</td>\n",
       "    </tr>\n",
       "    <tr>\n",
       "      <th>1130</th>\n",
       "      <td>-0.082379</td>\n",
       "      <td>-0.486067</td>\n",
       "      <td>-0.409169</td>\n",
       "      <td>-0.306847</td>\n",
       "      <td>0.425528</td>\n",
       "      <td>1.751252</td>\n",
       "      <td>1.791662</td>\n",
       "      <td>-0.013727</td>\n",
       "      <td>0</td>\n",
       "      <td>1</td>\n",
       "      <td>...</td>\n",
       "      <td>1</td>\n",
       "      <td>0</td>\n",
       "      <td>0</td>\n",
       "      <td>0</td>\n",
       "      <td>0</td>\n",
       "      <td>0</td>\n",
       "      <td>0</td>\n",
       "      <td>0</td>\n",
       "      <td>1</td>\n",
       "      <td>2</td>\n",
       "    </tr>\n",
       "    <tr>\n",
       "      <th>1294</th>\n",
       "      <td>-0.082379</td>\n",
       "      <td>-0.169846</td>\n",
       "      <td>-0.481861</td>\n",
       "      <td>-0.306847</td>\n",
       "      <td>0.425528</td>\n",
       "      <td>-0.716638</td>\n",
       "      <td>-0.348773</td>\n",
       "      <td>-0.450967</td>\n",
       "      <td>0</td>\n",
       "      <td>1</td>\n",
       "      <td>...</td>\n",
       "      <td>0</td>\n",
       "      <td>0</td>\n",
       "      <td>0</td>\n",
       "      <td>0</td>\n",
       "      <td>0</td>\n",
       "      <td>0</td>\n",
       "      <td>0</td>\n",
       "      <td>0</td>\n",
       "      <td>0</td>\n",
       "      <td>3</td>\n",
       "    </tr>\n",
       "    <tr>\n",
       "      <th>860</th>\n",
       "      <td>-0.082379</td>\n",
       "      <td>-0.486067</td>\n",
       "      <td>0.263900</td>\n",
       "      <td>-0.306847</td>\n",
       "      <td>0.425528</td>\n",
       "      <td>-0.716638</td>\n",
       "      <td>-0.348773</td>\n",
       "      <td>1.881149</td>\n",
       "      <td>0</td>\n",
       "      <td>1</td>\n",
       "      <td>...</td>\n",
       "      <td>0</td>\n",
       "      <td>0</td>\n",
       "      <td>1</td>\n",
       "      <td>0</td>\n",
       "      <td>0</td>\n",
       "      <td>0</td>\n",
       "      <td>0</td>\n",
       "      <td>0</td>\n",
       "      <td>0</td>\n",
       "      <td>2</td>\n",
       "    </tr>\n",
       "    <tr>\n",
       "      <th>1459</th>\n",
       "      <td>-0.082379</td>\n",
       "      <td>-0.486067</td>\n",
       "      <td>0.007111</td>\n",
       "      <td>-0.306847</td>\n",
       "      <td>0.425528</td>\n",
       "      <td>-0.716638</td>\n",
       "      <td>-0.348773</td>\n",
       "      <td>1.158216</td>\n",
       "      <td>0</td>\n",
       "      <td>1</td>\n",
       "      <td>...</td>\n",
       "      <td>0</td>\n",
       "      <td>0</td>\n",
       "      <td>0</td>\n",
       "      <td>0</td>\n",
       "      <td>0</td>\n",
       "      <td>0</td>\n",
       "      <td>0</td>\n",
       "      <td>0</td>\n",
       "      <td>0</td>\n",
       "      <td>2</td>\n",
       "    </tr>\n",
       "    <tr>\n",
       "      <th>1126</th>\n",
       "      <td>-0.082379</td>\n",
       "      <td>-0.486067</td>\n",
       "      <td>-0.469837</td>\n",
       "      <td>-0.306847</td>\n",
       "      <td>0.425528</td>\n",
       "      <td>0.683436</td>\n",
       "      <td>-0.348773</td>\n",
       "      <td>-0.184525</td>\n",
       "      <td>0</td>\n",
       "      <td>1</td>\n",
       "      <td>...</td>\n",
       "      <td>1</td>\n",
       "      <td>0</td>\n",
       "      <td>0</td>\n",
       "      <td>0</td>\n",
       "      <td>0</td>\n",
       "      <td>0</td>\n",
       "      <td>0</td>\n",
       "      <td>0</td>\n",
       "      <td>1</td>\n",
       "      <td>1</td>\n",
       "    </tr>\n",
       "  </tbody>\n",
       "</table>\n",
       "<p>1280 rows × 47 columns</p>\n",
       "</div>"
      ],
      "text/plain": [
       "      NumberofBuildings  NumberofFloors  PropertyGFATotal  PropertyGFAParking  \\\n",
       "628           -0.082379       -0.327957         -0.485981           -0.306847   \n",
       "693           -0.082379       -0.169846         -0.440352           -0.306847   \n",
       "705           -0.082379       -0.327957         -0.372505           -0.306847   \n",
       "497           -0.082379        0.304487          0.022551           -0.306847   \n",
       "1169          -0.082379       -0.486067         -0.462558           -0.306847   \n",
       "...                 ...             ...               ...                 ...   \n",
       "1130          -0.082379       -0.486067         -0.409169           -0.306847   \n",
       "1294          -0.082379       -0.169846         -0.481861           -0.306847   \n",
       "860           -0.082379       -0.486067          0.263900           -0.306847   \n",
       "1459          -0.082379       -0.486067          0.007111           -0.306847   \n",
       "1126          -0.082379       -0.486067         -0.469837           -0.306847   \n",
       "\n",
       "      NbSourcesEnergies  SecondUseRatio  ThirdUseRatio  AreaPerFloor  \\\n",
       "628           -1.606843       -0.662636      -0.348773     -0.398618   \n",
       "693           -1.606843        0.171100      -0.348773     -0.412013   \n",
       "705            0.425528        2.056722      -0.348773     -0.238885   \n",
       "497            0.425528        0.111210      -0.348773     -0.272438   \n",
       "1169           0.425528        0.820066      -0.348773     -0.164031   \n",
       "...                 ...             ...            ...           ...   \n",
       "1130           0.425528        1.751252       1.791662     -0.013727   \n",
       "1294           0.425528       -0.716638      -0.348773     -0.450967   \n",
       "860            0.425528       -0.716638      -0.348773      1.881149   \n",
       "1459           0.425528       -0.716638      -0.348773      1.158216   \n",
       "1126           0.425528        0.683436      -0.348773     -0.184525   \n",
       "\n",
       "      HasSteam  HasElectricity  ...  Neighborhood_GREATER_DUWAMISH  \\\n",
       "628          0               1  ...                              0   \n",
       "693          0               1  ...                              0   \n",
       "705          0               1  ...                              1   \n",
       "497          0               1  ...                              0   \n",
       "1169         0               1  ...                              0   \n",
       "...        ...             ...  ...                            ...   \n",
       "1130         0               1  ...                              1   \n",
       "1294         0               1  ...                              0   \n",
       "860          0               1  ...                              0   \n",
       "1459         0               1  ...                              0   \n",
       "1126         0               1  ...                              1   \n",
       "\n",
       "      Neighborhood_LAKE_UNION  Neighborhood_MAGNOLIA_QUEENANNE  \\\n",
       "628                         0                                0   \n",
       "693                         0                                0   \n",
       "705                         0                                0   \n",
       "497                         0                                0   \n",
       "1169                        0                                0   \n",
       "...                       ...                              ...   \n",
       "1130                        0                                0   \n",
       "1294                        0                                0   \n",
       "860                         0                                1   \n",
       "1459                        0                                0   \n",
       "1126                        0                                0   \n",
       "\n",
       "      Neighborhood_NORTH  Neighborhood_NORTHEAST  Neighborhood_NORTHWEST  \\\n",
       "628                    1                       0                       0   \n",
       "693                    0                       1                       0   \n",
       "705                    0                       0                       0   \n",
       "497                    0                       0                       0   \n",
       "1169                   0                       0                       1   \n",
       "...                  ...                     ...                     ...   \n",
       "1130                   0                       0                       0   \n",
       "1294                   0                       0                       0   \n",
       "860                    0                       0                       0   \n",
       "1459                   0                       0                       0   \n",
       "1126                   0                       0                       0   \n",
       "\n",
       "      Neighborhood_SOUTHEAST  Neighborhood_SOUTHWEST  UsageType_Bin  AgeGroup  \n",
       "628                        0                       0              1         3  \n",
       "693                        0                       0              1         3  \n",
       "705                        0                       0              1         1  \n",
       "497                        0                       0              1         3  \n",
       "1169                       0                       0              1         1  \n",
       "...                      ...                     ...            ...       ...  \n",
       "1130                       0                       0              1         2  \n",
       "1294                       0                       0              0         3  \n",
       "860                        0                       0              0         2  \n",
       "1459                       0                       0              0         2  \n",
       "1126                       0                       0              1         1  \n",
       "\n",
       "[1280 rows x 47 columns]"
      ]
     },
     "execution_count": 9,
     "metadata": {},
     "output_type": "execute_result"
    }
   ],
   "source": [
    "X_train_scaled"
   ]
  },
  {
   "cell_type": "markdown",
   "metadata": {},
   "source": [
    "#### On entraîne le modèle"
   ]
  },
  {
   "cell_type": "markdown",
   "metadata": {},
   "source": [
    "#### On commence par un modèle de régression linéaire\n",
    "* C’est un modèle qui prédit une valeur continue (y) à partir de une ou plusieurs variables explicatives (x1, x2, ...). On l’entraîne sur des données connues pour apprendre les coefficients. Ensuite, on peut prédire y pour de nouvelles données.\n"
   ]
  },
  {
   "cell_type": "markdown",
   "metadata": {},
   "source": [
    "#### J'entraîne le modèle"
   ]
  },
  {
   "cell_type": "code",
   "execution_count": 10,
   "metadata": {},
   "outputs": [
    {
     "data": {
      "text/html": [
       "<style>#sk-container-id-1 {\n",
       "  /* Definition of color scheme common for light and dark mode */\n",
       "  --sklearn-color-text: #000;\n",
       "  --sklearn-color-text-muted: #666;\n",
       "  --sklearn-color-line: gray;\n",
       "  /* Definition of color scheme for unfitted estimators */\n",
       "  --sklearn-color-unfitted-level-0: #fff5e6;\n",
       "  --sklearn-color-unfitted-level-1: #f6e4d2;\n",
       "  --sklearn-color-unfitted-level-2: #ffe0b3;\n",
       "  --sklearn-color-unfitted-level-3: chocolate;\n",
       "  /* Definition of color scheme for fitted estimators */\n",
       "  --sklearn-color-fitted-level-0: #f0f8ff;\n",
       "  --sklearn-color-fitted-level-1: #d4ebff;\n",
       "  --sklearn-color-fitted-level-2: #b3dbfd;\n",
       "  --sklearn-color-fitted-level-3: cornflowerblue;\n",
       "\n",
       "  /* Specific color for light theme */\n",
       "  --sklearn-color-text-on-default-background: var(--sg-text-color, var(--theme-code-foreground, var(--jp-content-font-color1, black)));\n",
       "  --sklearn-color-background: var(--sg-background-color, var(--theme-background, var(--jp-layout-color0, white)));\n",
       "  --sklearn-color-border-box: var(--sg-text-color, var(--theme-code-foreground, var(--jp-content-font-color1, black)));\n",
       "  --sklearn-color-icon: #696969;\n",
       "\n",
       "  @media (prefers-color-scheme: dark) {\n",
       "    /* Redefinition of color scheme for dark theme */\n",
       "    --sklearn-color-text-on-default-background: var(--sg-text-color, var(--theme-code-foreground, var(--jp-content-font-color1, white)));\n",
       "    --sklearn-color-background: var(--sg-background-color, var(--theme-background, var(--jp-layout-color0, #111)));\n",
       "    --sklearn-color-border-box: var(--sg-text-color, var(--theme-code-foreground, var(--jp-content-font-color1, white)));\n",
       "    --sklearn-color-icon: #878787;\n",
       "  }\n",
       "}\n",
       "\n",
       "#sk-container-id-1 {\n",
       "  color: var(--sklearn-color-text);\n",
       "}\n",
       "\n",
       "#sk-container-id-1 pre {\n",
       "  padding: 0;\n",
       "}\n",
       "\n",
       "#sk-container-id-1 input.sk-hidden--visually {\n",
       "  border: 0;\n",
       "  clip: rect(1px 1px 1px 1px);\n",
       "  clip: rect(1px, 1px, 1px, 1px);\n",
       "  height: 1px;\n",
       "  margin: -1px;\n",
       "  overflow: hidden;\n",
       "  padding: 0;\n",
       "  position: absolute;\n",
       "  width: 1px;\n",
       "}\n",
       "\n",
       "#sk-container-id-1 div.sk-dashed-wrapped {\n",
       "  border: 1px dashed var(--sklearn-color-line);\n",
       "  margin: 0 0.4em 0.5em 0.4em;\n",
       "  box-sizing: border-box;\n",
       "  padding-bottom: 0.4em;\n",
       "  background-color: var(--sklearn-color-background);\n",
       "}\n",
       "\n",
       "#sk-container-id-1 div.sk-container {\n",
       "  /* jupyter's `normalize.less` sets `[hidden] { display: none; }`\n",
       "     but bootstrap.min.css set `[hidden] { display: none !important; }`\n",
       "     so we also need the `!important` here to be able to override the\n",
       "     default hidden behavior on the sphinx rendered scikit-learn.org.\n",
       "     See: https://github.com/scikit-learn/scikit-learn/issues/21755 */\n",
       "  display: inline-block !important;\n",
       "  position: relative;\n",
       "}\n",
       "\n",
       "#sk-container-id-1 div.sk-text-repr-fallback {\n",
       "  display: none;\n",
       "}\n",
       "\n",
       "div.sk-parallel-item,\n",
       "div.sk-serial,\n",
       "div.sk-item {\n",
       "  /* draw centered vertical line to link estimators */\n",
       "  background-image: linear-gradient(var(--sklearn-color-text-on-default-background), var(--sklearn-color-text-on-default-background));\n",
       "  background-size: 2px 100%;\n",
       "  background-repeat: no-repeat;\n",
       "  background-position: center center;\n",
       "}\n",
       "\n",
       "/* Parallel-specific style estimator block */\n",
       "\n",
       "#sk-container-id-1 div.sk-parallel-item::after {\n",
       "  content: \"\";\n",
       "  width: 100%;\n",
       "  border-bottom: 2px solid var(--sklearn-color-text-on-default-background);\n",
       "  flex-grow: 1;\n",
       "}\n",
       "\n",
       "#sk-container-id-1 div.sk-parallel {\n",
       "  display: flex;\n",
       "  align-items: stretch;\n",
       "  justify-content: center;\n",
       "  background-color: var(--sklearn-color-background);\n",
       "  position: relative;\n",
       "}\n",
       "\n",
       "#sk-container-id-1 div.sk-parallel-item {\n",
       "  display: flex;\n",
       "  flex-direction: column;\n",
       "}\n",
       "\n",
       "#sk-container-id-1 div.sk-parallel-item:first-child::after {\n",
       "  align-self: flex-end;\n",
       "  width: 50%;\n",
       "}\n",
       "\n",
       "#sk-container-id-1 div.sk-parallel-item:last-child::after {\n",
       "  align-self: flex-start;\n",
       "  width: 50%;\n",
       "}\n",
       "\n",
       "#sk-container-id-1 div.sk-parallel-item:only-child::after {\n",
       "  width: 0;\n",
       "}\n",
       "\n",
       "/* Serial-specific style estimator block */\n",
       "\n",
       "#sk-container-id-1 div.sk-serial {\n",
       "  display: flex;\n",
       "  flex-direction: column;\n",
       "  align-items: center;\n",
       "  background-color: var(--sklearn-color-background);\n",
       "  padding-right: 1em;\n",
       "  padding-left: 1em;\n",
       "}\n",
       "\n",
       "\n",
       "/* Toggleable style: style used for estimator/Pipeline/ColumnTransformer box that is\n",
       "clickable and can be expanded/collapsed.\n",
       "- Pipeline and ColumnTransformer use this feature and define the default style\n",
       "- Estimators will overwrite some part of the style using the `sk-estimator` class\n",
       "*/\n",
       "\n",
       "/* Pipeline and ColumnTransformer style (default) */\n",
       "\n",
       "#sk-container-id-1 div.sk-toggleable {\n",
       "  /* Default theme specific background. It is overwritten whether we have a\n",
       "  specific estimator or a Pipeline/ColumnTransformer */\n",
       "  background-color: var(--sklearn-color-background);\n",
       "}\n",
       "\n",
       "/* Toggleable label */\n",
       "#sk-container-id-1 label.sk-toggleable__label {\n",
       "  cursor: pointer;\n",
       "  display: flex;\n",
       "  width: 100%;\n",
       "  margin-bottom: 0;\n",
       "  padding: 0.5em;\n",
       "  box-sizing: border-box;\n",
       "  text-align: center;\n",
       "  align-items: start;\n",
       "  justify-content: space-between;\n",
       "  gap: 0.5em;\n",
       "}\n",
       "\n",
       "#sk-container-id-1 label.sk-toggleable__label .caption {\n",
       "  font-size: 0.6rem;\n",
       "  font-weight: lighter;\n",
       "  color: var(--sklearn-color-text-muted);\n",
       "}\n",
       "\n",
       "#sk-container-id-1 label.sk-toggleable__label-arrow:before {\n",
       "  /* Arrow on the left of the label */\n",
       "  content: \"▸\";\n",
       "  float: left;\n",
       "  margin-right: 0.25em;\n",
       "  color: var(--sklearn-color-icon);\n",
       "}\n",
       "\n",
       "#sk-container-id-1 label.sk-toggleable__label-arrow:hover:before {\n",
       "  color: var(--sklearn-color-text);\n",
       "}\n",
       "\n",
       "/* Toggleable content - dropdown */\n",
       "\n",
       "#sk-container-id-1 div.sk-toggleable__content {\n",
       "  display: none;\n",
       "  text-align: left;\n",
       "  /* unfitted */\n",
       "  background-color: var(--sklearn-color-unfitted-level-0);\n",
       "}\n",
       "\n",
       "#sk-container-id-1 div.sk-toggleable__content.fitted {\n",
       "  /* fitted */\n",
       "  background-color: var(--sklearn-color-fitted-level-0);\n",
       "}\n",
       "\n",
       "#sk-container-id-1 div.sk-toggleable__content pre {\n",
       "  margin: 0.2em;\n",
       "  border-radius: 0.25em;\n",
       "  color: var(--sklearn-color-text);\n",
       "  /* unfitted */\n",
       "  background-color: var(--sklearn-color-unfitted-level-0);\n",
       "}\n",
       "\n",
       "#sk-container-id-1 div.sk-toggleable__content.fitted pre {\n",
       "  /* unfitted */\n",
       "  background-color: var(--sklearn-color-fitted-level-0);\n",
       "}\n",
       "\n",
       "#sk-container-id-1 input.sk-toggleable__control:checked~div.sk-toggleable__content {\n",
       "  /* Expand drop-down */\n",
       "  display: block;\n",
       "  width: 100%;\n",
       "  overflow: visible;\n",
       "}\n",
       "\n",
       "#sk-container-id-1 input.sk-toggleable__control:checked~label.sk-toggleable__label-arrow:before {\n",
       "  content: \"▾\";\n",
       "}\n",
       "\n",
       "/* Pipeline/ColumnTransformer-specific style */\n",
       "\n",
       "#sk-container-id-1 div.sk-label input.sk-toggleable__control:checked~label.sk-toggleable__label {\n",
       "  color: var(--sklearn-color-text);\n",
       "  background-color: var(--sklearn-color-unfitted-level-2);\n",
       "}\n",
       "\n",
       "#sk-container-id-1 div.sk-label.fitted input.sk-toggleable__control:checked~label.sk-toggleable__label {\n",
       "  background-color: var(--sklearn-color-fitted-level-2);\n",
       "}\n",
       "\n",
       "/* Estimator-specific style */\n",
       "\n",
       "/* Colorize estimator box */\n",
       "#sk-container-id-1 div.sk-estimator input.sk-toggleable__control:checked~label.sk-toggleable__label {\n",
       "  /* unfitted */\n",
       "  background-color: var(--sklearn-color-unfitted-level-2);\n",
       "}\n",
       "\n",
       "#sk-container-id-1 div.sk-estimator.fitted input.sk-toggleable__control:checked~label.sk-toggleable__label {\n",
       "  /* fitted */\n",
       "  background-color: var(--sklearn-color-fitted-level-2);\n",
       "}\n",
       "\n",
       "#sk-container-id-1 div.sk-label label.sk-toggleable__label,\n",
       "#sk-container-id-1 div.sk-label label {\n",
       "  /* The background is the default theme color */\n",
       "  color: var(--sklearn-color-text-on-default-background);\n",
       "}\n",
       "\n",
       "/* On hover, darken the color of the background */\n",
       "#sk-container-id-1 div.sk-label:hover label.sk-toggleable__label {\n",
       "  color: var(--sklearn-color-text);\n",
       "  background-color: var(--sklearn-color-unfitted-level-2);\n",
       "}\n",
       "\n",
       "/* Label box, darken color on hover, fitted */\n",
       "#sk-container-id-1 div.sk-label.fitted:hover label.sk-toggleable__label.fitted {\n",
       "  color: var(--sklearn-color-text);\n",
       "  background-color: var(--sklearn-color-fitted-level-2);\n",
       "}\n",
       "\n",
       "/* Estimator label */\n",
       "\n",
       "#sk-container-id-1 div.sk-label label {\n",
       "  font-family: monospace;\n",
       "  font-weight: bold;\n",
       "  display: inline-block;\n",
       "  line-height: 1.2em;\n",
       "}\n",
       "\n",
       "#sk-container-id-1 div.sk-label-container {\n",
       "  text-align: center;\n",
       "}\n",
       "\n",
       "/* Estimator-specific */\n",
       "#sk-container-id-1 div.sk-estimator {\n",
       "  font-family: monospace;\n",
       "  border: 1px dotted var(--sklearn-color-border-box);\n",
       "  border-radius: 0.25em;\n",
       "  box-sizing: border-box;\n",
       "  margin-bottom: 0.5em;\n",
       "  /* unfitted */\n",
       "  background-color: var(--sklearn-color-unfitted-level-0);\n",
       "}\n",
       "\n",
       "#sk-container-id-1 div.sk-estimator.fitted {\n",
       "  /* fitted */\n",
       "  background-color: var(--sklearn-color-fitted-level-0);\n",
       "}\n",
       "\n",
       "/* on hover */\n",
       "#sk-container-id-1 div.sk-estimator:hover {\n",
       "  /* unfitted */\n",
       "  background-color: var(--sklearn-color-unfitted-level-2);\n",
       "}\n",
       "\n",
       "#sk-container-id-1 div.sk-estimator.fitted:hover {\n",
       "  /* fitted */\n",
       "  background-color: var(--sklearn-color-fitted-level-2);\n",
       "}\n",
       "\n",
       "/* Specification for estimator info (e.g. \"i\" and \"?\") */\n",
       "\n",
       "/* Common style for \"i\" and \"?\" */\n",
       "\n",
       ".sk-estimator-doc-link,\n",
       "a:link.sk-estimator-doc-link,\n",
       "a:visited.sk-estimator-doc-link {\n",
       "  float: right;\n",
       "  font-size: smaller;\n",
       "  line-height: 1em;\n",
       "  font-family: monospace;\n",
       "  background-color: var(--sklearn-color-background);\n",
       "  border-radius: 1em;\n",
       "  height: 1em;\n",
       "  width: 1em;\n",
       "  text-decoration: none !important;\n",
       "  margin-left: 0.5em;\n",
       "  text-align: center;\n",
       "  /* unfitted */\n",
       "  border: var(--sklearn-color-unfitted-level-1) 1pt solid;\n",
       "  color: var(--sklearn-color-unfitted-level-1);\n",
       "}\n",
       "\n",
       ".sk-estimator-doc-link.fitted,\n",
       "a:link.sk-estimator-doc-link.fitted,\n",
       "a:visited.sk-estimator-doc-link.fitted {\n",
       "  /* fitted */\n",
       "  border: var(--sklearn-color-fitted-level-1) 1pt solid;\n",
       "  color: var(--sklearn-color-fitted-level-1);\n",
       "}\n",
       "\n",
       "/* On hover */\n",
       "div.sk-estimator:hover .sk-estimator-doc-link:hover,\n",
       ".sk-estimator-doc-link:hover,\n",
       "div.sk-label-container:hover .sk-estimator-doc-link:hover,\n",
       ".sk-estimator-doc-link:hover {\n",
       "  /* unfitted */\n",
       "  background-color: var(--sklearn-color-unfitted-level-3);\n",
       "  color: var(--sklearn-color-background);\n",
       "  text-decoration: none;\n",
       "}\n",
       "\n",
       "div.sk-estimator.fitted:hover .sk-estimator-doc-link.fitted:hover,\n",
       ".sk-estimator-doc-link.fitted:hover,\n",
       "div.sk-label-container:hover .sk-estimator-doc-link.fitted:hover,\n",
       ".sk-estimator-doc-link.fitted:hover {\n",
       "  /* fitted */\n",
       "  background-color: var(--sklearn-color-fitted-level-3);\n",
       "  color: var(--sklearn-color-background);\n",
       "  text-decoration: none;\n",
       "}\n",
       "\n",
       "/* Span, style for the box shown on hovering the info icon */\n",
       ".sk-estimator-doc-link span {\n",
       "  display: none;\n",
       "  z-index: 9999;\n",
       "  position: relative;\n",
       "  font-weight: normal;\n",
       "  right: .2ex;\n",
       "  padding: .5ex;\n",
       "  margin: .5ex;\n",
       "  width: min-content;\n",
       "  min-width: 20ex;\n",
       "  max-width: 50ex;\n",
       "  color: var(--sklearn-color-text);\n",
       "  box-shadow: 2pt 2pt 4pt #999;\n",
       "  /* unfitted */\n",
       "  background: var(--sklearn-color-unfitted-level-0);\n",
       "  border: .5pt solid var(--sklearn-color-unfitted-level-3);\n",
       "}\n",
       "\n",
       ".sk-estimator-doc-link.fitted span {\n",
       "  /* fitted */\n",
       "  background: var(--sklearn-color-fitted-level-0);\n",
       "  border: var(--sklearn-color-fitted-level-3);\n",
       "}\n",
       "\n",
       ".sk-estimator-doc-link:hover span {\n",
       "  display: block;\n",
       "}\n",
       "\n",
       "/* \"?\"-specific style due to the `<a>` HTML tag */\n",
       "\n",
       "#sk-container-id-1 a.estimator_doc_link {\n",
       "  float: right;\n",
       "  font-size: 1rem;\n",
       "  line-height: 1em;\n",
       "  font-family: monospace;\n",
       "  background-color: var(--sklearn-color-background);\n",
       "  border-radius: 1rem;\n",
       "  height: 1rem;\n",
       "  width: 1rem;\n",
       "  text-decoration: none;\n",
       "  /* unfitted */\n",
       "  color: var(--sklearn-color-unfitted-level-1);\n",
       "  border: var(--sklearn-color-unfitted-level-1) 1pt solid;\n",
       "}\n",
       "\n",
       "#sk-container-id-1 a.estimator_doc_link.fitted {\n",
       "  /* fitted */\n",
       "  border: var(--sklearn-color-fitted-level-1) 1pt solid;\n",
       "  color: var(--sklearn-color-fitted-level-1);\n",
       "}\n",
       "\n",
       "/* On hover */\n",
       "#sk-container-id-1 a.estimator_doc_link:hover {\n",
       "  /* unfitted */\n",
       "  background-color: var(--sklearn-color-unfitted-level-3);\n",
       "  color: var(--sklearn-color-background);\n",
       "  text-decoration: none;\n",
       "}\n",
       "\n",
       "#sk-container-id-1 a.estimator_doc_link.fitted:hover {\n",
       "  /* fitted */\n",
       "  background-color: var(--sklearn-color-fitted-level-3);\n",
       "}\n",
       "\n",
       ".estimator-table summary {\n",
       "    padding: .5rem;\n",
       "    font-family: monospace;\n",
       "    cursor: pointer;\n",
       "}\n",
       "\n",
       ".estimator-table details[open] {\n",
       "    padding-left: 0.1rem;\n",
       "    padding-right: 0.1rem;\n",
       "    padding-bottom: 0.3rem;\n",
       "}\n",
       "\n",
       ".estimator-table .parameters-table {\n",
       "    margin-left: auto !important;\n",
       "    margin-right: auto !important;\n",
       "}\n",
       "\n",
       ".estimator-table .parameters-table tr:nth-child(odd) {\n",
       "    background-color: #fff;\n",
       "}\n",
       "\n",
       ".estimator-table .parameters-table tr:nth-child(even) {\n",
       "    background-color: #f6f6f6;\n",
       "}\n",
       "\n",
       ".estimator-table .parameters-table tr:hover {\n",
       "    background-color: #e0e0e0;\n",
       "}\n",
       "\n",
       ".estimator-table table td {\n",
       "    border: 1px solid rgba(106, 105, 104, 0.232);\n",
       "}\n",
       "\n",
       ".user-set td {\n",
       "    color:rgb(255, 94, 0);\n",
       "    text-align: left;\n",
       "}\n",
       "\n",
       ".user-set td.value pre {\n",
       "    color:rgb(255, 94, 0) !important;\n",
       "    background-color: transparent !important;\n",
       "}\n",
       "\n",
       ".default td {\n",
       "    color: black;\n",
       "    text-align: left;\n",
       "}\n",
       "\n",
       ".user-set td i,\n",
       ".default td i {\n",
       "    color: black;\n",
       "}\n",
       "\n",
       ".copy-paste-icon {\n",
       "    background-image: url(data:image/svg+xml;base64,PHN2ZyB4bWxucz0iaHR0cDovL3d3dy53My5vcmcvMjAwMC9zdmciIHZpZXdCb3g9IjAgMCA0NDggNTEyIj48IS0tIUZvbnQgQXdlc29tZSBGcmVlIDYuNy4yIGJ5IEBmb250YXdlc29tZSAtIGh0dHBzOi8vZm9udGF3ZXNvbWUuY29tIExpY2Vuc2UgLSBodHRwczovL2ZvbnRhd2Vzb21lLmNvbS9saWNlbnNlL2ZyZWUgQ29weXJpZ2h0IDIwMjUgRm9udGljb25zLCBJbmMuLS0+PHBhdGggZD0iTTIwOCAwTDMzMi4xIDBjMTIuNyAwIDI0LjkgNS4xIDMzLjkgMTQuMWw2Ny45IDY3LjljOSA5IDE0LjEgMjEuMiAxNC4xIDMzLjlMNDQ4IDMzNmMwIDI2LjUtMjEuNSA0OC00OCA0OGwtMTkyIDBjLTI2LjUgMC00OC0yMS41LTQ4LTQ4bDAtMjg4YzAtMjYuNSAyMS41LTQ4IDQ4LTQ4ek00OCAxMjhsODAgMCAwIDY0LTY0IDAgMCAyNTYgMTkyIDAgMC0zMiA2NCAwIDAgNDhjMCAyNi41LTIxLjUgNDgtNDggNDhMNDggNTEyYy0yNi41IDAtNDgtMjEuNS00OC00OEwwIDE3NmMwLTI2LjUgMjEuNS00OCA0OC00OHoiLz48L3N2Zz4=);\n",
       "    background-repeat: no-repeat;\n",
       "    background-size: 14px 14px;\n",
       "    background-position: 0;\n",
       "    display: inline-block;\n",
       "    width: 14px;\n",
       "    height: 14px;\n",
       "    cursor: pointer;\n",
       "}\n",
       "</style><body><div id=\"sk-container-id-1\" class=\"sk-top-container\"><div class=\"sk-text-repr-fallback\"><pre>LinearRegression()</pre><b>In a Jupyter environment, please rerun this cell to show the HTML representation or trust the notebook. <br />On GitHub, the HTML representation is unable to render, please try loading this page with nbviewer.org.</b></div><div class=\"sk-container\" hidden><div class=\"sk-item\"><div class=\"sk-estimator fitted sk-toggleable\"><input class=\"sk-toggleable__control sk-hidden--visually\" id=\"sk-estimator-id-1\" type=\"checkbox\" checked><label for=\"sk-estimator-id-1\" class=\"sk-toggleable__label fitted sk-toggleable__label-arrow\"><div><div>LinearRegression</div></div><div><a class=\"sk-estimator-doc-link fitted\" rel=\"noreferrer\" target=\"_blank\" href=\"https://scikit-learn.org/1.7/modules/generated/sklearn.linear_model.LinearRegression.html\">?<span>Documentation for LinearRegression</span></a><span class=\"sk-estimator-doc-link fitted\">i<span>Fitted</span></span></div></label><div class=\"sk-toggleable__content fitted\" data-param-prefix=\"\">\n",
       "        <div class=\"estimator-table\">\n",
       "            <details>\n",
       "                <summary>Parameters</summary>\n",
       "                <table class=\"parameters-table\">\n",
       "                  <tbody>\n",
       "                    \n",
       "        <tr class=\"default\">\n",
       "            <td><i class=\"copy-paste-icon\"\n",
       "                 onclick=\"copyToClipboard('fit_intercept',\n",
       "                          this.parentElement.nextElementSibling)\"\n",
       "            ></i></td>\n",
       "            <td class=\"param\">fit_intercept&nbsp;</td>\n",
       "            <td class=\"value\">True</td>\n",
       "        </tr>\n",
       "    \n",
       "\n",
       "        <tr class=\"default\">\n",
       "            <td><i class=\"copy-paste-icon\"\n",
       "                 onclick=\"copyToClipboard('copy_X',\n",
       "                          this.parentElement.nextElementSibling)\"\n",
       "            ></i></td>\n",
       "            <td class=\"param\">copy_X&nbsp;</td>\n",
       "            <td class=\"value\">True</td>\n",
       "        </tr>\n",
       "    \n",
       "\n",
       "        <tr class=\"default\">\n",
       "            <td><i class=\"copy-paste-icon\"\n",
       "                 onclick=\"copyToClipboard('tol',\n",
       "                          this.parentElement.nextElementSibling)\"\n",
       "            ></i></td>\n",
       "            <td class=\"param\">tol&nbsp;</td>\n",
       "            <td class=\"value\">1e-06</td>\n",
       "        </tr>\n",
       "    \n",
       "\n",
       "        <tr class=\"default\">\n",
       "            <td><i class=\"copy-paste-icon\"\n",
       "                 onclick=\"copyToClipboard('n_jobs',\n",
       "                          this.parentElement.nextElementSibling)\"\n",
       "            ></i></td>\n",
       "            <td class=\"param\">n_jobs&nbsp;</td>\n",
       "            <td class=\"value\">None</td>\n",
       "        </tr>\n",
       "    \n",
       "\n",
       "        <tr class=\"default\">\n",
       "            <td><i class=\"copy-paste-icon\"\n",
       "                 onclick=\"copyToClipboard('positive',\n",
       "                          this.parentElement.nextElementSibling)\"\n",
       "            ></i></td>\n",
       "            <td class=\"param\">positive&nbsp;</td>\n",
       "            <td class=\"value\">False</td>\n",
       "        </tr>\n",
       "    \n",
       "                  </tbody>\n",
       "                </table>\n",
       "            </details>\n",
       "        </div>\n",
       "    </div></div></div></div></div><script>function copyToClipboard(text, element) {\n",
       "    // Get the parameter prefix from the closest toggleable content\n",
       "    const toggleableContent = element.closest('.sk-toggleable__content');\n",
       "    const paramPrefix = toggleableContent ? toggleableContent.dataset.paramPrefix : '';\n",
       "    const fullParamName = paramPrefix ? `${paramPrefix}${text}` : text;\n",
       "\n",
       "    const originalStyle = element.style;\n",
       "    const computedStyle = window.getComputedStyle(element);\n",
       "    const originalWidth = computedStyle.width;\n",
       "    const originalHTML = element.innerHTML.replace('Copied!', '');\n",
       "\n",
       "    navigator.clipboard.writeText(fullParamName)\n",
       "        .then(() => {\n",
       "            element.style.width = originalWidth;\n",
       "            element.style.color = 'green';\n",
       "            element.innerHTML = \"Copied!\";\n",
       "\n",
       "            setTimeout(() => {\n",
       "                element.innerHTML = originalHTML;\n",
       "                element.style = originalStyle;\n",
       "            }, 2000);\n",
       "        })\n",
       "        .catch(err => {\n",
       "            console.error('Failed to copy:', err);\n",
       "            element.style.color = 'red';\n",
       "            element.innerHTML = \"Failed!\";\n",
       "            setTimeout(() => {\n",
       "                element.innerHTML = originalHTML;\n",
       "                element.style = originalStyle;\n",
       "            }, 2000);\n",
       "        });\n",
       "    return false;\n",
       "}\n",
       "\n",
       "document.querySelectorAll('.fa-regular.fa-copy').forEach(function(element) {\n",
       "    const toggleableContent = element.closest('.sk-toggleable__content');\n",
       "    const paramPrefix = toggleableContent ? toggleableContent.dataset.paramPrefix : '';\n",
       "    const paramName = element.parentElement.nextElementSibling.textContent.trim();\n",
       "    const fullParamName = paramPrefix ? `${paramPrefix}${paramName}` : paramName;\n",
       "\n",
       "    element.setAttribute('title', fullParamName);\n",
       "});\n",
       "</script></body>"
      ],
      "text/plain": [
       "LinearRegression()"
      ]
     },
     "execution_count": 10,
     "metadata": {},
     "output_type": "execute_result"
    }
   ],
   "source": [
    "reg.fit(X_train_scaled, y_train)"
   ]
  },
  {
   "cell_type": "markdown",
   "metadata": {},
   "source": [
    "#### Pour estimer la performance sur le sous-ensemble de test, il faut tout d'abord obtenir les prédictions pour  X_test"
   ]
  },
  {
   "cell_type": "code",
   "execution_count": 11,
   "metadata": {},
   "outputs": [],
   "source": [
    "y_pred = reg.predict(X_test_scaled)"
   ]
  },
  {
   "cell_type": "markdown",
   "metadata": {},
   "source": [
    "#### On peut maintenant calculer l'écart entre les vraies valeurs de test  (y_test)  et celles prédites par le modèle. Utilisons la RMSE/ MAE/ MAPE et R2 comme scores. Pour les 4 premières métriques, un score plus petit correspond à un meilleur modèle. C'est l'inverse pour R2, le coefficient de détermination. A noter que RMSE n'est pas contrainte."
   ]
  },
  {
   "cell_type": "code",
   "execution_count": 13,
   "metadata": {},
   "outputs": [
    {
     "name": "stdout",
     "output_type": "stream",
     "text": [
      "RMSE: 8716220.678022157\n",
      "MAE: 3826606.753194855\n",
      "MAPE: 1.2563542361864737\n",
      "R2: 0.4856188731316242\n"
     ]
    }
   ],
   "source": [
    "# Calcul des scores de performances\n",
    "rmse = np.sqrt(mean_squared_error(y_test, y_pred))\n",
    "mae = mean_absolute_error (y_test, y_pred)\n",
    "mape = mean_absolute_percentage_error(y_test, y_pred)\n",
    "r2 = r2_score(y_test, y_pred)\n",
    "\n",
    "\n",
    "print(f\"RMSE: {rmse}\")\n",
    "print(f\"MAE: {mae}\")\n",
    "print(f\"MAPE: {mape}\")\n",
    "print(f\"R2: {r2}\")"
   ]
  },
  {
   "cell_type": "markdown",
   "metadata": {},
   "source": [
    "Petite définitions des scores de performance :\n",
    "* RMSE (Root Mean Squared Error) : Erreur quadratique moyenne. Ça mesure l’écart moyen entre les prédictions et la réalité, en donnant plus de poids aux grosses erreurs. Plus c’est bas, mieux c’est.\n",
    "* MAE (Mean Absolute Error) : Erreur absolue moyenne. C’est l’écart moyen, sans mettre de poids supplémentaire aux grosses erreurs. Plus c’est bas, mieux c’est.\n",
    "* MAPE (Mean Absolute Percentage Error) : Erreur moyenne en pourcentage. Même principe que le MAE, mais en % de la valeur réelle.\n",
    "* R2(coefficient de détermination) : Mesure quelle proportion de la variance des données est expliquée par ton modèle. 1 = parfait, 0 = pas mieux que prédire la moyenne, négatif = pire que la moyenne."
   ]
  },
  {
   "cell_type": "markdown",
   "metadata": {},
   "source": [
    "Interprétation des scores :\n",
    "* RMSE : En moyenne, les prédictions s’écartent de la vraie valeur d’environ 8,7 millions. C'est beaucoup mais il ne faut pas oublier que notre target est la consommation d'énergie (grosse valeur)\n",
    "* MAE : L'erreur absolue moyenne est aussi  élevée, le modèle se trompe en moyenne de 3,8 millions.\n",
    "* MAPE : Les prédictions sont en moyenne à 125% de la valeur réelle.\n",
    "* R2 : moins de 50% est expliquée par le modèle\n",
    "\n",
    "Nous ne sommes pas dans une distribution normale, ce qui peut expliquer ces résultats."
   ]
  },
  {
   "cell_type": "markdown",
   "metadata": {},
   "source": [
    "### Refactoring : Utilisons la même démarche que ci-dessus mais en pouvant changer de modèle facilement"
   ]
  },
  {
   "cell_type": "markdown",
   "metadata": {},
   "source": [
    "#### Création d'une fonction pour pouvoir changer de modèle"
   ]
  },
  {
   "cell_type": "code",
   "execution_count": 14,
   "metadata": {},
   "outputs": [],
   "source": [
    "numerical_cols = [\n",
    "    'NumberofBuildings','NumberofFloors','PropertyGFATotal','PropertyGFAParking',\n",
    "    'NbSourcesEnergies','SecondUseRatio',\n",
    "    'ThirdUseRatio','AreaPerFloor']\n",
    "\n",
    "encoded_cols = [\n",
    "    'HasSteam','HasElectricity','HasGas','PrimaryPropertyType_Distribution_Center','PrimaryPropertyType_Hospital',\n",
    "    'PrimaryPropertyType_Hotel','PrimaryPropertyType_K_12_School','PrimaryPropertyType_Laboratory','PrimaryPropertyType_Large_Office',\n",
    "    'PrimaryPropertyType_Medical_Office','PrimaryPropertyType_Mixed_Use_Property','PrimaryPropertyType_Office','PrimaryPropertyType_Other',\n",
    "    'PrimaryPropertyType_Refrigerated_Warehouse','PrimaryPropertyType_Residence_Hall','PrimaryPropertyType_Restaurant','PrimaryPropertyType_Retail_Store',\n",
    "    'PrimaryPropertyType_Self_Storage_Facility','PrimaryPropertyType_Senior_Care_Community','PrimaryPropertyType_Small_and_Mid_Sized_Office',\n",
    "    'PrimaryPropertyType_Supermarket_Grocery_Store','PrimaryPropertyType_University','PrimaryPropertyType_Warehouse','PrimaryPropertyType_Worship_Facility',\n",
    "    'Neighborhood_BALLARD','Neighborhood_CENTRAL','Neighborhood_DELRIDGE','Neighborhood_DOWNTOWN','Neighborhood_EAST','Neighborhood_GREATER_DUWAMISH',\n",
    "    'Neighborhood_LAKE_UNION','Neighborhood_MAGNOLIA_QUEENANNE','Neighborhood_NORTH','Neighborhood_NORTHEAST','Neighborhood_NORTHWEST','Neighborhood_SOUTHEAST',\n",
    "    'Neighborhood_SOUTHWEST','UsageType_Bin','AgeGroup'\n",
    "    ]\n",
    "# Création de la fonction et je fige mes conditions\n",
    "def modelisation(model, building_clean_def, target_col=\"SiteEnergyUse(kBtu)\", test_size=0.2, random_state=42):\n",
    "    y = building_clean_def[target_col]\n",
    "    X = building_clean_def.drop(columns=[target_col])\n",
    "\n",
    "# Test en jeu d'apprentissage et de test\n",
    "    X_train, X_test, y_train, y_test = train_test_split(\n",
    "        X, y, test_size=test_size, random_state=random_state)\n",
    "\n",
    "# Standardisation de nos varibales non encodées\n",
    "    scaler = StandardScaler()\n",
    "    X_train_scaled_num = scaler.fit_transform(X_train[numerical_cols])\n",
    "    X_test_scaled_num = scaler.transform(X_test[numerical_cols])\n",
    "\n",
    "# Je reconstitue un nouveau dataframe\n",
    "    X_train_scaled = pd.concat([\n",
    "        pd.DataFrame(X_train_scaled_num, columns=numerical_cols, index=X_train.index),\n",
    "        X_train[encoded_cols]\n",
    "    ], axis=1)\n",
    "\n",
    "    X_test_scaled = pd.concat([\n",
    "        pd.DataFrame(X_test_scaled_num, columns=numerical_cols, index=X_test.index),\n",
    "        X_test[encoded_cols]\n",
    "    ], axis=1)\n",
    "\n",
    "\n",
    "# J'entraîne le modèle\n",
    "    model.fit(X_train_scaled, y_train)\n",
    "   \n",
    "    # Prédictions\n",
    "    y_pred = model.predict(X_test_scaled)\n",
    "\n",
    "# Calcul des indicateurs de performance\n",
    "    rmse = np.sqrt(mean_squared_error(y_test, y_pred))\n",
    "    mae = mean_absolute_error(y_test, y_pred)\n",
    "    mape = mean_absolute_percentage_error(y_test, y_pred)\n",
    "    r2 = r2_score(y_test, y_pred)\n",
    "\n",
    "\n",
    "    print(f\"Modèle : {model.__class__.__name__}\")\n",
    "    print(f\"RMSE : {rmse:.2f}\")\n",
    "    print(f\"MAE : {mae:.4f}\")\n",
    "    print(f\"MAPE : {mape:.4f}\")\n",
    "    print(f\"R² : {r2:.4f}\")\n",
    "\n",
    "    return model, rmse, mape"
   ]
  },
  {
   "cell_type": "code",
   "execution_count": 15,
   "metadata": {},
   "outputs": [
    {
     "name": "stdout",
     "output_type": "stream",
     "text": [
      "Modèle : LinearRegression\n",
      "RMSE : 8716220.68\n",
      "MAE : 3826606.7532\n",
      "MAPE : 1.2564\n",
      "R² : 0.4856\n"
     ]
    },
    {
     "data": {
      "text/plain": [
       "(LinearRegression(), np.float64(8716220.678022157), 1.2563542361864737)"
      ]
     },
     "execution_count": 15,
     "metadata": {},
     "output_type": "execute_result"
    }
   ],
   "source": [
    "# Analyse déjà effectuée\n",
    "modelisation(LinearRegression(), building_clean_def)"
   ]
  },
  {
   "cell_type": "markdown",
   "metadata": {},
   "source": [
    "#### Modèle Dummyregressor"
   ]
  },
  {
   "cell_type": "markdown",
   "metadata": {},
   "source": [
    "Le DummyRegressor est un modèle de \"base\" (ou \"naïf\") qui ne fait aucune analyse intelligente des données. Il sert de référence pour comparer avec d’autres modèles plus complexes."
   ]
  },
  {
   "cell_type": "code",
   "execution_count": 16,
   "metadata": {},
   "outputs": [
    {
     "name": "stdout",
     "output_type": "stream",
     "text": [
      "Modèle : DummyRegressor\n",
      "RMSE : 12158403.64\n",
      "MAE : 6912971.8060\n",
      "MAPE : 3.5900\n",
      "R² : -0.0009\n"
     ]
    },
    {
     "data": {
      "text/plain": [
       "(DummyRegressor(), np.float64(12158403.635978049), 3.5899776112902697)"
      ]
     },
     "execution_count": 16,
     "metadata": {},
     "output_type": "execute_result"
    }
   ],
   "source": [
    "modelisation(DummyRegressor(), building_clean_def)"
   ]
  },
  {
   "cell_type": "markdown",
   "metadata": {},
   "source": [
    "Interprétation des scores :\n",
    "* RMSE : En moyenne, le modèle se trompe de 12,2 millions sur ses prédictions.\n",
    "* MAE : L’erreur moyenne absolue est de 6,9 millions : c’est l’écart moyen entre la prédiction (la moyenne) et la vraie valeur.\n",
    "* MAPE : En moyenne, l’erreur représente 359% de la vraie valeur. Cela signifie que prédire la moyenne est imprécis, car la cible varie énormément.\n",
    "* R2 négatif : Le modèle n'est pas bon.\n",
    "\n",
    "Prédire la moyenne donne une erreur énorme, ce qui suggère que les valeurs de la cible sont très dispersées. Mais nous avons ici des données de consommation d'énergie, ce qui peut expliquer ces écarts énormes."
   ]
  },
  {
   "cell_type": "markdown",
   "metadata": {},
   "source": [
    "#### Modèle SVR\n",
    "* Le SVR est une variante des machines à vecteurs de support (SVM) adaptée à la régression. Contrairement à la régression linéaire, il ne cherche pas à minimiser l’erreur quadratique moyenne, mais à trouver une fonction qui reste à l’intérieur d’une \"marge\" (ε) autour des données, en tolérant un certain nombre d’erreurs."
   ]
  },
  {
   "cell_type": "code",
   "execution_count": 17,
   "metadata": {},
   "outputs": [
    {
     "name": "stdout",
     "output_type": "stream",
     "text": [
      "Modèle : SVR\n",
      "RMSE : 13090921.04\n",
      "MAE : 5962279.2733\n",
      "MAPE : 1.2056\n",
      "R² : -0.1603\n"
     ]
    },
    {
     "data": {
      "text/plain": [
       "(SVR(), np.float64(13090921.037988363), 1.2056106795023986)"
      ]
     },
     "execution_count": 17,
     "metadata": {},
     "output_type": "execute_result"
    }
   ],
   "source": [
    "modelisation(SVR(), building_clean_def)"
   ]
  },
  {
   "cell_type": "markdown",
   "metadata": {},
   "source": [
    "Interprétation des scores :\n",
    "* RMSE : L’erreur quadratique moyenne est de 13,1 millions. C’est une amélioration par rapport aux précédents modèles, mais reste élevée en valeur absolue.\n",
    "* MAE : L’erreur absolue moyenne est de 6 millions. C’est l’erreur moyenne.\n",
    "* MAPE : En moyenne, les prédictions s’écartent de 120% de la valeur réelle. Encore très elevé.\n",
    "* R2 négtaif : le modèle n'est pas bon\n",
    "\n",
    "Le modèle n'est pas bon."
   ]
  },
  {
   "cell_type": "markdown",
   "metadata": {},
   "source": [
    "#### Modèle RandomForestRegressor\n",
    "* Le Random Forest est un modèle d’apprentissage automatique qui combine plusieurs arbres de décision. Chaque arbre est entraîné sur un sous-ensemble aléatoire des données et des features, puis la prédiction finale est la moyenne des prédictions de tous les arbres."
   ]
  },
  {
   "cell_type": "code",
   "execution_count": 18,
   "metadata": {},
   "outputs": [
    {
     "name": "stdout",
     "output_type": "stream",
     "text": [
      "Modèle : RandomForestRegressor\n",
      "RMSE : 6572533.67\n",
      "MAE : 3178146.2844\n",
      "MAPE : 0.8173\n",
      "R² : 0.7075\n"
     ]
    },
    {
     "data": {
      "text/plain": [
       "(RandomForestRegressor(), np.float64(6572533.669984593), 0.817261274313868)"
      ]
     },
     "execution_count": 18,
     "metadata": {},
     "output_type": "execute_result"
    }
   ],
   "source": [
    "modelisation(RandomForestRegressor(), building_clean_def)"
   ]
  },
  {
   "cell_type": "markdown",
   "metadata": {},
   "source": [
    "Interprétation des scores :\n",
    "* RMSE : L’erreur quadratique moyenne est de 6.5 millions. C’est une amélioration par rapport au SVR, mais le RMSE reste sensible aux grosses erreurs.\n",
    "* MAE : L’erreur absolue moyenne est de 3 millions.\n",
    "* MAPE : L’erreur moyenne en pourcentage est de 82%. Toujours élevé, c’est une  amélioration par rapport au deux précédents modèles.\n",
    "* R2 : 70.75% de la variance de la consommation est expliquée par le modèle. C’est une  amélioration par rapport aux précédents modèles\n",
    "\n"
   ]
  },
  {
   "cell_type": "markdown",
   "metadata": {},
   "source": [
    "### J'utilise désormais la technique de validation croisée pour confirmer ou non les résultats vu ci-dessus"
   ]
  },
  {
   "cell_type": "markdown",
   "metadata": {},
   "source": [
    "* cross_validate est une fonction qui permet d’évaluer la performance d’un modèle de manière fiable en utilisant la technique de validation croisée. La validation croisée consiste à découper les données en plusieurs parties appelées folds (par exemple 5 parties)."
   ]
  },
  {
   "cell_type": "markdown",
   "metadata": {},
   "source": [
    "#### Création d'une fonction pour tester tous les modèles demandées"
   ]
  },
  {
   "cell_type": "markdown",
   "metadata": {},
   "source": [
    "#### Réalisons notre cross_validate étape par étape"
   ]
  },
  {
   "cell_type": "markdown",
   "metadata": {},
   "source": [
    "* J'enregistre mes colonnes"
   ]
  },
  {
   "cell_type": "code",
   "execution_count": 19,
   "metadata": {},
   "outputs": [],
   "source": [
    "numerical_cols = [\n",
    "    'NumberofBuildings','NumberofFloors','PropertyGFATotal','PropertyGFAParking',\n",
    "    'NbSourcesEnergies','SecondUseRatio',\n",
    "    'ThirdUseRatio','AreaPerFloor']\n",
    "\n",
    "encoded_cols = [\n",
    "    'HasSteam','HasElectricity','HasGas','PrimaryPropertyType_Distribution_Center','PrimaryPropertyType_Hospital',\n",
    "    'PrimaryPropertyType_Hotel','PrimaryPropertyType_K_12_School','PrimaryPropertyType_Laboratory','PrimaryPropertyType_Large_Office',\n",
    "    'PrimaryPropertyType_Medical_Office','PrimaryPropertyType_Mixed_Use_Property','PrimaryPropertyType_Office','PrimaryPropertyType_Other',\n",
    "    'PrimaryPropertyType_Refrigerated_Warehouse','PrimaryPropertyType_Residence_Hall','PrimaryPropertyType_Restaurant','PrimaryPropertyType_Retail_Store',\n",
    "    'PrimaryPropertyType_Self_Storage_Facility','PrimaryPropertyType_Senior_Care_Community','PrimaryPropertyType_Small_and_Mid_Sized_Office',\n",
    "    'PrimaryPropertyType_Supermarket_Grocery_Store','PrimaryPropertyType_University','PrimaryPropertyType_Warehouse','PrimaryPropertyType_Worship_Facility',\n",
    "    'Neighborhood_BALLARD','Neighborhood_CENTRAL','Neighborhood_DELRIDGE','Neighborhood_DOWNTOWN','Neighborhood_EAST','Neighborhood_GREATER_DUWAMISH',\n",
    "    'Neighborhood_LAKE_UNION','Neighborhood_MAGNOLIA_QUEENANNE','Neighborhood_NORTH','Neighborhood_NORTHEAST','Neighborhood_NORTHWEST','Neighborhood_SOUTHEAST',\n",
    "    'Neighborhood_SOUTHWEST','UsageType_Bin','AgeGroup'\n",
    "    ]"
   ]
  },
  {
   "cell_type": "markdown",
   "metadata": {},
   "source": [
    "* Je sépare X et y (target déjà en log)"
   ]
  },
  {
   "cell_type": "code",
   "execution_count": 20,
   "metadata": {},
   "outputs": [],
   "source": [
    "y = building_clean_def[\"SiteEnergyUse(kBtu)\"]\n",
    "X = building_clean_def.drop(columns=[\"SiteEnergyUse(kBtu)\"])"
   ]
  },
  {
   "cell_type": "markdown",
   "metadata": {},
   "source": [
    "* Je split mon jeu en apprentissage et en test"
   ]
  },
  {
   "cell_type": "code",
   "execution_count": 21,
   "metadata": {},
   "outputs": [],
   "source": [
    "X_train, X_test, y_train, y_test = train_test_split(\n",
    "    X, y, test_size=0.2, random_state=42\n",
    ")"
   ]
  },
  {
   "cell_type": "markdown",
   "metadata": {},
   "source": [
    "* Scaling uniquement des colonnes numériques"
   ]
  },
  {
   "cell_type": "code",
   "execution_count": 22,
   "metadata": {},
   "outputs": [],
   "source": [
    "scaler = StandardScaler()\n",
    "X_scaled_num = scaler.fit_transform(X[numerical_cols])"
   ]
  },
  {
   "cell_type": "markdown",
   "metadata": {},
   "source": [
    "* On applique StandardScaler seulement aux colonnes numériques\n",
    "* On laisse passer les colonnes encodées sans modification (pas besoin de scaler)\n",
    "* Utilisation de ColumnTransformer"
   ]
  },
  {
   "cell_type": "code",
   "execution_count": 23,
   "metadata": {},
   "outputs": [],
   "source": [
    "preprocessor = ColumnTransformer(\n",
    "    transformers=[\n",
    "        ('num', StandardScaler(), numerical_cols),\n",
    "        ('cat', 'passthrough', encoded_cols)\n",
    "    ])"
   ]
  },
  {
   "cell_type": "markdown",
   "metadata": {},
   "source": [
    "* On transforme la colonne X"
   ]
  },
  {
   "cell_type": "code",
   "execution_count": 24,
   "metadata": {},
   "outputs": [],
   "source": [
    "X_processed = preprocessor.fit_transform(X)"
   ]
  },
  {
   "cell_type": "markdown",
   "metadata": {},
   "source": [
    "* On doit créer de nouveau un dataframe"
   ]
  },
  {
   "cell_type": "code",
   "execution_count": 25,
   "metadata": {},
   "outputs": [],
   "source": [
    "columns_order = numerical_cols + encoded_cols\n",
    "X_processed_df = pd.DataFrame(X_processed, columns=columns_order, index=X.index)"
   ]
  },
  {
   "cell_type": "markdown",
   "metadata": {},
   "source": [
    "* Fonctions inversées pour avoir nos valeurs brutes dans nos scores"
   ]
  },
  {
   "cell_type": "code",
   "execution_count": 26,
   "metadata": {},
   "outputs": [],
   "source": [
    "def rmse_original(y_true, y_pred):\n",
    "    return np.sqrt(mean_squared_error(y_true, y_pred))\n",
    "\n",
    "def mae_original(y_true, y_pred):\n",
    "    return mean_absolute_error(y_true, y_pred)\n",
    "\n",
    "def mape_original(y_true, y_pred):\n",
    "    return mean_absolute_percentage_error(y_true, y_pred)\n",
    "\n",
    "def r2_original(y_true, y_pred):\n",
    "    return r2_score(y_true, y_pred)\n",
    "scoring = {\n",
    "    'RMSE': make_scorer(rmse_original, greater_is_better=False),\n",
    "    'MAE': make_scorer(mae_original, greater_is_better=False),\n",
    "    'MAPE': make_scorer(mape_original, greater_is_better=False),\n",
    "    'R2': make_scorer(r2_original, greater_is_better=True),\n",
    "\n",
    "}"
   ]
  },
  {
   "cell_type": "markdown",
   "metadata": {},
   "source": [
    "* Modèles à tester"
   ]
  },
  {
   "cell_type": "code",
   "execution_count": 27,
   "metadata": {},
   "outputs": [],
   "source": [
    "models = {\n",
    "    \"Dummy\": DummyRegressor(strategy=\"mean\"),\n",
    "    \"LinearRegression\": LinearRegression(),\n",
    "    \"RandomForest\": RandomForestRegressor(random_state=42),\n",
    "    \"SVR\": SVR()\n",
    "}"
   ]
  },
  {
   "cell_type": "markdown",
   "metadata": {},
   "source": [
    "* Cross-validation pour chaque modèle"
   ]
  },
  {
   "cell_type": "code",
   "execution_count": null,
   "metadata": {},
   "outputs": [
    {
     "name": "stdout",
     "output_type": "stream",
     "text": [
      "             Modèle                      RMSE                      MAE  \\\n",
      "0             Dummy  12924225.69 ± 4293821.59  7625895.45 ± 1906086.84   \n",
      "1  LinearRegression   7213238.51 ± 2799009.62  3682893.16 ± 1273239.65   \n",
      "2      RandomForest   7453920.69 ± 3164675.84  3380906.73 ± 1778543.95   \n",
      "3               SVR  13042258.49 ± 5279993.08  6043285.90 ± 3867254.99   \n",
      "\n",
      "          MAPE (%)              R2  \n",
      "0  445.62 ± 265.16  -0.2104 ± 0.17  \n",
      "1   142.94 ± 55.18   0.6398 ± 0.09  \n",
      "2    87.33 ± 12.32   0.6085 ± 0.16  \n",
      "3   158.11 ± 74.49  -0.1726 ± 0.20  \n"
     ]
    }
   ],
   "source": [
    "results_all = []\n",
    "\n",
    "for name, model in models.items():\n",
    "    cv_results = cross_validate(\n",
    "        model,\n",
    "        X_processed_df,\n",
    "        y,\n",
    "        cv=5,\n",
    "        scoring=scoring,\n",
    "        return_train_score=False\n",
    "    )\n",
    "    # Résultat des indicateurs avec l'écart type\n",
    "    results_all.append({\n",
    "        \"Modèle\": name,\n",
    "        \"RMSE\": f\"{-cv_results['test_RMSE'].mean():.2f} ± {cv_results['test_RMSE'].std():.2f}\",\n",
    "        \"MAE\": f\"{-cv_results['test_MAE'].mean():.2f} ± {cv_results['test_MAE'].std():.2f}\",\n",
    "        \"MAPE (%)\": f\"{-cv_results['test_MAPE'].mean()*100:.2f} ± {cv_results['test_MAPE'].std()*100:.2f}\",\n",
    "        \"R2\": f\"{cv_results['test_R2'].mean():.4f} ± {cv_results['test_R2'].std():.2f}\"\n",
    "})\n",
    "\n",
    "    \n",
    "df_results = pd.DataFrame(results_all)\n",
    "print(df_results)"
   ]
  },
  {
   "cell_type": "markdown",
   "metadata": {},
   "source": [
    "Ici, on retrouve deux modèles intéssants : LinearRegression et RandomForest\n",
    "* Meilleur RMSE et R2 pour le modèle linéaire\n",
    "* Meilleur MAE (donc MAPE aussi) pour le modèle d'arbres de décision\n",
    "\n",
    "Notre meilleur modèle ici est donc celui de LinearRegression"
   ]
  }
 ],
 "metadata": {
  "kernelspec": {
   "display_name": "florianschorer-py3.12",
   "language": "python",
   "name": "python3"
  },
  "language_info": {
   "codemirror_mode": {
    "name": "ipython",
    "version": 3
   },
   "file_extension": ".py",
   "mimetype": "text/x-python",
   "name": "python",
   "nbconvert_exporter": "python",
   "pygments_lexer": "ipython3",
   "version": "3.12.7"
  }
 },
 "nbformat": 4,
 "nbformat_minor": 2
}

{
 "cells": [
  {
   "cell_type": "markdown",
   "metadata": {},
   "source": [
    "# Anticipez les besoins en consommations de bâtiments"
   ]
  },
  {
   "cell_type": "markdown",
   "metadata": {},
   "source": [
    "## Etape 2 - Réalisez votre feature engineering"
   ]
  },
  {
   "cell_type": "markdown",
   "metadata": {},
   "source": [
    "* Importation des librairies nécessaires"
   ]
  },
  {
   "cell_type": "code",
   "execution_count": 2,
   "metadata": {},
   "outputs": [],
   "source": [
    "#Selection\n",
    "from sklearn.model_selection import (\n",
    "    train_test_split,\n",
    "    GridSearchCV, \n",
    "    cross_validate,\n",
    ")\n",
    "from sklearn.metrics import mean_squared_error, r2_score, mean_absolute_error \n",
    "from sklearn.inspection import permutation_importance\n",
    "\n",
    "#Preprocess\n",
    "from sklearn.compose import ColumnTransformer\n",
    "from sklearn.preprocessing import LabelEncoder, OneHotEncoder, StandardScaler\n",
    "\n",
    "#Modèles\n",
    "from sklearn.dummy import DummyRegressor\n",
    "from sklearn.linear_model import LinearRegression\n",
    "from sklearn.svm import SVR\n",
    "from sklearn.ensemble import RandomForestRegressor"
   ]
  },
  {
   "cell_type": "markdown",
   "metadata": {},
   "source": [
    "### Reprendre les éléments de notre notebook de l'étape 1"
   ]
  },
  {
   "cell_type": "code",
   "execution_count": null,
   "metadata": {},
   "outputs": [],
   "source": [
    "import pandas as pd\n",
    "import numpy as np\n",
    "import numpy as np\n",
    "import seaborn as sns\n",
    "import matplotlib.pyplot as plt\n",
    "building_clean = pd.read_csv(\"../Data/Projet_3_etape1_clean.csv\")"
   ]
  },
  {
   "cell_type": "markdown",
   "metadata": {},
   "source": [
    "#### Recommendation 1 : Essayer de couvrir, dans la création des features, plusieurs catégories d'informations du jeu de données (localisation, temporalité, structure du bâtiment, etc.)"
   ]
  },
  {
   "cell_type": "markdown",
   "metadata": {},
   "source": [
    "#### On affecte un nouveau nom à notre dataframe pour avoir nos données de l'analyse exploratoire sans l'étape 2 au cas où"
   ]
  },
  {
   "cell_type": "code",
   "execution_count": 4,
   "metadata": {},
   "outputs": [],
   "source": [
    "building_clean_second = building_clean"
   ]
  },
  {
   "cell_type": "code",
   "execution_count": 5,
   "metadata": {},
   "outputs": [
    {
     "name": "stdout",
     "output_type": "stream",
     "text": [
      "<class 'pandas.core.frame.DataFrame'>\n",
      "RangeIndex: 1601 entries, 0 to 1600\n",
      "Data columns (total 20 columns):\n",
      " #   Column                           Non-Null Count  Dtype  \n",
      "---  ------                           --------------  -----  \n",
      " 0   OSEBuildingID                    1601 non-null   int64  \n",
      " 1   DataYear                         1601 non-null   int64  \n",
      " 2   BuildingType                     1601 non-null   object \n",
      " 3   PrimaryPropertyType              1601 non-null   object \n",
      " 4   Neighborhood                     1601 non-null   object \n",
      " 5   YearBuilt                        1601 non-null   int64  \n",
      " 6   NumberofBuildings                1601 non-null   float64\n",
      " 7   NumberofFloors                   1601 non-null   int64  \n",
      " 8   PropertyGFATotal                 1601 non-null   int64  \n",
      " 9   PropertyGFAParking               1601 non-null   int64  \n",
      " 10  PropertyGFABuilding(s)           1601 non-null   int64  \n",
      " 11  ListOfAllPropertyUseTypes        1601 non-null   object \n",
      " 12  LargestPropertyUseType           1597 non-null   object \n",
      " 13  SecondLargestPropertyUseTypeGFA  818 non-null    float64\n",
      " 14  ThirdLargestPropertyUseTypeGFA   326 non-null    float64\n",
      " 15  SiteEnergyUse(kBtu)              1601 non-null   float64\n",
      " 16  SteamUse(kBtu)                   1601 non-null   float64\n",
      " 17  Electricity(kBtu)                1601 non-null   float64\n",
      " 18  NaturalGas(kBtu)                 1601 non-null   float64\n",
      " 19  UsageType                        1601 non-null   object \n",
      "dtypes: float64(7), int64(7), object(6)\n",
      "memory usage: 250.3+ KB\n"
     ]
    }
   ],
   "source": [
    "building_clean_second.info()"
   ]
  },
  {
   "cell_type": "markdown",
   "metadata": {},
   "source": [
    "* Petit récapitulatif"
   ]
  },
  {
   "cell_type": "code",
   "execution_count": 6,
   "metadata": {},
   "outputs": [
    {
     "name": "stdout",
     "output_type": "stream",
     "text": [
      "Nous retrouvons 1601 lignes et nous avons 20 colonnes avant le nettoyage des données avant transformation.\n"
     ]
    }
   ],
   "source": [
    "data_avant_transformation = building_clean_second.shape\n",
    "print('Nous retrouvons',data_avant_transformation[0],'lignes et nous avons',data_avant_transformation[1],'colonnes avant le nettoyage des données avant transformation.')"
   ]
  },
  {
   "cell_type": "markdown",
   "metadata": {},
   "source": [
    "#### Ce qui pourrait être intéressant comme création de features :\n",
    "##### Temporalité :\n",
    "* Création d'une variable pour avoir l'âge du bâtiment : DataYear - YearBuilt\n",
    "##### Structure du bâtiment :\n",
    "* Déterminer le type de ListOfAllPropertyUseTypes\n",
    "##### Source d'énergies :\n",
    "* Nombre de sources d'énergies utilisées par le bâtiment\n",
    "##### Ratio :\n",
    "* Surface par étage\n",
    "* Ratio entre les mètres carrés du parking vs le total\n",
    "* Ratio entre la seconde plus grande utilisation et la surface totale\n",
    "* Ratio entre la troisième plus grande utilisation et la surface totale\n",
    "* Ratio entre le nombre d'étages et la capacité du building"
   ]
  },
  {
   "cell_type": "markdown",
   "metadata": {},
   "source": [
    "#### Recommendation 2 : Il peut être intéressant d'indiquer à un modèle si un bâtiment a plusieurs types d'usages via des features binaires ou des proportions."
   ]
  },
  {
   "cell_type": "markdown",
   "metadata": {},
   "source": [
    "#### Nombre d'utilisations du bâtiment"
   ]
  },
  {
   "cell_type": "code",
   "execution_count": 7,
   "metadata": {},
   "outputs": [],
   "source": [
    "building_clean_second['NumPropertyUseTypes'] = building_clean_second['ListOfAllPropertyUseTypes'].fillna('').apply(\n",
    "    lambda x: len([use.strip() for use in x.split(',') if use.strip()])\n",
    ")"
   ]
  },
  {
   "cell_type": "code",
   "execution_count": 8,
   "metadata": {},
   "outputs": [
    {
     "data": {
      "text/plain": [
       "array([ 1,  3,  2,  5,  4,  6, 11, 13,  9,  8,  7])"
      ]
     },
     "execution_count": 8,
     "metadata": {},
     "output_type": "execute_result"
    }
   ],
   "source": [
    "building_clean_second['NumPropertyUseTypes'].unique()"
   ]
  },
  {
   "cell_type": "code",
   "execution_count": 9,
   "metadata": {},
   "outputs": [
    {
     "data": {
      "text/plain": [
       "NumPropertyUseTypes\n",
       "1     781\n",
       "2     490\n",
       "3     196\n",
       "4      73\n",
       "5      37\n",
       "6      17\n",
       "9       2\n",
       "7       2\n",
       "11      1\n",
       "13      1\n",
       "8       1\n",
       "Name: count, dtype: int64"
      ]
     },
     "execution_count": 9,
     "metadata": {},
     "output_type": "execute_result"
    }
   ],
   "source": [
    "building_clean_second['NumPropertyUseTypes'].value_counts()"
   ]
  },
  {
   "cell_type": "markdown",
   "metadata": {},
   "source": [
    "* On a donc maintenant dans notre dataframe  le nombre total d'usage par bâtiment"
   ]
  },
  {
   "cell_type": "markdown",
   "metadata": {},
   "source": [
    "#### On peut supprimer la colonne ListOfAllPropertyUseTypes"
   ]
  },
  {
   "cell_type": "code",
   "execution_count": 10,
   "metadata": {},
   "outputs": [
    {
     "name": "stdout",
     "output_type": "stream",
     "text": [
      "<class 'pandas.core.frame.DataFrame'>\n",
      "RangeIndex: 1601 entries, 0 to 1600\n",
      "Data columns (total 20 columns):\n",
      " #   Column                           Non-Null Count  Dtype  \n",
      "---  ------                           --------------  -----  \n",
      " 0   OSEBuildingID                    1601 non-null   int64  \n",
      " 1   DataYear                         1601 non-null   int64  \n",
      " 2   BuildingType                     1601 non-null   object \n",
      " 3   PrimaryPropertyType              1601 non-null   object \n",
      " 4   Neighborhood                     1601 non-null   object \n",
      " 5   YearBuilt                        1601 non-null   int64  \n",
      " 6   NumberofBuildings                1601 non-null   float64\n",
      " 7   NumberofFloors                   1601 non-null   int64  \n",
      " 8   PropertyGFATotal                 1601 non-null   int64  \n",
      " 9   PropertyGFAParking               1601 non-null   int64  \n",
      " 10  PropertyGFABuilding(s)           1601 non-null   int64  \n",
      " 11  LargestPropertyUseType           1597 non-null   object \n",
      " 12  SecondLargestPropertyUseTypeGFA  818 non-null    float64\n",
      " 13  ThirdLargestPropertyUseTypeGFA   326 non-null    float64\n",
      " 14  SiteEnergyUse(kBtu)              1601 non-null   float64\n",
      " 15  SteamUse(kBtu)                   1601 non-null   float64\n",
      " 16  Electricity(kBtu)                1601 non-null   float64\n",
      " 17  NaturalGas(kBtu)                 1601 non-null   float64\n",
      " 18  UsageType                        1601 non-null   object \n",
      " 19  NumPropertyUseTypes              1601 non-null   int64  \n",
      "dtypes: float64(7), int64(8), object(5)\n",
      "memory usage: 250.3+ KB\n"
     ]
    }
   ],
   "source": [
    "a_supprimer = ['ListOfAllPropertyUseTypes']\n",
    "building_clean_second = building_clean_second.drop (columns=a_supprimer)\n",
    "building_clean_second.info()\n"
   ]
  },
  {
   "cell_type": "markdown",
   "metadata": {},
   "source": [
    "* On a 1 colonne supprimée et 1 ajoutée"
   ]
  },
  {
   "cell_type": "markdown",
   "metadata": {},
   "source": [
    "* Petit récapitulatif"
   ]
  },
  {
   "cell_type": "code",
   "execution_count": 11,
   "metadata": {},
   "outputs": [
    {
     "name": "stdout",
     "output_type": "stream",
     "text": [
      "Nous retrouvons 1601 lignes et nous avons 20 colonnes avant le nettoyage des données avant transformation.\n",
      "Nous retrouvons 1601 lignes et nous avons 20 colonnes après ajout et suppression d'une colonne liée au nombre de type de bâtiment.\n"
     ]
    }
   ],
   "source": [
    "data_avant_transformation_un = building_clean_second.shape\n",
    "print('Nous retrouvons',data_avant_transformation[0],'lignes et nous avons',data_avant_transformation[1],'colonnes avant le nettoyage des données avant transformation.')\n",
    "print('Nous retrouvons',data_avant_transformation_un[0],\"lignes et nous avons\",data_avant_transformation_un[1],\"colonnes après ajout et suppression d'une colonne liée au nombre de type de bâtiment.\")"
   ]
  },
  {
   "cell_type": "markdown",
   "metadata": {},
   "source": [
    "#### Création de la variable âge des bâtiments à partir de l'année de référence et de l'année de construction"
   ]
  },
  {
   "cell_type": "markdown",
   "metadata": {},
   "source": [
    "* Ja calcule l'âge des bâtiments"
   ]
  },
  {
   "cell_type": "code",
   "execution_count": 12,
   "metadata": {},
   "outputs": [],
   "source": [
    "building_clean_second['BuildingAge'] = building_clean_second['DataYear']-building_clean_second['YearBuilt']"
   ]
  },
  {
   "cell_type": "markdown",
   "metadata": {},
   "source": [
    "* Vérification de l'ajout des nouvelles colonnes"
   ]
  },
  {
   "cell_type": "code",
   "execution_count": 13,
   "metadata": {},
   "outputs": [
    {
     "data": {
      "text/html": [
       "<div>\n",
       "<style scoped>\n",
       "    .dataframe tbody tr th:only-of-type {\n",
       "        vertical-align: middle;\n",
       "    }\n",
       "\n",
       "    .dataframe tbody tr th {\n",
       "        vertical-align: top;\n",
       "    }\n",
       "\n",
       "    .dataframe thead th {\n",
       "        text-align: right;\n",
       "    }\n",
       "</style>\n",
       "<table border=\"1\" class=\"dataframe\">\n",
       "  <thead>\n",
       "    <tr style=\"text-align: right;\">\n",
       "      <th></th>\n",
       "      <th>OSEBuildingID</th>\n",
       "      <th>DataYear</th>\n",
       "      <th>BuildingType</th>\n",
       "      <th>PrimaryPropertyType</th>\n",
       "      <th>Neighborhood</th>\n",
       "      <th>YearBuilt</th>\n",
       "      <th>NumberofBuildings</th>\n",
       "      <th>NumberofFloors</th>\n",
       "      <th>PropertyGFATotal</th>\n",
       "      <th>PropertyGFAParking</th>\n",
       "      <th>...</th>\n",
       "      <th>LargestPropertyUseType</th>\n",
       "      <th>SecondLargestPropertyUseTypeGFA</th>\n",
       "      <th>ThirdLargestPropertyUseTypeGFA</th>\n",
       "      <th>SiteEnergyUse(kBtu)</th>\n",
       "      <th>SteamUse(kBtu)</th>\n",
       "      <th>Electricity(kBtu)</th>\n",
       "      <th>NaturalGas(kBtu)</th>\n",
       "      <th>UsageType</th>\n",
       "      <th>NumPropertyUseTypes</th>\n",
       "      <th>BuildingAge</th>\n",
       "    </tr>\n",
       "  </thead>\n",
       "  <tbody>\n",
       "    <tr>\n",
       "      <th>0</th>\n",
       "      <td>1</td>\n",
       "      <td>2016</td>\n",
       "      <td>NonResidential</td>\n",
       "      <td>Hotel</td>\n",
       "      <td>DOWNTOWN</td>\n",
       "      <td>1927</td>\n",
       "      <td>1.0</td>\n",
       "      <td>12</td>\n",
       "      <td>88434</td>\n",
       "      <td>0</td>\n",
       "      <td>...</td>\n",
       "      <td>Hotel</td>\n",
       "      <td>NaN</td>\n",
       "      <td>NaN</td>\n",
       "      <td>7226362.5</td>\n",
       "      <td>2003882.00</td>\n",
       "      <td>3946027.0</td>\n",
       "      <td>1276453.0</td>\n",
       "      <td>Mono_usage</td>\n",
       "      <td>1</td>\n",
       "      <td>89</td>\n",
       "    </tr>\n",
       "    <tr>\n",
       "      <th>1</th>\n",
       "      <td>2</td>\n",
       "      <td>2016</td>\n",
       "      <td>NonResidential</td>\n",
       "      <td>Hotel</td>\n",
       "      <td>DOWNTOWN</td>\n",
       "      <td>1996</td>\n",
       "      <td>1.0</td>\n",
       "      <td>11</td>\n",
       "      <td>103566</td>\n",
       "      <td>15064</td>\n",
       "      <td>...</td>\n",
       "      <td>Hotel</td>\n",
       "      <td>15064.0</td>\n",
       "      <td>4622.0</td>\n",
       "      <td>8387933.0</td>\n",
       "      <td>0.00</td>\n",
       "      <td>3242851.0</td>\n",
       "      <td>5145082.0</td>\n",
       "      <td>Multi_usage</td>\n",
       "      <td>3</td>\n",
       "      <td>20</td>\n",
       "    </tr>\n",
       "    <tr>\n",
       "      <th>2</th>\n",
       "      <td>3</td>\n",
       "      <td>2016</td>\n",
       "      <td>NonResidential</td>\n",
       "      <td>Hotel</td>\n",
       "      <td>DOWNTOWN</td>\n",
       "      <td>1969</td>\n",
       "      <td>1.0</td>\n",
       "      <td>41</td>\n",
       "      <td>956110</td>\n",
       "      <td>196718</td>\n",
       "      <td>...</td>\n",
       "      <td>Hotel</td>\n",
       "      <td>NaN</td>\n",
       "      <td>NaN</td>\n",
       "      <td>72587024.0</td>\n",
       "      <td>21566554.00</td>\n",
       "      <td>49526664.0</td>\n",
       "      <td>1493800.0</td>\n",
       "      <td>Mono_usage</td>\n",
       "      <td>1</td>\n",
       "      <td>47</td>\n",
       "    </tr>\n",
       "    <tr>\n",
       "      <th>3</th>\n",
       "      <td>5</td>\n",
       "      <td>2016</td>\n",
       "      <td>NonResidential</td>\n",
       "      <td>Hotel</td>\n",
       "      <td>DOWNTOWN</td>\n",
       "      <td>1926</td>\n",
       "      <td>1.0</td>\n",
       "      <td>10</td>\n",
       "      <td>61320</td>\n",
       "      <td>0</td>\n",
       "      <td>...</td>\n",
       "      <td>Hotel</td>\n",
       "      <td>NaN</td>\n",
       "      <td>NaN</td>\n",
       "      <td>6794584.0</td>\n",
       "      <td>2214446.25</td>\n",
       "      <td>2768924.0</td>\n",
       "      <td>1811213.0</td>\n",
       "      <td>Mono_usage</td>\n",
       "      <td>1</td>\n",
       "      <td>90</td>\n",
       "    </tr>\n",
       "    <tr>\n",
       "      <th>4</th>\n",
       "      <td>8</td>\n",
       "      <td>2016</td>\n",
       "      <td>NonResidential</td>\n",
       "      <td>Hotel</td>\n",
       "      <td>DOWNTOWN</td>\n",
       "      <td>1980</td>\n",
       "      <td>1.0</td>\n",
       "      <td>18</td>\n",
       "      <td>175580</td>\n",
       "      <td>62000</td>\n",
       "      <td>...</td>\n",
       "      <td>Hotel</td>\n",
       "      <td>68009.0</td>\n",
       "      <td>0.0</td>\n",
       "      <td>14172606.0</td>\n",
       "      <td>0.00</td>\n",
       "      <td>5368607.0</td>\n",
       "      <td>8803998.0</td>\n",
       "      <td>Multi_usage</td>\n",
       "      <td>3</td>\n",
       "      <td>36</td>\n",
       "    </tr>\n",
       "  </tbody>\n",
       "</table>\n",
       "<p>5 rows × 21 columns</p>\n",
       "</div>"
      ],
      "text/plain": [
       "   OSEBuildingID  DataYear    BuildingType PrimaryPropertyType Neighborhood  \\\n",
       "0              1      2016  NonResidential               Hotel     DOWNTOWN   \n",
       "1              2      2016  NonResidential               Hotel     DOWNTOWN   \n",
       "2              3      2016  NonResidential               Hotel     DOWNTOWN   \n",
       "3              5      2016  NonResidential               Hotel     DOWNTOWN   \n",
       "4              8      2016  NonResidential               Hotel     DOWNTOWN   \n",
       "\n",
       "   YearBuilt  NumberofBuildings  NumberofFloors  PropertyGFATotal  \\\n",
       "0       1927                1.0              12             88434   \n",
       "1       1996                1.0              11            103566   \n",
       "2       1969                1.0              41            956110   \n",
       "3       1926                1.0              10             61320   \n",
       "4       1980                1.0              18            175580   \n",
       "\n",
       "   PropertyGFAParking  ...  LargestPropertyUseType  \\\n",
       "0                   0  ...                   Hotel   \n",
       "1               15064  ...                   Hotel   \n",
       "2              196718  ...                   Hotel   \n",
       "3                   0  ...                   Hotel   \n",
       "4               62000  ...                   Hotel   \n",
       "\n",
       "  SecondLargestPropertyUseTypeGFA  ThirdLargestPropertyUseTypeGFA  \\\n",
       "0                             NaN                             NaN   \n",
       "1                         15064.0                          4622.0   \n",
       "2                             NaN                             NaN   \n",
       "3                             NaN                             NaN   \n",
       "4                         68009.0                             0.0   \n",
       "\n",
       "   SiteEnergyUse(kBtu)  SteamUse(kBtu)  Electricity(kBtu)  NaturalGas(kBtu)  \\\n",
       "0            7226362.5      2003882.00          3946027.0         1276453.0   \n",
       "1            8387933.0            0.00          3242851.0         5145082.0   \n",
       "2           72587024.0     21566554.00         49526664.0         1493800.0   \n",
       "3            6794584.0      2214446.25          2768924.0         1811213.0   \n",
       "4           14172606.0            0.00          5368607.0         8803998.0   \n",
       "\n",
       "     UsageType NumPropertyUseTypes  BuildingAge  \n",
       "0   Mono_usage                   1           89  \n",
       "1  Multi_usage                   3           20  \n",
       "2   Mono_usage                   1           47  \n",
       "3   Mono_usage                   1           90  \n",
       "4  Multi_usage                   3           36  \n",
       "\n",
       "[5 rows x 21 columns]"
      ]
     },
     "execution_count": 13,
     "metadata": {},
     "output_type": "execute_result"
    }
   ],
   "source": [
    "building_clean_second.head()"
   ]
  },
  {
   "cell_type": "markdown",
   "metadata": {},
   "source": [
    "#### On peut supprimer DataYear car nous avons une information plus intéressante désormais."
   ]
  },
  {
   "cell_type": "code",
   "execution_count": 14,
   "metadata": {},
   "outputs": [],
   "source": [
    "building_clean_second = building_clean_second.drop(columns=\"DataYear\")"
   ]
  },
  {
   "cell_type": "markdown",
   "metadata": {},
   "source": [
    "* Petit récapitulatif"
   ]
  },
  {
   "cell_type": "code",
   "execution_count": 15,
   "metadata": {},
   "outputs": [
    {
     "name": "stdout",
     "output_type": "stream",
     "text": [
      "Nous retrouvons 1601 lignes et nous avons 20 colonnes avant le nettoyage des données avant transformation.\n",
      "Nous retrouvons 1601 lignes et nous avons 20 colonnes après ajout et suppression d'une colonne liée au nombre de type de bâtiment.\n",
      "Nous retrouvons 1601 lignes et nous avons 20 colonnes après ajout de la colonne BuildingAge.\n"
     ]
    }
   ],
   "source": [
    "data_avant_transformation_deux = building_clean_second.shape\n",
    "print('Nous retrouvons',data_avant_transformation[0],'lignes et nous avons',data_avant_transformation[1],'colonnes avant le nettoyage des données avant transformation.')\n",
    "print('Nous retrouvons',data_avant_transformation_un[0],\"lignes et nous avons\",data_avant_transformation_un[1],\"colonnes après ajout et suppression d'une colonne liée au nombre de type de bâtiment.\")\n",
    "print('Nous retrouvons',data_avant_transformation_deux[0],\"lignes et nous avons\",data_avant_transformation_deux[1],\"colonnes après ajout de la colonne BuildingAge.\")"
   ]
  },
  {
   "cell_type": "markdown",
   "metadata": {},
   "source": [
    "#### Recommendation 4 : Les valeurs des sources d'énergies (gaz, électricité) ne peuvent pas être utilisées, car cela créerait du data leakage, mais rien ne nous empêche de créer des features indiquant quels types de sources d'énergie existent au sein de chaque bâtiment (ce sont des informations structurelles des bâtiments, indépendantes de l'intensité de la consommation en énergie)."
   ]
  },
  {
   "cell_type": "markdown",
   "metadata": {},
   "source": [
    "#### J'identifie si oui ou non le bâtiment utilise un type d'énergie"
   ]
  },
  {
   "cell_type": "code",
   "execution_count": 16,
   "metadata": {},
   "outputs": [],
   "source": [
    "building_clean_second['HasSteam'] = (building_clean_second['SteamUse(kBtu)'] > 0).astype(int)\n",
    "building_clean_second['HasElectricity'] = (building_clean_second['Electricity(kBtu)'] > 0).astype(int)\n",
    "building_clean_second['HasGas'] = (building_clean_second['NaturalGas(kBtu)'] > 0).astype(int)"
   ]
  },
  {
   "cell_type": "markdown",
   "metadata": {},
   "source": [
    "#### Il serait intéressant d'avoir le nombre de sources d'énergies par bâtiment. On fait la sommme de nos 3 colonnes que l'on vient d'ajouter."
   ]
  },
  {
   "cell_type": "code",
   "execution_count": 17,
   "metadata": {},
   "outputs": [],
   "source": [
    "building_clean_second['NbSourcesEnergies'] = (\n",
    "    building_clean_second['HasSteam'] + building_clean_second['HasElectricity'] + building_clean_second['HasGas']\n",
    ")\n",
    "    "
   ]
  },
  {
   "cell_type": "markdown",
   "metadata": {},
   "source": [
    "* Vérification des nouvelles colonnes"
   ]
  },
  {
   "cell_type": "code",
   "execution_count": 18,
   "metadata": {},
   "outputs": [
    {
     "data": {
      "text/html": [
       "<div>\n",
       "<style scoped>\n",
       "    .dataframe tbody tr th:only-of-type {\n",
       "        vertical-align: middle;\n",
       "    }\n",
       "\n",
       "    .dataframe tbody tr th {\n",
       "        vertical-align: top;\n",
       "    }\n",
       "\n",
       "    .dataframe thead th {\n",
       "        text-align: right;\n",
       "    }\n",
       "</style>\n",
       "<table border=\"1\" class=\"dataframe\">\n",
       "  <thead>\n",
       "    <tr style=\"text-align: right;\">\n",
       "      <th></th>\n",
       "      <th>OSEBuildingID</th>\n",
       "      <th>BuildingType</th>\n",
       "      <th>PrimaryPropertyType</th>\n",
       "      <th>Neighborhood</th>\n",
       "      <th>YearBuilt</th>\n",
       "      <th>NumberofBuildings</th>\n",
       "      <th>NumberofFloors</th>\n",
       "      <th>PropertyGFATotal</th>\n",
       "      <th>PropertyGFAParking</th>\n",
       "      <th>PropertyGFABuilding(s)</th>\n",
       "      <th>...</th>\n",
       "      <th>SteamUse(kBtu)</th>\n",
       "      <th>Electricity(kBtu)</th>\n",
       "      <th>NaturalGas(kBtu)</th>\n",
       "      <th>UsageType</th>\n",
       "      <th>NumPropertyUseTypes</th>\n",
       "      <th>BuildingAge</th>\n",
       "      <th>HasSteam</th>\n",
       "      <th>HasElectricity</th>\n",
       "      <th>HasGas</th>\n",
       "      <th>NbSourcesEnergies</th>\n",
       "    </tr>\n",
       "  </thead>\n",
       "  <tbody>\n",
       "    <tr>\n",
       "      <th>0</th>\n",
       "      <td>1</td>\n",
       "      <td>NonResidential</td>\n",
       "      <td>Hotel</td>\n",
       "      <td>DOWNTOWN</td>\n",
       "      <td>1927</td>\n",
       "      <td>1.0</td>\n",
       "      <td>12</td>\n",
       "      <td>88434</td>\n",
       "      <td>0</td>\n",
       "      <td>88434</td>\n",
       "      <td>...</td>\n",
       "      <td>2003882.00</td>\n",
       "      <td>3946027.0</td>\n",
       "      <td>1276453.0</td>\n",
       "      <td>Mono_usage</td>\n",
       "      <td>1</td>\n",
       "      <td>89</td>\n",
       "      <td>1</td>\n",
       "      <td>1</td>\n",
       "      <td>1</td>\n",
       "      <td>3</td>\n",
       "    </tr>\n",
       "    <tr>\n",
       "      <th>1</th>\n",
       "      <td>2</td>\n",
       "      <td>NonResidential</td>\n",
       "      <td>Hotel</td>\n",
       "      <td>DOWNTOWN</td>\n",
       "      <td>1996</td>\n",
       "      <td>1.0</td>\n",
       "      <td>11</td>\n",
       "      <td>103566</td>\n",
       "      <td>15064</td>\n",
       "      <td>88502</td>\n",
       "      <td>...</td>\n",
       "      <td>0.00</td>\n",
       "      <td>3242851.0</td>\n",
       "      <td>5145082.0</td>\n",
       "      <td>Multi_usage</td>\n",
       "      <td>3</td>\n",
       "      <td>20</td>\n",
       "      <td>0</td>\n",
       "      <td>1</td>\n",
       "      <td>1</td>\n",
       "      <td>2</td>\n",
       "    </tr>\n",
       "    <tr>\n",
       "      <th>2</th>\n",
       "      <td>3</td>\n",
       "      <td>NonResidential</td>\n",
       "      <td>Hotel</td>\n",
       "      <td>DOWNTOWN</td>\n",
       "      <td>1969</td>\n",
       "      <td>1.0</td>\n",
       "      <td>41</td>\n",
       "      <td>956110</td>\n",
       "      <td>196718</td>\n",
       "      <td>759392</td>\n",
       "      <td>...</td>\n",
       "      <td>21566554.00</td>\n",
       "      <td>49526664.0</td>\n",
       "      <td>1493800.0</td>\n",
       "      <td>Mono_usage</td>\n",
       "      <td>1</td>\n",
       "      <td>47</td>\n",
       "      <td>1</td>\n",
       "      <td>1</td>\n",
       "      <td>1</td>\n",
       "      <td>3</td>\n",
       "    </tr>\n",
       "    <tr>\n",
       "      <th>3</th>\n",
       "      <td>5</td>\n",
       "      <td>NonResidential</td>\n",
       "      <td>Hotel</td>\n",
       "      <td>DOWNTOWN</td>\n",
       "      <td>1926</td>\n",
       "      <td>1.0</td>\n",
       "      <td>10</td>\n",
       "      <td>61320</td>\n",
       "      <td>0</td>\n",
       "      <td>61320</td>\n",
       "      <td>...</td>\n",
       "      <td>2214446.25</td>\n",
       "      <td>2768924.0</td>\n",
       "      <td>1811213.0</td>\n",
       "      <td>Mono_usage</td>\n",
       "      <td>1</td>\n",
       "      <td>90</td>\n",
       "      <td>1</td>\n",
       "      <td>1</td>\n",
       "      <td>1</td>\n",
       "      <td>3</td>\n",
       "    </tr>\n",
       "    <tr>\n",
       "      <th>4</th>\n",
       "      <td>8</td>\n",
       "      <td>NonResidential</td>\n",
       "      <td>Hotel</td>\n",
       "      <td>DOWNTOWN</td>\n",
       "      <td>1980</td>\n",
       "      <td>1.0</td>\n",
       "      <td>18</td>\n",
       "      <td>175580</td>\n",
       "      <td>62000</td>\n",
       "      <td>113580</td>\n",
       "      <td>...</td>\n",
       "      <td>0.00</td>\n",
       "      <td>5368607.0</td>\n",
       "      <td>8803998.0</td>\n",
       "      <td>Multi_usage</td>\n",
       "      <td>3</td>\n",
       "      <td>36</td>\n",
       "      <td>0</td>\n",
       "      <td>1</td>\n",
       "      <td>1</td>\n",
       "      <td>2</td>\n",
       "    </tr>\n",
       "  </tbody>\n",
       "</table>\n",
       "<p>5 rows × 24 columns</p>\n",
       "</div>"
      ],
      "text/plain": [
       "   OSEBuildingID    BuildingType PrimaryPropertyType Neighborhood  YearBuilt  \\\n",
       "0              1  NonResidential               Hotel     DOWNTOWN       1927   \n",
       "1              2  NonResidential               Hotel     DOWNTOWN       1996   \n",
       "2              3  NonResidential               Hotel     DOWNTOWN       1969   \n",
       "3              5  NonResidential               Hotel     DOWNTOWN       1926   \n",
       "4              8  NonResidential               Hotel     DOWNTOWN       1980   \n",
       "\n",
       "   NumberofBuildings  NumberofFloors  PropertyGFATotal  PropertyGFAParking  \\\n",
       "0                1.0              12             88434                   0   \n",
       "1                1.0              11            103566               15064   \n",
       "2                1.0              41            956110              196718   \n",
       "3                1.0              10             61320                   0   \n",
       "4                1.0              18            175580               62000   \n",
       "\n",
       "   PropertyGFABuilding(s)  ... SteamUse(kBtu)  Electricity(kBtu)  \\\n",
       "0                   88434  ...     2003882.00          3946027.0   \n",
       "1                   88502  ...           0.00          3242851.0   \n",
       "2                  759392  ...    21566554.00         49526664.0   \n",
       "3                   61320  ...     2214446.25          2768924.0   \n",
       "4                  113580  ...           0.00          5368607.0   \n",
       "\n",
       "   NaturalGas(kBtu)    UsageType  NumPropertyUseTypes  BuildingAge  HasSteam  \\\n",
       "0         1276453.0   Mono_usage                    1           89         1   \n",
       "1         5145082.0  Multi_usage                    3           20         0   \n",
       "2         1493800.0   Mono_usage                    1           47         1   \n",
       "3         1811213.0   Mono_usage                    1           90         1   \n",
       "4         8803998.0  Multi_usage                    3           36         0   \n",
       "\n",
       "  HasElectricity  HasGas  NbSourcesEnergies  \n",
       "0              1       1                  3  \n",
       "1              1       1                  2  \n",
       "2              1       1                  3  \n",
       "3              1       1                  3  \n",
       "4              1       1                  2  \n",
       "\n",
       "[5 rows x 24 columns]"
      ]
     },
     "execution_count": 18,
     "metadata": {},
     "output_type": "execute_result"
    }
   ],
   "source": [
    "building_clean_second.head()"
   ]
  },
  {
   "cell_type": "markdown",
   "metadata": {},
   "source": [
    "* Colonnes bien enregistrées"
   ]
  },
  {
   "cell_type": "markdown",
   "metadata": {},
   "source": [
    "#### Suppression des valeurs des sources d'énergies"
   ]
  },
  {
   "cell_type": "code",
   "execution_count": 19,
   "metadata": {},
   "outputs": [
    {
     "name": "stdout",
     "output_type": "stream",
     "text": [
      "<class 'pandas.core.frame.DataFrame'>\n",
      "RangeIndex: 1601 entries, 0 to 1600\n",
      "Data columns (total 21 columns):\n",
      " #   Column                           Non-Null Count  Dtype  \n",
      "---  ------                           --------------  -----  \n",
      " 0   OSEBuildingID                    1601 non-null   int64  \n",
      " 1   BuildingType                     1601 non-null   object \n",
      " 2   PrimaryPropertyType              1601 non-null   object \n",
      " 3   Neighborhood                     1601 non-null   object \n",
      " 4   YearBuilt                        1601 non-null   int64  \n",
      " 5   NumberofBuildings                1601 non-null   float64\n",
      " 6   NumberofFloors                   1601 non-null   int64  \n",
      " 7   PropertyGFATotal                 1601 non-null   int64  \n",
      " 8   PropertyGFAParking               1601 non-null   int64  \n",
      " 9   PropertyGFABuilding(s)           1601 non-null   int64  \n",
      " 10  LargestPropertyUseType           1597 non-null   object \n",
      " 11  SecondLargestPropertyUseTypeGFA  818 non-null    float64\n",
      " 12  ThirdLargestPropertyUseTypeGFA   326 non-null    float64\n",
      " 13  SiteEnergyUse(kBtu)              1601 non-null   float64\n",
      " 14  UsageType                        1601 non-null   object \n",
      " 15  NumPropertyUseTypes              1601 non-null   int64  \n",
      " 16  BuildingAge                      1601 non-null   int64  \n",
      " 17  HasSteam                         1601 non-null   int64  \n",
      " 18  HasElectricity                   1601 non-null   int64  \n",
      " 19  HasGas                           1601 non-null   int64  \n",
      " 20  NbSourcesEnergies                1601 non-null   int64  \n",
      "dtypes: float64(4), int64(12), object(5)\n",
      "memory usage: 262.8+ KB\n"
     ]
    }
   ],
   "source": [
    "a_supprimer = ['SteamUse(kBtu)','Electricity(kBtu)','NaturalGas(kBtu)']\n",
    "building_clean_second = building_clean_second.drop(columns = a_supprimer)\n",
    "building_clean_second.info()"
   ]
  },
  {
   "cell_type": "markdown",
   "metadata": {},
   "source": [
    "* Petit récapitulatif"
   ]
  },
  {
   "cell_type": "code",
   "execution_count": 20,
   "metadata": {},
   "outputs": [
    {
     "name": "stdout",
     "output_type": "stream",
     "text": [
      "Nous retrouvons 1601 lignes et nous avons 20 colonnes avant le nettoyage des données avant transformation.\n",
      "Nous retrouvons 1601 lignes et nous avons 20 colonnes après ajout et suppression d'une colonne liée au nombre de type de bâtiment.\n",
      "Nous retrouvons 1601 lignes et nous avons 20 colonnes après ajout de la colonne BuildingAge.\n",
      "Nous retrouvons 1601 lignes et nous avons 21 colonnes après ajout et suppression des sources d'énergie.\n"
     ]
    }
   ],
   "source": [
    "data_avant_transformation_trois = building_clean_second.shape\n",
    "print('Nous retrouvons',data_avant_transformation[0],'lignes et nous avons',data_avant_transformation[1],'colonnes avant le nettoyage des données avant transformation.')\n",
    "print('Nous retrouvons',data_avant_transformation_un[0],\"lignes et nous avons\",data_avant_transformation_un[1],\"colonnes après ajout et suppression d'une colonne liée au nombre de type de bâtiment.\")\n",
    "print('Nous retrouvons',data_avant_transformation_deux[0],\"lignes et nous avons\",data_avant_transformation_deux[1],\"colonnes après ajout de la colonne BuildingAge.\")\n",
    "print('Nous retrouvons',data_avant_transformation_trois[0],\"lignes et nous avons\",data_avant_transformation_trois[1],\"colonnes après ajout et suppression des sources d'énergie.\")"
   ]
  },
  {
   "cell_type": "markdown",
   "metadata": {},
   "source": [
    "#### Création de ratio"
   ]
  },
  {
   "cell_type": "markdown",
   "metadata": {},
   "source": [
    "* Création du ratio des mètres carrés du parking vs le total"
   ]
  },
  {
   "cell_type": "code",
   "execution_count": 21,
   "metadata": {},
   "outputs": [],
   "source": [
    "numerator = building_clean_second['PropertyGFAParking'].fillna(0)\n",
    "denominator = building_clean_second['PropertyGFATotal'].fillna(0)\n",
    "building_clean_second['ParkingRatio'] = numerator / denominator"
   ]
  },
  {
   "cell_type": "markdown",
   "metadata": {},
   "source": [
    "* Création du ratio des mètres carrés du second plus grand type d'usage du bâtiment vs le total\n",
    "* Ajout d'un fillna pour avoir 0 si pas de données"
   ]
  },
  {
   "cell_type": "code",
   "execution_count": 22,
   "metadata": {},
   "outputs": [],
   "source": [
    "numerator_deux = building_clean_second['SecondLargestPropertyUseTypeGFA'].fillna(0)\n",
    "denominator_deux = building_clean_second['PropertyGFATotal'].fillna(0)\n",
    "building_clean_second['SecondUseRatio'] = numerator_deux / denominator_deux"
   ]
  },
  {
   "cell_type": "markdown",
   "metadata": {},
   "source": [
    "* Création du ratio des mètres carrés du troisième plus grand type d'usage du bâtiment vs le total\n",
    "* Ajout d'un fillna pour avoir 0 si pas de données"
   ]
  },
  {
   "cell_type": "code",
   "execution_count": 23,
   "metadata": {},
   "outputs": [],
   "source": [
    "numerator_trois = building_clean_second['ThirdLargestPropertyUseTypeGFA'].fillna(0)\n",
    "denominator_trois = building_clean_second['PropertyGFATotal'].fillna(0)\n",
    "building_clean_second['ThirdUseRatio'] = numerator_trois / denominator_trois"
   ]
  },
  {
   "cell_type": "markdown",
   "metadata": {},
   "source": [
    "* Création du ratio de la surface par étage"
   ]
  },
  {
   "cell_type": "code",
   "execution_count": 24,
   "metadata": {},
   "outputs": [],
   "source": [
    "numerator_quatre =  building_clean_second['PropertyGFATotal'].fillna(0)\n",
    "denominator_quatre = building_clean_second['NumberofFloors'].fillna(0)\n",
    "building_clean_second['AreaPerFloor'] = numerator_quatre / denominator_quatre"
   ]
  },
  {
   "cell_type": "markdown",
   "metadata": {},
   "source": [
    "* Volume approximatif du bâtiment\n"
   ]
  },
  {
   "cell_type": "code",
   "execution_count": 25,
   "metadata": {},
   "outputs": [],
   "source": [
    "numerator_cinq = building_clean_second['PropertyGFABuilding(s)'].fillna(0)\n",
    "denominator_cinq = building_clean_second['NumberofFloors'].fillna(0)\n",
    "building_clean_second['BuildingVolume'] = numerator_cinq * denominator_cinq"
   ]
  },
  {
   "cell_type": "code",
   "execution_count": 26,
   "metadata": {},
   "outputs": [
    {
     "name": "stdout",
     "output_type": "stream",
     "text": [
      "<class 'pandas.core.frame.DataFrame'>\n",
      "RangeIndex: 1601 entries, 0 to 1600\n",
      "Data columns (total 26 columns):\n",
      " #   Column                           Non-Null Count  Dtype  \n",
      "---  ------                           --------------  -----  \n",
      " 0   OSEBuildingID                    1601 non-null   int64  \n",
      " 1   BuildingType                     1601 non-null   object \n",
      " 2   PrimaryPropertyType              1601 non-null   object \n",
      " 3   Neighborhood                     1601 non-null   object \n",
      " 4   YearBuilt                        1601 non-null   int64  \n",
      " 5   NumberofBuildings                1601 non-null   float64\n",
      " 6   NumberofFloors                   1601 non-null   int64  \n",
      " 7   PropertyGFATotal                 1601 non-null   int64  \n",
      " 8   PropertyGFAParking               1601 non-null   int64  \n",
      " 9   PropertyGFABuilding(s)           1601 non-null   int64  \n",
      " 10  LargestPropertyUseType           1597 non-null   object \n",
      " 11  SecondLargestPropertyUseTypeGFA  818 non-null    float64\n",
      " 12  ThirdLargestPropertyUseTypeGFA   326 non-null    float64\n",
      " 13  SiteEnergyUse(kBtu)              1601 non-null   float64\n",
      " 14  UsageType                        1601 non-null   object \n",
      " 15  NumPropertyUseTypes              1601 non-null   int64  \n",
      " 16  BuildingAge                      1601 non-null   int64  \n",
      " 17  HasSteam                         1601 non-null   int64  \n",
      " 18  HasElectricity                   1601 non-null   int64  \n",
      " 19  HasGas                           1601 non-null   int64  \n",
      " 20  NbSourcesEnergies                1601 non-null   int64  \n",
      " 21  ParkingRatio                     1601 non-null   float64\n",
      " 22  SecondUseRatio                   1601 non-null   float64\n",
      " 23  ThirdUseRatio                    1601 non-null   float64\n",
      " 24  AreaPerFloor                     1601 non-null   float64\n",
      " 25  BuildingVolume                   1601 non-null   int64  \n",
      "dtypes: float64(8), int64(13), object(5)\n",
      "memory usage: 325.3+ KB\n"
     ]
    }
   ],
   "source": [
    "building_clean_second.info()"
   ]
  },
  {
   "cell_type": "markdown",
   "metadata": {},
   "source": [
    "* Vérification des éléments"
   ]
  },
  {
   "cell_type": "code",
   "execution_count": 27,
   "metadata": {},
   "outputs": [
    {
     "data": {
      "text/html": [
       "<div>\n",
       "<style scoped>\n",
       "    .dataframe tbody tr th:only-of-type {\n",
       "        vertical-align: middle;\n",
       "    }\n",
       "\n",
       "    .dataframe tbody tr th {\n",
       "        vertical-align: top;\n",
       "    }\n",
       "\n",
       "    .dataframe thead th {\n",
       "        text-align: right;\n",
       "    }\n",
       "</style>\n",
       "<table border=\"1\" class=\"dataframe\">\n",
       "  <thead>\n",
       "    <tr style=\"text-align: right;\">\n",
       "      <th></th>\n",
       "      <th>OSEBuildingID</th>\n",
       "      <th>BuildingType</th>\n",
       "      <th>PrimaryPropertyType</th>\n",
       "      <th>Neighborhood</th>\n",
       "      <th>YearBuilt</th>\n",
       "      <th>NumberofBuildings</th>\n",
       "      <th>NumberofFloors</th>\n",
       "      <th>PropertyGFATotal</th>\n",
       "      <th>PropertyGFAParking</th>\n",
       "      <th>PropertyGFABuilding(s)</th>\n",
       "      <th>...</th>\n",
       "      <th>BuildingAge</th>\n",
       "      <th>HasSteam</th>\n",
       "      <th>HasElectricity</th>\n",
       "      <th>HasGas</th>\n",
       "      <th>NbSourcesEnergies</th>\n",
       "      <th>ParkingRatio</th>\n",
       "      <th>SecondUseRatio</th>\n",
       "      <th>ThirdUseRatio</th>\n",
       "      <th>AreaPerFloor</th>\n",
       "      <th>BuildingVolume</th>\n",
       "    </tr>\n",
       "  </thead>\n",
       "  <tbody>\n",
       "    <tr>\n",
       "      <th>0</th>\n",
       "      <td>1</td>\n",
       "      <td>NonResidential</td>\n",
       "      <td>Hotel</td>\n",
       "      <td>DOWNTOWN</td>\n",
       "      <td>1927</td>\n",
       "      <td>1.0</td>\n",
       "      <td>12</td>\n",
       "      <td>88434</td>\n",
       "      <td>0</td>\n",
       "      <td>88434</td>\n",
       "      <td>...</td>\n",
       "      <td>89</td>\n",
       "      <td>1</td>\n",
       "      <td>1</td>\n",
       "      <td>1</td>\n",
       "      <td>3</td>\n",
       "      <td>0.000000</td>\n",
       "      <td>0.000000</td>\n",
       "      <td>0.000000</td>\n",
       "      <td>7369.500000</td>\n",
       "      <td>1061208</td>\n",
       "    </tr>\n",
       "    <tr>\n",
       "      <th>1</th>\n",
       "      <td>2</td>\n",
       "      <td>NonResidential</td>\n",
       "      <td>Hotel</td>\n",
       "      <td>DOWNTOWN</td>\n",
       "      <td>1996</td>\n",
       "      <td>1.0</td>\n",
       "      <td>11</td>\n",
       "      <td>103566</td>\n",
       "      <td>15064</td>\n",
       "      <td>88502</td>\n",
       "      <td>...</td>\n",
       "      <td>20</td>\n",
       "      <td>0</td>\n",
       "      <td>1</td>\n",
       "      <td>1</td>\n",
       "      <td>2</td>\n",
       "      <td>0.145453</td>\n",
       "      <td>0.145453</td>\n",
       "      <td>0.044629</td>\n",
       "      <td>9415.090909</td>\n",
       "      <td>973522</td>\n",
       "    </tr>\n",
       "    <tr>\n",
       "      <th>2</th>\n",
       "      <td>3</td>\n",
       "      <td>NonResidential</td>\n",
       "      <td>Hotel</td>\n",
       "      <td>DOWNTOWN</td>\n",
       "      <td>1969</td>\n",
       "      <td>1.0</td>\n",
       "      <td>41</td>\n",
       "      <td>956110</td>\n",
       "      <td>196718</td>\n",
       "      <td>759392</td>\n",
       "      <td>...</td>\n",
       "      <td>47</td>\n",
       "      <td>1</td>\n",
       "      <td>1</td>\n",
       "      <td>1</td>\n",
       "      <td>3</td>\n",
       "      <td>0.205748</td>\n",
       "      <td>0.000000</td>\n",
       "      <td>0.000000</td>\n",
       "      <td>23319.756098</td>\n",
       "      <td>31135072</td>\n",
       "    </tr>\n",
       "    <tr>\n",
       "      <th>3</th>\n",
       "      <td>5</td>\n",
       "      <td>NonResidential</td>\n",
       "      <td>Hotel</td>\n",
       "      <td>DOWNTOWN</td>\n",
       "      <td>1926</td>\n",
       "      <td>1.0</td>\n",
       "      <td>10</td>\n",
       "      <td>61320</td>\n",
       "      <td>0</td>\n",
       "      <td>61320</td>\n",
       "      <td>...</td>\n",
       "      <td>90</td>\n",
       "      <td>1</td>\n",
       "      <td>1</td>\n",
       "      <td>1</td>\n",
       "      <td>3</td>\n",
       "      <td>0.000000</td>\n",
       "      <td>0.000000</td>\n",
       "      <td>0.000000</td>\n",
       "      <td>6132.000000</td>\n",
       "      <td>613200</td>\n",
       "    </tr>\n",
       "    <tr>\n",
       "      <th>4</th>\n",
       "      <td>8</td>\n",
       "      <td>NonResidential</td>\n",
       "      <td>Hotel</td>\n",
       "      <td>DOWNTOWN</td>\n",
       "      <td>1980</td>\n",
       "      <td>1.0</td>\n",
       "      <td>18</td>\n",
       "      <td>175580</td>\n",
       "      <td>62000</td>\n",
       "      <td>113580</td>\n",
       "      <td>...</td>\n",
       "      <td>36</td>\n",
       "      <td>0</td>\n",
       "      <td>1</td>\n",
       "      <td>1</td>\n",
       "      <td>2</td>\n",
       "      <td>0.353115</td>\n",
       "      <td>0.387339</td>\n",
       "      <td>0.000000</td>\n",
       "      <td>9754.444444</td>\n",
       "      <td>2044440</td>\n",
       "    </tr>\n",
       "  </tbody>\n",
       "</table>\n",
       "<p>5 rows × 26 columns</p>\n",
       "</div>"
      ],
      "text/plain": [
       "   OSEBuildingID    BuildingType PrimaryPropertyType Neighborhood  YearBuilt  \\\n",
       "0              1  NonResidential               Hotel     DOWNTOWN       1927   \n",
       "1              2  NonResidential               Hotel     DOWNTOWN       1996   \n",
       "2              3  NonResidential               Hotel     DOWNTOWN       1969   \n",
       "3              5  NonResidential               Hotel     DOWNTOWN       1926   \n",
       "4              8  NonResidential               Hotel     DOWNTOWN       1980   \n",
       "\n",
       "   NumberofBuildings  NumberofFloors  PropertyGFATotal  PropertyGFAParking  \\\n",
       "0                1.0              12             88434                   0   \n",
       "1                1.0              11            103566               15064   \n",
       "2                1.0              41            956110              196718   \n",
       "3                1.0              10             61320                   0   \n",
       "4                1.0              18            175580               62000   \n",
       "\n",
       "   PropertyGFABuilding(s)  ... BuildingAge  HasSteam  HasElectricity  HasGas  \\\n",
       "0                   88434  ...          89         1               1       1   \n",
       "1                   88502  ...          20         0               1       1   \n",
       "2                  759392  ...          47         1               1       1   \n",
       "3                   61320  ...          90         1               1       1   \n",
       "4                  113580  ...          36         0               1       1   \n",
       "\n",
       "  NbSourcesEnergies  ParkingRatio  SecondUseRatio  ThirdUseRatio  \\\n",
       "0                 3      0.000000        0.000000       0.000000   \n",
       "1                 2      0.145453        0.145453       0.044629   \n",
       "2                 3      0.205748        0.000000       0.000000   \n",
       "3                 3      0.000000        0.000000       0.000000   \n",
       "4                 2      0.353115        0.387339       0.000000   \n",
       "\n",
       "   AreaPerFloor  BuildingVolume  \n",
       "0   7369.500000         1061208  \n",
       "1   9415.090909          973522  \n",
       "2  23319.756098        31135072  \n",
       "3   6132.000000          613200  \n",
       "4   9754.444444         2044440  \n",
       "\n",
       "[5 rows x 26 columns]"
      ]
     },
     "execution_count": 27,
     "metadata": {},
     "output_type": "execute_result"
    }
   ],
   "source": [
    "building_clean_second.head()"
   ]
  },
  {
   "cell_type": "markdown",
   "metadata": {},
   "source": [
    "* Petit récapitulatif"
   ]
  },
  {
   "cell_type": "code",
   "execution_count": 28,
   "metadata": {},
   "outputs": [
    {
     "name": "stdout",
     "output_type": "stream",
     "text": [
      "Nous retrouvons 1601 lignes et nous avons 20 colonnes avant le nettoyage des données avant transformation.\n",
      "Nous retrouvons 1601 lignes et nous avons 20 colonnes après ajout et suppression d'une colonne liée au nombre de type de bâtiment.\n",
      "Nous retrouvons 1601 lignes et nous avons 20 colonnes après ajout de la colonne BuildingAge.\n",
      "Nous retrouvons 1601 lignes et nous avons 21 colonnes après ajout et suppression des sources d'énergie.\n",
      "Nous retrouvons 1601 lignes et nous avons 26 colonnes après ajout des ratios.\n"
     ]
    }
   ],
   "source": [
    "data_avant_transformation_quatre = building_clean_second.shape\n",
    "print('Nous retrouvons',data_avant_transformation[0],'lignes et nous avons',data_avant_transformation[1],'colonnes avant le nettoyage des données avant transformation.')\n",
    "print('Nous retrouvons',data_avant_transformation_un[0],\"lignes et nous avons\",data_avant_transformation_un[1],\"colonnes après ajout et suppression d'une colonne liée au nombre de type de bâtiment.\")\n",
    "print('Nous retrouvons',data_avant_transformation_deux[0],\"lignes et nous avons\",data_avant_transformation_deux[1],\"colonnes après ajout de la colonne BuildingAge.\")\n",
    "print('Nous retrouvons',data_avant_transformation_trois[0],\"lignes et nous avons\",data_avant_transformation_trois[1],\"colonnes après ajout et suppression des sources d'énergie.\")\n",
    "print('Nous retrouvons',data_avant_transformation_quatre[0],\"lignes et nous avons\",data_avant_transformation_quatre[1],\"colonnes après ajout des ratios.\")\n",
    "\n"
   ]
  },
  {
   "cell_type": "markdown",
   "metadata": {},
   "source": [
    "* Nous avons ajouté quelques features qui permettront d'alimenter notre modèle. Nous devons effectuer quelques vérifications avant de passer à la modélisation."
   ]
  },
  {
   "cell_type": "markdown",
   "metadata": {},
   "source": [
    "#### Check des valeurs manquantes"
   ]
  },
  {
   "cell_type": "code",
   "execution_count": 29,
   "metadata": {},
   "outputs": [
    {
     "data": {
      "text/plain": [
       "OSEBuildingID                      0.000000\n",
       "BuildingType                       0.000000\n",
       "PrimaryPropertyType                0.000000\n",
       "Neighborhood                       0.000000\n",
       "YearBuilt                          0.000000\n",
       "NumberofBuildings                  0.000000\n",
       "NumberofFloors                     0.000000\n",
       "PropertyGFATotal                   0.000000\n",
       "PropertyGFAParking                 0.000000\n",
       "PropertyGFABuilding(s)             0.000000\n",
       "LargestPropertyUseType             0.002498\n",
       "SecondLargestPropertyUseTypeGFA    0.489069\n",
       "ThirdLargestPropertyUseTypeGFA     0.796377\n",
       "SiteEnergyUse(kBtu)                0.000000\n",
       "UsageType                          0.000000\n",
       "NumPropertyUseTypes                0.000000\n",
       "BuildingAge                        0.000000\n",
       "HasSteam                           0.000000\n",
       "HasElectricity                     0.000000\n",
       "HasGas                             0.000000\n",
       "NbSourcesEnergies                  0.000000\n",
       "ParkingRatio                       0.000000\n",
       "SecondUseRatio                     0.000000\n",
       "ThirdUseRatio                      0.000000\n",
       "AreaPerFloor                       0.000000\n",
       "BuildingVolume                     0.000000\n",
       "dtype: float64"
      ]
     },
     "execution_count": 29,
     "metadata": {},
     "output_type": "execute_result"
    }
   ],
   "source": [
    "building_clean_second.isnull().mean()"
   ]
  },
  {
   "cell_type": "markdown",
   "metadata": {},
   "source": [
    "* Identification de valeurs manquantes pour les colonnes suivantes : LargestPropertyUseType / LargestPropertyUseTypeGFA / SecondLargestPropertyUseTypeGFA / ThirdLargestPropertyUseTypeGFA"
   ]
  },
  {
   "cell_type": "markdown",
   "metadata": {},
   "source": [
    "On retrouve des valeurs manquantes pour LargestPropertyUseType. Regardons ça de plus près."
   ]
  },
  {
   "cell_type": "code",
   "execution_count": 30,
   "metadata": {},
   "outputs": [
    {
     "data": {
      "text/html": [
       "<div>\n",
       "<style scoped>\n",
       "    .dataframe tbody tr th:only-of-type {\n",
       "        vertical-align: middle;\n",
       "    }\n",
       "\n",
       "    .dataframe tbody tr th {\n",
       "        vertical-align: top;\n",
       "    }\n",
       "\n",
       "    .dataframe thead th {\n",
       "        text-align: right;\n",
       "    }\n",
       "</style>\n",
       "<table border=\"1\" class=\"dataframe\">\n",
       "  <thead>\n",
       "    <tr style=\"text-align: right;\">\n",
       "      <th></th>\n",
       "      <th>OSEBuildingID</th>\n",
       "      <th>BuildingType</th>\n",
       "      <th>PrimaryPropertyType</th>\n",
       "      <th>Neighborhood</th>\n",
       "      <th>YearBuilt</th>\n",
       "      <th>NumberofBuildings</th>\n",
       "      <th>NumberofFloors</th>\n",
       "      <th>PropertyGFATotal</th>\n",
       "      <th>PropertyGFAParking</th>\n",
       "      <th>PropertyGFABuilding(s)</th>\n",
       "      <th>...</th>\n",
       "      <th>BuildingAge</th>\n",
       "      <th>HasSteam</th>\n",
       "      <th>HasElectricity</th>\n",
       "      <th>HasGas</th>\n",
       "      <th>NbSourcesEnergies</th>\n",
       "      <th>ParkingRatio</th>\n",
       "      <th>SecondUseRatio</th>\n",
       "      <th>ThirdUseRatio</th>\n",
       "      <th>AreaPerFloor</th>\n",
       "      <th>BuildingVolume</th>\n",
       "    </tr>\n",
       "  </thead>\n",
       "  <tbody>\n",
       "    <tr>\n",
       "      <th>331</th>\n",
       "      <td>496</td>\n",
       "      <td>NonResidential</td>\n",
       "      <td>Self-Storage Facility</td>\n",
       "      <td>BALLARD</td>\n",
       "      <td>1946</td>\n",
       "      <td>2.0</td>\n",
       "      <td>2</td>\n",
       "      <td>111445</td>\n",
       "      <td>0</td>\n",
       "      <td>111445</td>\n",
       "      <td>...</td>\n",
       "      <td>70</td>\n",
       "      <td>0</td>\n",
       "      <td>1</td>\n",
       "      <td>1</td>\n",
       "      <td>2</td>\n",
       "      <td>0.0</td>\n",
       "      <td>0.0</td>\n",
       "      <td>0.0</td>\n",
       "      <td>55722.500</td>\n",
       "      <td>222890</td>\n",
       "    </tr>\n",
       "    <tr>\n",
       "      <th>788</th>\n",
       "      <td>21103</td>\n",
       "      <td>NonResidential</td>\n",
       "      <td>Hotel</td>\n",
       "      <td>DOWNTOWN</td>\n",
       "      <td>1910</td>\n",
       "      <td>1.0</td>\n",
       "      <td>8</td>\n",
       "      <td>61721</td>\n",
       "      <td>0</td>\n",
       "      <td>61721</td>\n",
       "      <td>...</td>\n",
       "      <td>106</td>\n",
       "      <td>0</td>\n",
       "      <td>1</td>\n",
       "      <td>1</td>\n",
       "      <td>2</td>\n",
       "      <td>0.0</td>\n",
       "      <td>0.0</td>\n",
       "      <td>0.0</td>\n",
       "      <td>7715.125</td>\n",
       "      <td>493768</td>\n",
       "    </tr>\n",
       "    <tr>\n",
       "      <th>1297</th>\n",
       "      <td>25568</td>\n",
       "      <td>NonResidential</td>\n",
       "      <td>Small- and Mid-Sized Office</td>\n",
       "      <td>LAKE_UNION</td>\n",
       "      <td>2008</td>\n",
       "      <td>1.0</td>\n",
       "      <td>4</td>\n",
       "      <td>48350</td>\n",
       "      <td>0</td>\n",
       "      <td>48350</td>\n",
       "      <td>...</td>\n",
       "      <td>8</td>\n",
       "      <td>0</td>\n",
       "      <td>1</td>\n",
       "      <td>0</td>\n",
       "      <td>1</td>\n",
       "      <td>0.0</td>\n",
       "      <td>0.0</td>\n",
       "      <td>0.0</td>\n",
       "      <td>12087.500</td>\n",
       "      <td>193400</td>\n",
       "    </tr>\n",
       "    <tr>\n",
       "      <th>1314</th>\n",
       "      <td>25711</td>\n",
       "      <td>NonResidential</td>\n",
       "      <td>Restaurant</td>\n",
       "      <td>DOWNTOWN</td>\n",
       "      <td>1913</td>\n",
       "      <td>1.0</td>\n",
       "      <td>3</td>\n",
       "      <td>28800</td>\n",
       "      <td>0</td>\n",
       "      <td>28800</td>\n",
       "      <td>...</td>\n",
       "      <td>103</td>\n",
       "      <td>0</td>\n",
       "      <td>1</td>\n",
       "      <td>1</td>\n",
       "      <td>2</td>\n",
       "      <td>0.0</td>\n",
       "      <td>0.0</td>\n",
       "      <td>0.0</td>\n",
       "      <td>9600.000</td>\n",
       "      <td>86400</td>\n",
       "    </tr>\n",
       "  </tbody>\n",
       "</table>\n",
       "<p>4 rows × 26 columns</p>\n",
       "</div>"
      ],
      "text/plain": [
       "      OSEBuildingID    BuildingType          PrimaryPropertyType Neighborhood  \\\n",
       "331             496  NonResidential        Self-Storage Facility      BALLARD   \n",
       "788           21103  NonResidential                        Hotel     DOWNTOWN   \n",
       "1297          25568  NonResidential  Small- and Mid-Sized Office   LAKE_UNION   \n",
       "1314          25711  NonResidential                   Restaurant     DOWNTOWN   \n",
       "\n",
       "      YearBuilt  NumberofBuildings  NumberofFloors  PropertyGFATotal  \\\n",
       "331        1946                2.0               2            111445   \n",
       "788        1910                1.0               8             61721   \n",
       "1297       2008                1.0               4             48350   \n",
       "1314       1913                1.0               3             28800   \n",
       "\n",
       "      PropertyGFAParking  PropertyGFABuilding(s)  ... BuildingAge  HasSteam  \\\n",
       "331                    0                  111445  ...          70         0   \n",
       "788                    0                   61721  ...         106         0   \n",
       "1297                   0                   48350  ...           8         0   \n",
       "1314                   0                   28800  ...         103         0   \n",
       "\n",
       "      HasElectricity  HasGas NbSourcesEnergies  ParkingRatio  SecondUseRatio  \\\n",
       "331                1       1                 2           0.0             0.0   \n",
       "788                1       1                 2           0.0             0.0   \n",
       "1297               1       0                 1           0.0             0.0   \n",
       "1314               1       1                 2           0.0             0.0   \n",
       "\n",
       "      ThirdUseRatio  AreaPerFloor  BuildingVolume  \n",
       "331             0.0     55722.500          222890  \n",
       "788             0.0      7715.125          493768  \n",
       "1297            0.0     12087.500          193400  \n",
       "1314            0.0      9600.000           86400  \n",
       "\n",
       "[4 rows x 26 columns]"
      ]
     },
     "execution_count": 30,
     "metadata": {},
     "output_type": "execute_result"
    }
   ],
   "source": [
    "building_clean_second.loc[building_clean_second['LargestPropertyUseType'].isnull(),:]"
   ]
  },
  {
   "cell_type": "markdown",
   "metadata": {},
   "source": [
    "* Regardons ce que nous avons comme éléments pour remplacer les valeurs manquantes"
   ]
  },
  {
   "cell_type": "code",
   "execution_count": 31,
   "metadata": {},
   "outputs": [
    {
     "data": {
      "text/plain": [
       "331           Self-Storage Facility\n",
       "788                           Hotel\n",
       "1297    Small- and Mid-Sized Office\n",
       "1314                     Restaurant\n",
       "Name: PrimaryPropertyType, dtype: object"
      ]
     },
     "execution_count": 31,
     "metadata": {},
     "output_type": "execute_result"
    }
   ],
   "source": [
    "building_clean_second.loc[building_clean_second['LargestPropertyUseType'].isnull(),'PrimaryPropertyType']"
   ]
  },
  {
   "cell_type": "markdown",
   "metadata": {},
   "source": [
    "* On recupère les OSEBuildingID afin d'identifier les valeurs manquantes "
   ]
  },
  {
   "cell_type": "code",
   "execution_count": 32,
   "metadata": {},
   "outputs": [
    {
     "data": {
      "text/plain": [
       "331       496\n",
       "788     21103\n",
       "1297    25568\n",
       "1314    25711\n",
       "Name: OSEBuildingID, dtype: int64"
      ]
     },
     "execution_count": 32,
     "metadata": {},
     "output_type": "execute_result"
    }
   ],
   "source": [
    "building_clean_second.loc[building_clean_second['LargestPropertyUseType'].isnull(),'OSEBuildingID']"
   ]
  },
  {
   "cell_type": "markdown",
   "metadata": {},
   "source": [
    "* On peut remplacer les NaN de LargestPropertyUseType par ce que l'on voit dans PrimaryPropertyType"
   ]
  },
  {
   "cell_type": "code",
   "execution_count": 33,
   "metadata": {},
   "outputs": [],
   "source": [
    "building_clean_second.loc[building_clean_second['OSEBuildingID']==496,'LargestPropertyUseType'] = 'Self-Storage Facility'\n",
    "building_clean_second.loc[building_clean_second['OSEBuildingID']==21103,'LargestPropertyUseType'] = 'Hotel'\n",
    "building_clean_second.loc[building_clean_second['OSEBuildingID']==25568,'LargestPropertyUseType'] = 'Small- and Mid-Sized Office'\n",
    "building_clean_second.loc[building_clean_second['OSEBuildingID']==25711,'LargestPropertyUseType'] = 'Restaurant'"
   ]
  },
  {
   "cell_type": "markdown",
   "metadata": {},
   "source": [
    "#### Suppression des mètres carrés du SecondLargestPropertyUseTypeGFA et ThirdLargestPropertyUseTypeGFA :\n",
    "* Nous avons les ratios qui vont nous permettre d'avoir des indications supplémentaires, nous n'avons plus besoin des 2 colonnes d'origine (et elles ont beaucoup de valeurs manquantes)"
   ]
  },
  {
   "cell_type": "code",
   "execution_count": 34,
   "metadata": {},
   "outputs": [
    {
     "name": "stdout",
     "output_type": "stream",
     "text": [
      "<class 'pandas.core.frame.DataFrame'>\n",
      "RangeIndex: 1601 entries, 0 to 1600\n",
      "Data columns (total 24 columns):\n",
      " #   Column                  Non-Null Count  Dtype  \n",
      "---  ------                  --------------  -----  \n",
      " 0   OSEBuildingID           1601 non-null   int64  \n",
      " 1   BuildingType            1601 non-null   object \n",
      " 2   PrimaryPropertyType     1601 non-null   object \n",
      " 3   Neighborhood            1601 non-null   object \n",
      " 4   YearBuilt               1601 non-null   int64  \n",
      " 5   NumberofBuildings       1601 non-null   float64\n",
      " 6   NumberofFloors          1601 non-null   int64  \n",
      " 7   PropertyGFATotal        1601 non-null   int64  \n",
      " 8   PropertyGFAParking      1601 non-null   int64  \n",
      " 9   PropertyGFABuilding(s)  1601 non-null   int64  \n",
      " 10  LargestPropertyUseType  1601 non-null   object \n",
      " 11  SiteEnergyUse(kBtu)     1601 non-null   float64\n",
      " 12  UsageType               1601 non-null   object \n",
      " 13  NumPropertyUseTypes     1601 non-null   int64  \n",
      " 14  BuildingAge             1601 non-null   int64  \n",
      " 15  HasSteam                1601 non-null   int64  \n",
      " 16  HasElectricity          1601 non-null   int64  \n",
      " 17  HasGas                  1601 non-null   int64  \n",
      " 18  NbSourcesEnergies       1601 non-null   int64  \n",
      " 19  ParkingRatio            1601 non-null   float64\n",
      " 20  SecondUseRatio          1601 non-null   float64\n",
      " 21  ThirdUseRatio           1601 non-null   float64\n",
      " 22  AreaPerFloor            1601 non-null   float64\n",
      " 23  BuildingVolume          1601 non-null   int64  \n",
      "dtypes: float64(6), int64(13), object(5)\n",
      "memory usage: 300.3+ KB\n"
     ]
    }
   ],
   "source": [
    "a_supprimer =['SecondLargestPropertyUseTypeGFA','ThirdLargestPropertyUseTypeGFA']\n",
    "building_clean_second = building_clean_second.drop(columns = a_supprimer )\n",
    "building_clean_second.info()"
   ]
  },
  {
   "cell_type": "markdown",
   "metadata": {},
   "source": [
    "* Petit récapitulatif"
   ]
  },
  {
   "cell_type": "code",
   "execution_count": 35,
   "metadata": {},
   "outputs": [
    {
     "name": "stdout",
     "output_type": "stream",
     "text": [
      "Nous retrouvons 1601 lignes et nous avons 20 colonnes avant le nettoyage des données avant transformation.\n",
      "Nous retrouvons 1601 lignes et nous avons 20 colonnes après ajout et suppression d'une colonne liée au nombre de type de bâtiment.\n",
      "Nous retrouvons 1601 lignes et nous avons 20 colonnes après ajout de la colonne BuildingAge.\n",
      "Nous retrouvons 1601 lignes et nous avons 21 colonnes après ajout et suppression des sources d'énergie.\n",
      "Nous retrouvons 1601 lignes et nous avons 26 colonnes après ajout des ratios.\n",
      "Nous retrouvons 1601 lignes et nous avons 24 colonnes après suppression de deux colonnes non pertinentes.\n"
     ]
    }
   ],
   "source": [
    "data_avant_transformation_cinq = building_clean_second.shape\n",
    "print('Nous retrouvons',data_avant_transformation[0],'lignes et nous avons',data_avant_transformation[1],'colonnes avant le nettoyage des données avant transformation.')\n",
    "print('Nous retrouvons',data_avant_transformation_un[0],\"lignes et nous avons\",data_avant_transformation_un[1],\"colonnes après ajout et suppression d'une colonne liée au nombre de type de bâtiment.\")\n",
    "print('Nous retrouvons',data_avant_transformation_deux[0],\"lignes et nous avons\",data_avant_transformation_deux[1],\"colonnes après ajout de la colonne BuildingAge.\")\n",
    "print('Nous retrouvons',data_avant_transformation_trois[0],\"lignes et nous avons\",data_avant_transformation_trois[1],\"colonnes après ajout et suppression des sources d'énergie.\")\n",
    "print('Nous retrouvons',data_avant_transformation_quatre[0],\"lignes et nous avons\",data_avant_transformation_quatre[1],\"colonnes après ajout des ratios.\")\n",
    "print('Nous retrouvons',data_avant_transformation_cinq[0],\"lignes et nous avons\",data_avant_transformation_cinq[1],\"colonnes après suppression de deux colonnes non pertinentes.\")"
   ]
  },
  {
   "cell_type": "markdown",
   "metadata": {},
   "source": [
    "#### Check des statistiques descriptives"
   ]
  },
  {
   "cell_type": "code",
   "execution_count": 36,
   "metadata": {},
   "outputs": [
    {
     "name": "stderr",
     "output_type": "stream",
     "text": [
      "/Users/florianschorer/Code/.venv/lib/python3.12/site-packages/pandas/core/nanops.py:1016: RuntimeWarning: invalid value encountered in subtract\n",
      "  sqr = _ensure_numeric((avg - values) ** 2)\n"
     ]
    },
    {
     "data": {
      "text/html": [
       "<div>\n",
       "<style scoped>\n",
       "    .dataframe tbody tr th:only-of-type {\n",
       "        vertical-align: middle;\n",
       "    }\n",
       "\n",
       "    .dataframe tbody tr th {\n",
       "        vertical-align: top;\n",
       "    }\n",
       "\n",
       "    .dataframe thead th {\n",
       "        text-align: right;\n",
       "    }\n",
       "</style>\n",
       "<table border=\"1\" class=\"dataframe\">\n",
       "  <thead>\n",
       "    <tr style=\"text-align: right;\">\n",
       "      <th></th>\n",
       "      <th>OSEBuildingID</th>\n",
       "      <th>YearBuilt</th>\n",
       "      <th>NumberofBuildings</th>\n",
       "      <th>NumberofFloors</th>\n",
       "      <th>PropertyGFATotal</th>\n",
       "      <th>PropertyGFAParking</th>\n",
       "      <th>PropertyGFABuilding(s)</th>\n",
       "      <th>SiteEnergyUse(kBtu)</th>\n",
       "      <th>NumPropertyUseTypes</th>\n",
       "      <th>BuildingAge</th>\n",
       "      <th>HasSteam</th>\n",
       "      <th>HasElectricity</th>\n",
       "      <th>HasGas</th>\n",
       "      <th>NbSourcesEnergies</th>\n",
       "      <th>ParkingRatio</th>\n",
       "      <th>SecondUseRatio</th>\n",
       "      <th>ThirdUseRatio</th>\n",
       "      <th>AreaPerFloor</th>\n",
       "      <th>BuildingVolume</th>\n",
       "    </tr>\n",
       "  </thead>\n",
       "  <tbody>\n",
       "    <tr>\n",
       "      <th>count</th>\n",
       "      <td>1601.00000</td>\n",
       "      <td>1601.000000</td>\n",
       "      <td>1601.000000</td>\n",
       "      <td>1601.000000</td>\n",
       "      <td>1.601000e+03</td>\n",
       "      <td>1601.000000</td>\n",
       "      <td>1.601000e+03</td>\n",
       "      <td>1.601000e+03</td>\n",
       "      <td>1601.000000</td>\n",
       "      <td>1601.000000</td>\n",
       "      <td>1601.000000</td>\n",
       "      <td>1601.000000</td>\n",
       "      <td>1601.000000</td>\n",
       "      <td>1601.000000</td>\n",
       "      <td>1601.000000</td>\n",
       "      <td>1601.000000</td>\n",
       "      <td>1601.000000</td>\n",
       "      <td>1.601000e+03</td>\n",
       "      <td>1.601000e+03</td>\n",
       "    </tr>\n",
       "    <tr>\n",
       "      <th>mean</th>\n",
       "      <td>16360.65584</td>\n",
       "      <td>1962.125547</td>\n",
       "      <td>1.089944</td>\n",
       "      <td>4.103685</td>\n",
       "      <td>1.099618e+05</td>\n",
       "      <td>13074.289819</td>\n",
       "      <td>9.688752e+04</td>\n",
       "      <td>7.088956e+06</td>\n",
       "      <td>1.868832</td>\n",
       "      <td>53.874453</td>\n",
       "      <td>0.069332</td>\n",
       "      <td>0.998126</td>\n",
       "      <td>0.720175</td>\n",
       "      <td>1.787633</td>\n",
       "      <td>0.061867</td>\n",
       "      <td>0.119821</td>\n",
       "      <td>0.019280</td>\n",
       "      <td>inf</td>\n",
       "      <td>1.049531e+06</td>\n",
       "    </tr>\n",
       "    <tr>\n",
       "      <th>std</th>\n",
       "      <td>13810.27421</td>\n",
       "      <td>32.434200</td>\n",
       "      <td>1.139914</td>\n",
       "      <td>6.571472</td>\n",
       "      <td>1.834136e+05</td>\n",
       "      <td>42710.422128</td>\n",
       "      <td>1.606563e+05</td>\n",
       "      <td>1.320993e+07</td>\n",
       "      <td>1.181221</td>\n",
       "      <td>32.434200</td>\n",
       "      <td>0.254097</td>\n",
       "      <td>0.043261</td>\n",
       "      <td>0.449053</td>\n",
       "      <td>0.496107</td>\n",
       "      <td>0.141233</td>\n",
       "      <td>0.167795</td>\n",
       "      <td>0.054771</td>\n",
       "      <td>NaN</td>\n",
       "      <td>5.723609e+06</td>\n",
       "    </tr>\n",
       "    <tr>\n",
       "      <th>min</th>\n",
       "      <td>1.00000</td>\n",
       "      <td>1900.000000</td>\n",
       "      <td>0.000000</td>\n",
       "      <td>0.000000</td>\n",
       "      <td>1.128500e+04</td>\n",
       "      <td>0.000000</td>\n",
       "      <td>3.636000e+03</td>\n",
       "      <td>5.713320e+04</td>\n",
       "      <td>1.000000</td>\n",
       "      <td>1.000000</td>\n",
       "      <td>0.000000</td>\n",
       "      <td>0.000000</td>\n",
       "      <td>0.000000</td>\n",
       "      <td>0.000000</td>\n",
       "      <td>0.000000</td>\n",
       "      <td>0.000000</td>\n",
       "      <td>0.000000</td>\n",
       "      <td>2.216970e+02</td>\n",
       "      <td>0.000000e+00</td>\n",
       "    </tr>\n",
       "    <tr>\n",
       "      <th>25%</th>\n",
       "      <td>583.00000</td>\n",
       "      <td>1930.000000</td>\n",
       "      <td>1.000000</td>\n",
       "      <td>1.000000</td>\n",
       "      <td>2.938000e+04</td>\n",
       "      <td>0.000000</td>\n",
       "      <td>2.830900e+04</td>\n",
       "      <td>1.262235e+06</td>\n",
       "      <td>1.000000</td>\n",
       "      <td>27.000000</td>\n",
       "      <td>0.000000</td>\n",
       "      <td>1.000000</td>\n",
       "      <td>0.000000</td>\n",
       "      <td>2.000000</td>\n",
       "      <td>0.000000</td>\n",
       "      <td>0.000000</td>\n",
       "      <td>0.000000</td>\n",
       "      <td>1.330900e+04</td>\n",
       "      <td>4.710500e+04</td>\n",
       "    </tr>\n",
       "    <tr>\n",
       "      <th>50%</th>\n",
       "      <td>21145.00000</td>\n",
       "      <td>1966.000000</td>\n",
       "      <td>1.000000</td>\n",
       "      <td>2.000000</td>\n",
       "      <td>4.888200e+04</td>\n",
       "      <td>0.000000</td>\n",
       "      <td>4.679700e+04</td>\n",
       "      <td>2.590622e+06</td>\n",
       "      <td>2.000000</td>\n",
       "      <td>50.000000</td>\n",
       "      <td>0.000000</td>\n",
       "      <td>1.000000</td>\n",
       "      <td>1.000000</td>\n",
       "      <td>2.000000</td>\n",
       "      <td>0.000000</td>\n",
       "      <td>0.000000</td>\n",
       "      <td>0.000000</td>\n",
       "      <td>2.291353e+04</td>\n",
       "      <td>1.022220e+05</td>\n",
       "    </tr>\n",
       "    <tr>\n",
       "      <th>75%</th>\n",
       "      <td>24599.00000</td>\n",
       "      <td>1989.000000</td>\n",
       "      <td>1.000000</td>\n",
       "      <td>4.000000</td>\n",
       "      <td>1.036970e+05</td>\n",
       "      <td>0.000000</td>\n",
       "      <td>9.440000e+04</td>\n",
       "      <td>6.901554e+06</td>\n",
       "      <td>2.000000</td>\n",
       "      <td>86.000000</td>\n",
       "      <td>0.000000</td>\n",
       "      <td>1.000000</td>\n",
       "      <td>1.000000</td>\n",
       "      <td>2.000000</td>\n",
       "      <td>0.000000</td>\n",
       "      <td>0.230115</td>\n",
       "      <td>0.000000</td>\n",
       "      <td>3.800500e+04</td>\n",
       "      <td>3.307380e+05</td>\n",
       "    </tr>\n",
       "    <tr>\n",
       "      <th>max</th>\n",
       "      <td>50226.00000</td>\n",
       "      <td>2015.000000</td>\n",
       "      <td>27.000000</td>\n",
       "      <td>99.000000</td>\n",
       "      <td>2.200000e+06</td>\n",
       "      <td>512608.000000</td>\n",
       "      <td>2.200000e+06</td>\n",
       "      <td>1.639460e+08</td>\n",
       "      <td>13.000000</td>\n",
       "      <td>116.000000</td>\n",
       "      <td>1.000000</td>\n",
       "      <td>1.000000</td>\n",
       "      <td>1.000000</td>\n",
       "      <td>3.000000</td>\n",
       "      <td>0.895023</td>\n",
       "      <td>1.452054</td>\n",
       "      <td>0.489796</td>\n",
       "      <td>inf</td>\n",
       "      <td>1.240943e+08</td>\n",
       "    </tr>\n",
       "  </tbody>\n",
       "</table>\n",
       "</div>"
      ],
      "text/plain": [
       "       OSEBuildingID    YearBuilt  NumberofBuildings  NumberofFloors  \\\n",
       "count     1601.00000  1601.000000        1601.000000     1601.000000   \n",
       "mean     16360.65584  1962.125547           1.089944        4.103685   \n",
       "std      13810.27421    32.434200           1.139914        6.571472   \n",
       "min          1.00000  1900.000000           0.000000        0.000000   \n",
       "25%        583.00000  1930.000000           1.000000        1.000000   \n",
       "50%      21145.00000  1966.000000           1.000000        2.000000   \n",
       "75%      24599.00000  1989.000000           1.000000        4.000000   \n",
       "max      50226.00000  2015.000000          27.000000       99.000000   \n",
       "\n",
       "       PropertyGFATotal  PropertyGFAParking  PropertyGFABuilding(s)  \\\n",
       "count      1.601000e+03         1601.000000            1.601000e+03   \n",
       "mean       1.099618e+05        13074.289819            9.688752e+04   \n",
       "std        1.834136e+05        42710.422128            1.606563e+05   \n",
       "min        1.128500e+04            0.000000            3.636000e+03   \n",
       "25%        2.938000e+04            0.000000            2.830900e+04   \n",
       "50%        4.888200e+04            0.000000            4.679700e+04   \n",
       "75%        1.036970e+05            0.000000            9.440000e+04   \n",
       "max        2.200000e+06       512608.000000            2.200000e+06   \n",
       "\n",
       "       SiteEnergyUse(kBtu)  NumPropertyUseTypes  BuildingAge     HasSteam  \\\n",
       "count         1.601000e+03          1601.000000  1601.000000  1601.000000   \n",
       "mean          7.088956e+06             1.868832    53.874453     0.069332   \n",
       "std           1.320993e+07             1.181221    32.434200     0.254097   \n",
       "min           5.713320e+04             1.000000     1.000000     0.000000   \n",
       "25%           1.262235e+06             1.000000    27.000000     0.000000   \n",
       "50%           2.590622e+06             2.000000    50.000000     0.000000   \n",
       "75%           6.901554e+06             2.000000    86.000000     0.000000   \n",
       "max           1.639460e+08            13.000000   116.000000     1.000000   \n",
       "\n",
       "       HasElectricity       HasGas  NbSourcesEnergies  ParkingRatio  \\\n",
       "count     1601.000000  1601.000000        1601.000000   1601.000000   \n",
       "mean         0.998126     0.720175           1.787633      0.061867   \n",
       "std          0.043261     0.449053           0.496107      0.141233   \n",
       "min          0.000000     0.000000           0.000000      0.000000   \n",
       "25%          1.000000     0.000000           2.000000      0.000000   \n",
       "50%          1.000000     1.000000           2.000000      0.000000   \n",
       "75%          1.000000     1.000000           2.000000      0.000000   \n",
       "max          1.000000     1.000000           3.000000      0.895023   \n",
       "\n",
       "       SecondUseRatio  ThirdUseRatio  AreaPerFloor  BuildingVolume  \n",
       "count     1601.000000    1601.000000  1.601000e+03    1.601000e+03  \n",
       "mean         0.119821       0.019280           inf    1.049531e+06  \n",
       "std          0.167795       0.054771           NaN    5.723609e+06  \n",
       "min          0.000000       0.000000  2.216970e+02    0.000000e+00  \n",
       "25%          0.000000       0.000000  1.330900e+04    4.710500e+04  \n",
       "50%          0.000000       0.000000  2.291353e+04    1.022220e+05  \n",
       "75%          0.230115       0.000000  3.800500e+04    3.307380e+05  \n",
       "max          1.452054       0.489796           inf    1.240943e+08  "
      ]
     },
     "execution_count": 36,
     "metadata": {},
     "output_type": "execute_result"
    }
   ],
   "source": [
    "building_clean_second.describe()"
   ]
  },
  {
   "cell_type": "markdown",
   "metadata": {},
   "source": [
    "* On remarque une incohérence pour la colonne AreaPerFloor avec des valeurs infinies, surement causé par un divisé par 0."
   ]
  },
  {
   "cell_type": "code",
   "execution_count": 37,
   "metadata": {},
   "outputs": [
    {
     "data": {
      "text/html": [
       "<div>\n",
       "<style scoped>\n",
       "    .dataframe tbody tr th:only-of-type {\n",
       "        vertical-align: middle;\n",
       "    }\n",
       "\n",
       "    .dataframe tbody tr th {\n",
       "        vertical-align: top;\n",
       "    }\n",
       "\n",
       "    .dataframe thead th {\n",
       "        text-align: right;\n",
       "    }\n",
       "</style>\n",
       "<table border=\"1\" class=\"dataframe\">\n",
       "  <thead>\n",
       "    <tr style=\"text-align: right;\">\n",
       "      <th></th>\n",
       "      <th>OSEBuildingID</th>\n",
       "      <th>BuildingType</th>\n",
       "      <th>PrimaryPropertyType</th>\n",
       "      <th>Neighborhood</th>\n",
       "      <th>YearBuilt</th>\n",
       "      <th>NumberofBuildings</th>\n",
       "      <th>NumberofFloors</th>\n",
       "      <th>PropertyGFATotal</th>\n",
       "      <th>PropertyGFAParking</th>\n",
       "      <th>PropertyGFABuilding(s)</th>\n",
       "      <th>...</th>\n",
       "      <th>BuildingAge</th>\n",
       "      <th>HasSteam</th>\n",
       "      <th>HasElectricity</th>\n",
       "      <th>HasGas</th>\n",
       "      <th>NbSourcesEnergies</th>\n",
       "      <th>ParkingRatio</th>\n",
       "      <th>SecondUseRatio</th>\n",
       "      <th>ThirdUseRatio</th>\n",
       "      <th>AreaPerFloor</th>\n",
       "      <th>BuildingVolume</th>\n",
       "    </tr>\n",
       "  </thead>\n",
       "  <tbody>\n",
       "    <tr>\n",
       "      <th>152</th>\n",
       "      <td>267</td>\n",
       "      <td>NonResidential</td>\n",
       "      <td>Hotel</td>\n",
       "      <td>DOWNTOWN</td>\n",
       "      <td>1999</td>\n",
       "      <td>1.0</td>\n",
       "      <td>0</td>\n",
       "      <td>934292</td>\n",
       "      <td>0</td>\n",
       "      <td>934292</td>\n",
       "      <td>...</td>\n",
       "      <td>17</td>\n",
       "      <td>0</td>\n",
       "      <td>1</td>\n",
       "      <td>1</td>\n",
       "      <td>2</td>\n",
       "      <td>0.0</td>\n",
       "      <td>0.469613</td>\n",
       "      <td>0.053195</td>\n",
       "      <td>inf</td>\n",
       "      <td>0</td>\n",
       "    </tr>\n",
       "    <tr>\n",
       "      <th>461</th>\n",
       "      <td>656</td>\n",
       "      <td>NonResidential</td>\n",
       "      <td>Medical Office</td>\n",
       "      <td>EAST</td>\n",
       "      <td>2004</td>\n",
       "      <td>1.0</td>\n",
       "      <td>0</td>\n",
       "      <td>225982</td>\n",
       "      <td>0</td>\n",
       "      <td>225982</td>\n",
       "      <td>...</td>\n",
       "      <td>12</td>\n",
       "      <td>1</td>\n",
       "      <td>1</td>\n",
       "      <td>0</td>\n",
       "      <td>2</td>\n",
       "      <td>0.0</td>\n",
       "      <td>0.000000</td>\n",
       "      <td>0.000000</td>\n",
       "      <td>inf</td>\n",
       "      <td>0</td>\n",
       "    </tr>\n",
       "    <tr>\n",
       "      <th>531</th>\n",
       "      <td>758</td>\n",
       "      <td>NonResidential</td>\n",
       "      <td>Other</td>\n",
       "      <td>DOWNTOWN</td>\n",
       "      <td>1999</td>\n",
       "      <td>1.0</td>\n",
       "      <td>0</td>\n",
       "      <td>947987</td>\n",
       "      <td>0</td>\n",
       "      <td>947987</td>\n",
       "      <td>...</td>\n",
       "      <td>17</td>\n",
       "      <td>0</td>\n",
       "      <td>1</td>\n",
       "      <td>0</td>\n",
       "      <td>1</td>\n",
       "      <td>0.0</td>\n",
       "      <td>0.105487</td>\n",
       "      <td>0.084389</td>\n",
       "      <td>inf</td>\n",
       "      <td>0</td>\n",
       "    </tr>\n",
       "    <tr>\n",
       "      <th>1034</th>\n",
       "      <td>23311</td>\n",
       "      <td>NonResidential</td>\n",
       "      <td>Medical Office</td>\n",
       "      <td>EAST</td>\n",
       "      <td>1945</td>\n",
       "      <td>1.0</td>\n",
       "      <td>0</td>\n",
       "      <td>274568</td>\n",
       "      <td>0</td>\n",
       "      <td>274568</td>\n",
       "      <td>...</td>\n",
       "      <td>71</td>\n",
       "      <td>1</td>\n",
       "      <td>1</td>\n",
       "      <td>0</td>\n",
       "      <td>2</td>\n",
       "      <td>0.0</td>\n",
       "      <td>0.495156</td>\n",
       "      <td>0.000000</td>\n",
       "      <td>inf</td>\n",
       "      <td>0</td>\n",
       "    </tr>\n",
       "    <tr>\n",
       "      <th>1116</th>\n",
       "      <td>24086</td>\n",
       "      <td>Campus</td>\n",
       "      <td>Other</td>\n",
       "      <td>GREATER_DUWAMISH</td>\n",
       "      <td>1991</td>\n",
       "      <td>10.0</td>\n",
       "      <td>0</td>\n",
       "      <td>230971</td>\n",
       "      <td>0</td>\n",
       "      <td>230971</td>\n",
       "      <td>...</td>\n",
       "      <td>25</td>\n",
       "      <td>0</td>\n",
       "      <td>1</td>\n",
       "      <td>1</td>\n",
       "      <td>2</td>\n",
       "      <td>0.0</td>\n",
       "      <td>0.000000</td>\n",
       "      <td>0.000000</td>\n",
       "      <td>inf</td>\n",
       "      <td>0</td>\n",
       "    </tr>\n",
       "    <tr>\n",
       "      <th>1511</th>\n",
       "      <td>40028</td>\n",
       "      <td>NonResidential</td>\n",
       "      <td>Warehouse</td>\n",
       "      <td>NORTHEAST</td>\n",
       "      <td>1940</td>\n",
       "      <td>1.0</td>\n",
       "      <td>0</td>\n",
       "      <td>384772</td>\n",
       "      <td>0</td>\n",
       "      <td>384772</td>\n",
       "      <td>...</td>\n",
       "      <td>76</td>\n",
       "      <td>0</td>\n",
       "      <td>1</td>\n",
       "      <td>1</td>\n",
       "      <td>2</td>\n",
       "      <td>0.0</td>\n",
       "      <td>0.166000</td>\n",
       "      <td>0.000000</td>\n",
       "      <td>inf</td>\n",
       "      <td>0</td>\n",
       "    </tr>\n",
       "    <tr>\n",
       "      <th>1512</th>\n",
       "      <td>40031</td>\n",
       "      <td>NonResidential</td>\n",
       "      <td>Medical Office</td>\n",
       "      <td>NORTHEAST</td>\n",
       "      <td>1960</td>\n",
       "      <td>1.0</td>\n",
       "      <td>0</td>\n",
       "      <td>30287</td>\n",
       "      <td>0</td>\n",
       "      <td>30287</td>\n",
       "      <td>...</td>\n",
       "      <td>56</td>\n",
       "      <td>0</td>\n",
       "      <td>1</td>\n",
       "      <td>1</td>\n",
       "      <td>2</td>\n",
       "      <td>0.0</td>\n",
       "      <td>0.000000</td>\n",
       "      <td>0.000000</td>\n",
       "      <td>inf</td>\n",
       "      <td>0</td>\n",
       "    </tr>\n",
       "    <tr>\n",
       "      <th>1513</th>\n",
       "      <td>40034</td>\n",
       "      <td>NonResidential</td>\n",
       "      <td>Small- and Mid-Sized Office</td>\n",
       "      <td>NORTHEAST</td>\n",
       "      <td>1960</td>\n",
       "      <td>1.0</td>\n",
       "      <td>0</td>\n",
       "      <td>21931</td>\n",
       "      <td>0</td>\n",
       "      <td>21931</td>\n",
       "      <td>...</td>\n",
       "      <td>56</td>\n",
       "      <td>0</td>\n",
       "      <td>1</td>\n",
       "      <td>1</td>\n",
       "      <td>2</td>\n",
       "      <td>0.0</td>\n",
       "      <td>1.452054</td>\n",
       "      <td>0.000000</td>\n",
       "      <td>inf</td>\n",
       "      <td>0</td>\n",
       "    </tr>\n",
       "    <tr>\n",
       "      <th>1524</th>\n",
       "      <td>49705</td>\n",
       "      <td>Nonresidential COS</td>\n",
       "      <td>Other</td>\n",
       "      <td>NORTHEAST</td>\n",
       "      <td>1929</td>\n",
       "      <td>8.0</td>\n",
       "      <td>0</td>\n",
       "      <td>502030</td>\n",
       "      <td>0</td>\n",
       "      <td>502030</td>\n",
       "      <td>...</td>\n",
       "      <td>87</td>\n",
       "      <td>0</td>\n",
       "      <td>1</td>\n",
       "      <td>1</td>\n",
       "      <td>2</td>\n",
       "      <td>0.0</td>\n",
       "      <td>0.000000</td>\n",
       "      <td>0.000000</td>\n",
       "      <td>inf</td>\n",
       "      <td>0</td>\n",
       "    </tr>\n",
       "    <tr>\n",
       "      <th>1560</th>\n",
       "      <td>49966</td>\n",
       "      <td>NonResidential</td>\n",
       "      <td>Other</td>\n",
       "      <td>SOUTHEAST</td>\n",
       "      <td>2009</td>\n",
       "      <td>1.0</td>\n",
       "      <td>0</td>\n",
       "      <td>40265</td>\n",
       "      <td>0</td>\n",
       "      <td>40265</td>\n",
       "      <td>...</td>\n",
       "      <td>7</td>\n",
       "      <td>0</td>\n",
       "      <td>1</td>\n",
       "      <td>1</td>\n",
       "      <td>2</td>\n",
       "      <td>0.0</td>\n",
       "      <td>0.000000</td>\n",
       "      <td>0.000000</td>\n",
       "      <td>inf</td>\n",
       "      <td>0</td>\n",
       "    </tr>\n",
       "    <tr>\n",
       "      <th>1562</th>\n",
       "      <td>49970</td>\n",
       "      <td>NonResidential</td>\n",
       "      <td>Residence Hall</td>\n",
       "      <td>NORTHEAST</td>\n",
       "      <td>2011</td>\n",
       "      <td>1.0</td>\n",
       "      <td>0</td>\n",
       "      <td>176225</td>\n",
       "      <td>0</td>\n",
       "      <td>176225</td>\n",
       "      <td>...</td>\n",
       "      <td>5</td>\n",
       "      <td>0</td>\n",
       "      <td>1</td>\n",
       "      <td>1</td>\n",
       "      <td>2</td>\n",
       "      <td>0.0</td>\n",
       "      <td>0.136190</td>\n",
       "      <td>0.000000</td>\n",
       "      <td>inf</td>\n",
       "      <td>0</td>\n",
       "    </tr>\n",
       "    <tr>\n",
       "      <th>1564</th>\n",
       "      <td>49979</td>\n",
       "      <td>NonResidential</td>\n",
       "      <td>Residence Hall</td>\n",
       "      <td>NORTHEAST</td>\n",
       "      <td>1953</td>\n",
       "      <td>1.0</td>\n",
       "      <td>0</td>\n",
       "      <td>166991</td>\n",
       "      <td>0</td>\n",
       "      <td>166991</td>\n",
       "      <td>...</td>\n",
       "      <td>63</td>\n",
       "      <td>0</td>\n",
       "      <td>1</td>\n",
       "      <td>1</td>\n",
       "      <td>2</td>\n",
       "      <td>0.0</td>\n",
       "      <td>0.000000</td>\n",
       "      <td>0.000000</td>\n",
       "      <td>inf</td>\n",
       "      <td>0</td>\n",
       "    </tr>\n",
       "    <tr>\n",
       "      <th>1565</th>\n",
       "      <td>49980</td>\n",
       "      <td>NonResidential</td>\n",
       "      <td>Residence Hall</td>\n",
       "      <td>NORTHEAST</td>\n",
       "      <td>1970</td>\n",
       "      <td>1.0</td>\n",
       "      <td>0</td>\n",
       "      <td>89392</td>\n",
       "      <td>0</td>\n",
       "      <td>89392</td>\n",
       "      <td>...</td>\n",
       "      <td>46</td>\n",
       "      <td>0</td>\n",
       "      <td>1</td>\n",
       "      <td>0</td>\n",
       "      <td>1</td>\n",
       "      <td>0.0</td>\n",
       "      <td>0.000000</td>\n",
       "      <td>0.000000</td>\n",
       "      <td>inf</td>\n",
       "      <td>0</td>\n",
       "    </tr>\n",
       "    <tr>\n",
       "      <th>1566</th>\n",
       "      <td>49983</td>\n",
       "      <td>NonResidential</td>\n",
       "      <td>Residence Hall</td>\n",
       "      <td>NORTHEAST</td>\n",
       "      <td>2011</td>\n",
       "      <td>1.0</td>\n",
       "      <td>0</td>\n",
       "      <td>97040</td>\n",
       "      <td>0</td>\n",
       "      <td>97040</td>\n",
       "      <td>...</td>\n",
       "      <td>5</td>\n",
       "      <td>0</td>\n",
       "      <td>1</td>\n",
       "      <td>1</td>\n",
       "      <td>2</td>\n",
       "      <td>0.0</td>\n",
       "      <td>0.000000</td>\n",
       "      <td>0.000000</td>\n",
       "      <td>inf</td>\n",
       "      <td>0</td>\n",
       "    </tr>\n",
       "  </tbody>\n",
       "</table>\n",
       "<p>14 rows × 24 columns</p>\n",
       "</div>"
      ],
      "text/plain": [
       "      OSEBuildingID        BuildingType          PrimaryPropertyType  \\\n",
       "152             267      NonResidential                        Hotel   \n",
       "461             656      NonResidential               Medical Office   \n",
       "531             758      NonResidential                        Other   \n",
       "1034          23311      NonResidential               Medical Office   \n",
       "1116          24086              Campus                        Other   \n",
       "1511          40028      NonResidential                    Warehouse   \n",
       "1512          40031      NonResidential               Medical Office   \n",
       "1513          40034      NonResidential  Small- and Mid-Sized Office   \n",
       "1524          49705  Nonresidential COS                        Other   \n",
       "1560          49966      NonResidential                        Other   \n",
       "1562          49970      NonResidential               Residence Hall   \n",
       "1564          49979      NonResidential               Residence Hall   \n",
       "1565          49980      NonResidential               Residence Hall   \n",
       "1566          49983      NonResidential               Residence Hall   \n",
       "\n",
       "          Neighborhood  YearBuilt  NumberofBuildings  NumberofFloors  \\\n",
       "152           DOWNTOWN       1999                1.0               0   \n",
       "461               EAST       2004                1.0               0   \n",
       "531           DOWNTOWN       1999                1.0               0   \n",
       "1034              EAST       1945                1.0               0   \n",
       "1116  GREATER_DUWAMISH       1991               10.0               0   \n",
       "1511         NORTHEAST       1940                1.0               0   \n",
       "1512         NORTHEAST       1960                1.0               0   \n",
       "1513         NORTHEAST       1960                1.0               0   \n",
       "1524         NORTHEAST       1929                8.0               0   \n",
       "1560         SOUTHEAST       2009                1.0               0   \n",
       "1562         NORTHEAST       2011                1.0               0   \n",
       "1564         NORTHEAST       1953                1.0               0   \n",
       "1565         NORTHEAST       1970                1.0               0   \n",
       "1566         NORTHEAST       2011                1.0               0   \n",
       "\n",
       "      PropertyGFATotal  PropertyGFAParking  PropertyGFABuilding(s)  ...  \\\n",
       "152             934292                   0                  934292  ...   \n",
       "461             225982                   0                  225982  ...   \n",
       "531             947987                   0                  947987  ...   \n",
       "1034            274568                   0                  274568  ...   \n",
       "1116            230971                   0                  230971  ...   \n",
       "1511            384772                   0                  384772  ...   \n",
       "1512             30287                   0                   30287  ...   \n",
       "1513             21931                   0                   21931  ...   \n",
       "1524            502030                   0                  502030  ...   \n",
       "1560             40265                   0                   40265  ...   \n",
       "1562            176225                   0                  176225  ...   \n",
       "1564            166991                   0                  166991  ...   \n",
       "1565             89392                   0                   89392  ...   \n",
       "1566             97040                   0                   97040  ...   \n",
       "\n",
       "     BuildingAge  HasSteam HasElectricity  HasGas  NbSourcesEnergies  \\\n",
       "152           17         0              1       1                  2   \n",
       "461           12         1              1       0                  2   \n",
       "531           17         0              1       0                  1   \n",
       "1034          71         1              1       0                  2   \n",
       "1116          25         0              1       1                  2   \n",
       "1511          76         0              1       1                  2   \n",
       "1512          56         0              1       1                  2   \n",
       "1513          56         0              1       1                  2   \n",
       "1524          87         0              1       1                  2   \n",
       "1560           7         0              1       1                  2   \n",
       "1562           5         0              1       1                  2   \n",
       "1564          63         0              1       1                  2   \n",
       "1565          46         0              1       0                  1   \n",
       "1566           5         0              1       1                  2   \n",
       "\n",
       "      ParkingRatio  SecondUseRatio  ThirdUseRatio  AreaPerFloor  \\\n",
       "152            0.0        0.469613       0.053195           inf   \n",
       "461            0.0        0.000000       0.000000           inf   \n",
       "531            0.0        0.105487       0.084389           inf   \n",
       "1034           0.0        0.495156       0.000000           inf   \n",
       "1116           0.0        0.000000       0.000000           inf   \n",
       "1511           0.0        0.166000       0.000000           inf   \n",
       "1512           0.0        0.000000       0.000000           inf   \n",
       "1513           0.0        1.452054       0.000000           inf   \n",
       "1524           0.0        0.000000       0.000000           inf   \n",
       "1560           0.0        0.000000       0.000000           inf   \n",
       "1562           0.0        0.136190       0.000000           inf   \n",
       "1564           0.0        0.000000       0.000000           inf   \n",
       "1565           0.0        0.000000       0.000000           inf   \n",
       "1566           0.0        0.000000       0.000000           inf   \n",
       "\n",
       "      BuildingVolume  \n",
       "152                0  \n",
       "461                0  \n",
       "531                0  \n",
       "1034               0  \n",
       "1116               0  \n",
       "1511               0  \n",
       "1512               0  \n",
       "1513               0  \n",
       "1524               0  \n",
       "1560               0  \n",
       "1562               0  \n",
       "1564               0  \n",
       "1565               0  \n",
       "1566               0  \n",
       "\n",
       "[14 rows x 24 columns]"
      ]
     },
     "execution_count": 37,
     "metadata": {},
     "output_type": "execute_result"
    }
   ],
   "source": [
    "building_clean_second.loc[np.isinf(building_clean_second['AreaPerFloor']), :]"
   ]
  },
  {
   "cell_type": "markdown",
   "metadata": {},
   "source": [
    "Les valeurs infinies sont causés par le fait que le nombre d'étages est à 0. Il y a seulement 14 valeurs. Pour ne pas alléger le nombre de données et parce que le ratio peut être intéressant pour notre modèle, on décide de remplacer le nombre d'étages à 0 par 1. Cela ne va pas fondamentalement tronquer notre jeu, c'est la meilleure solution."
   ]
  },
  {
   "cell_type": "markdown",
   "metadata": {},
   "source": [
    "* Je remplace les valeurs et je recalcule le ratio pour  le mettre à jour"
   ]
  },
  {
   "cell_type": "code",
   "execution_count": 38,
   "metadata": {},
   "outputs": [
    {
     "data": {
      "text/html": [
       "<div>\n",
       "<style scoped>\n",
       "    .dataframe tbody tr th:only-of-type {\n",
       "        vertical-align: middle;\n",
       "    }\n",
       "\n",
       "    .dataframe tbody tr th {\n",
       "        vertical-align: top;\n",
       "    }\n",
       "\n",
       "    .dataframe thead th {\n",
       "        text-align: right;\n",
       "    }\n",
       "</style>\n",
       "<table border=\"1\" class=\"dataframe\">\n",
       "  <thead>\n",
       "    <tr style=\"text-align: right;\">\n",
       "      <th></th>\n",
       "      <th>OSEBuildingID</th>\n",
       "      <th>BuildingType</th>\n",
       "      <th>PrimaryPropertyType</th>\n",
       "      <th>Neighborhood</th>\n",
       "      <th>YearBuilt</th>\n",
       "      <th>NumberofBuildings</th>\n",
       "      <th>NumberofFloors</th>\n",
       "      <th>PropertyGFATotal</th>\n",
       "      <th>PropertyGFAParking</th>\n",
       "      <th>PropertyGFABuilding(s)</th>\n",
       "      <th>...</th>\n",
       "      <th>BuildingAge</th>\n",
       "      <th>HasSteam</th>\n",
       "      <th>HasElectricity</th>\n",
       "      <th>HasGas</th>\n",
       "      <th>NbSourcesEnergies</th>\n",
       "      <th>ParkingRatio</th>\n",
       "      <th>SecondUseRatio</th>\n",
       "      <th>ThirdUseRatio</th>\n",
       "      <th>AreaPerFloor</th>\n",
       "      <th>BuildingVolume</th>\n",
       "    </tr>\n",
       "  </thead>\n",
       "  <tbody>\n",
       "  </tbody>\n",
       "</table>\n",
       "<p>0 rows × 24 columns</p>\n",
       "</div>"
      ],
      "text/plain": [
       "Empty DataFrame\n",
       "Columns: [OSEBuildingID, BuildingType, PrimaryPropertyType, Neighborhood, YearBuilt, NumberofBuildings, NumberofFloors, PropertyGFATotal, PropertyGFAParking, PropertyGFABuilding(s), LargestPropertyUseType, SiteEnergyUse(kBtu), UsageType, NumPropertyUseTypes, BuildingAge, HasSteam, HasElectricity, HasGas, NbSourcesEnergies, ParkingRatio, SecondUseRatio, ThirdUseRatio, AreaPerFloor, BuildingVolume]\n",
       "Index: []\n",
       "\n",
       "[0 rows x 24 columns]"
      ]
     },
     "execution_count": 38,
     "metadata": {},
     "output_type": "execute_result"
    }
   ],
   "source": [
    "building_clean_second.loc[building_clean_second['NumberofFloors'] == 0, 'NumberofFloors'] = 1\n",
    "numerator_quatre =  building_clean_second['PropertyGFATotal'].fillna(0)\n",
    "denominator_quatre = building_clean_second['NumberofFloors'].fillna(0)\n",
    "building_clean_second['AreaPerFloor'] = numerator_quatre / denominator_quatre\n",
    "building_clean_second.loc[np.isinf(building_clean_second['AreaPerFloor']), :]"
   ]
  },
  {
   "cell_type": "markdown",
   "metadata": {},
   "source": [
    "* Petit récapitulatif"
   ]
  },
  {
   "cell_type": "code",
   "execution_count": 39,
   "metadata": {},
   "outputs": [
    {
     "name": "stdout",
     "output_type": "stream",
     "text": [
      "Nous retrouvons 1601 lignes et nous avons 20 colonnes avant le nettoyage des données avant transformation.\n",
      "Nous retrouvons 1601 lignes et nous avons 20 colonnes après ajout et suppression d'une colonne liée au nombre de type de bâtiment.\n",
      "Nous retrouvons 1601 lignes et nous avons 20 colonnes après ajout de la colonne BuildingAge.\n",
      "Nous retrouvons 1601 lignes et nous avons 21 colonnes après ajout et suppression des sources d'énergie.\n",
      "Nous retrouvons 1601 lignes et nous avons 26 colonnes après ajout des ratios.\n",
      "Nous retrouvons 1601 lignes et nous avons 24 colonnes après suppression de deux colonnes non pertinentes.\n",
      "Nous retrouvons 1601 lignes et nous avons 24 colonnes après suppression de valeurs infinies.\n"
     ]
    }
   ],
   "source": [
    "data_avant_transformation_six = building_clean_second.shape\n",
    "print('Nous retrouvons',data_avant_transformation[0],'lignes et nous avons',data_avant_transformation[1],'colonnes avant le nettoyage des données avant transformation.')\n",
    "print('Nous retrouvons',data_avant_transformation_un[0],\"lignes et nous avons\",data_avant_transformation_un[1],\"colonnes après ajout et suppression d'une colonne liée au nombre de type de bâtiment.\")\n",
    "print('Nous retrouvons',data_avant_transformation_deux[0],\"lignes et nous avons\",data_avant_transformation_deux[1],\"colonnes après ajout de la colonne BuildingAge.\")\n",
    "print('Nous retrouvons',data_avant_transformation_trois[0],\"lignes et nous avons\",data_avant_transformation_trois[1],\"colonnes après ajout et suppression des sources d'énergie.\")\n",
    "print('Nous retrouvons',data_avant_transformation_quatre[0],\"lignes et nous avons\",data_avant_transformation_quatre[1],\"colonnes après ajout des ratios.\")\n",
    "print('Nous retrouvons',data_avant_transformation_cinq[0],\"lignes et nous avons\",data_avant_transformation_cinq[1],\"colonnes après suppression de deux colonnes non pertinentes.\")\n",
    "print('Nous retrouvons',data_avant_transformation_six[0],\"lignes et nous avons\",data_avant_transformation_six[1],\"colonnes après suppression de valeurs infinies.\")"
   ]
  },
  {
   "cell_type": "markdown",
   "metadata": {},
   "source": [
    "#### On peut regarder la relation entre nos variables numériques via la matrice de corrélation\n",
    "* L'idée ici est de regarder les relations entre les features (hors target) afin d'enlever celles qui sont trop correlées entre elles."
   ]
  },
  {
   "cell_type": "markdown",
   "metadata": {},
   "source": [
    "Nos variables numériques :\n",
    "* YearBuilt\n",
    "* NumberofBuildings\n",
    "* NumberofFloors\n",
    "* PropertyGFATotal\n",
    "* PropertyGFAParking\n",
    "* PropertyGFABuilding(s)\n",
    "* BuildingAge\n",
    "* NbSourcesEnergies\n",
    "* ParkingRatio\n",
    "* LargestUseRatio\n",
    "* SecondUseRatio\n",
    "* ThirdUseRatio\n",
    "* AreaPerFloor\n",
    "* NumPropertyUseTypes\n",
    "* BuildingVolume"
   ]
  },
  {
   "cell_type": "code",
   "execution_count": 40,
   "metadata": {},
   "outputs": [
    {
     "name": "stdout",
     "output_type": "stream",
     "text": [
      "<class 'pandas.core.frame.DataFrame'>\n",
      "RangeIndex: 1601 entries, 0 to 1600\n",
      "Data columns (total 24 columns):\n",
      " #   Column                  Non-Null Count  Dtype  \n",
      "---  ------                  --------------  -----  \n",
      " 0   OSEBuildingID           1601 non-null   int64  \n",
      " 1   BuildingType            1601 non-null   object \n",
      " 2   PrimaryPropertyType     1601 non-null   object \n",
      " 3   Neighborhood            1601 non-null   object \n",
      " 4   YearBuilt               1601 non-null   int64  \n",
      " 5   NumberofBuildings       1601 non-null   float64\n",
      " 6   NumberofFloors          1601 non-null   int64  \n",
      " 7   PropertyGFATotal        1601 non-null   int64  \n",
      " 8   PropertyGFAParking      1601 non-null   int64  \n",
      " 9   PropertyGFABuilding(s)  1601 non-null   int64  \n",
      " 10  LargestPropertyUseType  1601 non-null   object \n",
      " 11  SiteEnergyUse(kBtu)     1601 non-null   float64\n",
      " 12  UsageType               1601 non-null   object \n",
      " 13  NumPropertyUseTypes     1601 non-null   int64  \n",
      " 14  BuildingAge             1601 non-null   int64  \n",
      " 15  HasSteam                1601 non-null   int64  \n",
      " 16  HasElectricity          1601 non-null   int64  \n",
      " 17  HasGas                  1601 non-null   int64  \n",
      " 18  NbSourcesEnergies       1601 non-null   int64  \n",
      " 19  ParkingRatio            1601 non-null   float64\n",
      " 20  SecondUseRatio          1601 non-null   float64\n",
      " 21  ThirdUseRatio           1601 non-null   float64\n",
      " 22  AreaPerFloor            1601 non-null   float64\n",
      " 23  BuildingVolume          1601 non-null   int64  \n",
      "dtypes: float64(6), int64(13), object(5)\n",
      "memory usage: 300.3+ KB\n"
     ]
    }
   ],
   "source": [
    "building_clean_second.info()"
   ]
  },
  {
   "cell_type": "markdown",
   "metadata": {},
   "source": [
    "J'enregistre mes colonnes numériques"
   ]
  },
  {
   "cell_type": "code",
   "execution_count": 41,
   "metadata": {},
   "outputs": [],
   "source": [
    "col_corr_un = [\n",
    "    'YearBuilt','NumberofBuildings','NumberofFloors','PropertyGFATotal','PropertyGFABuilding(s)',\n",
    "    'BuildingAge','NbSourcesEnergies', 'NumPropertyUseTypes','PropertyGFAParking',\n",
    "    'ParkingRatio','SecondUseRatio','ThirdUseRatio','AreaPerFloor','BuildingVolume'\n",
    "    ]"
   ]
  },
  {
   "cell_type": "markdown",
   "metadata": {},
   "source": [
    "Je réalise la matrice de corrélation"
   ]
  },
  {
   "cell_type": "code",
   "execution_count": 42,
   "metadata": {},
   "outputs": [
    {
     "data": {
      "image/png": "[encoded data removed]",
      "text/plain": [
       "<Figure size 1200x800 with 2 Axes>"
      ]
     },
     "metadata": {},
     "output_type": "display_data"
    }
   ],
   "source": [
    "building_clean_second_corr = building_clean_second[col_corr_un]\n",
    "spearman_corr = building_clean_second_corr.corr(numeric_only=True, method = 'spearman')\n",
    "np.fill_diagonal(spearman_corr.values, 0)\n",
    "plt.figure(figsize=(12, 8))\n",
    "sns.heatmap(spearman_corr, cmap='coolwarm', center=0, annot=True, fmt=\".2f\")\n",
    "plt.title(\"Matrice de corrélation de Spearman\")\n",
    "plt.show()"
   ]
  },
  {
   "cell_type": "markdown",
   "metadata": {},
   "source": [
    "Ici on voit que les variables fortement correlées (>0,70) sont :\n",
    "* PropertyGFABuilding(s)\n",
    "* YearBuilt (correlation négative parfaite avec BuildingAge)\n",
    "* ParkingRatio\n",
    "* BuildingVolume\n",
    "\n",
    "On doit donc s'en séparer afin de ne pas avoir de redondance.\n",
    "\n",
    "On peut garder les autres pour le moment : \n",
    "* NumberofBuildings\n",
    "* NumberofFloors\n",
    "* PropertyGFATotal\n",
    "* BuildingAge\n",
    "* NbSourcesEnergies\n",
    "* NumPropertyUseTypes\n",
    "* PropertyGFAParking\n",
    "* SecondUseRatio\n",
    "* ThirdUseRatio\n",
    "* AreaPerFloor"
   ]
  },
  {
   "cell_type": "code",
   "execution_count": 43,
   "metadata": {},
   "outputs": [
    {
     "name": "stdout",
     "output_type": "stream",
     "text": [
      "<class 'pandas.core.frame.DataFrame'>\n",
      "RangeIndex: 1601 entries, 0 to 1600\n",
      "Data columns (total 20 columns):\n",
      " #   Column                  Non-Null Count  Dtype  \n",
      "---  ------                  --------------  -----  \n",
      " 0   OSEBuildingID           1601 non-null   int64  \n",
      " 1   BuildingType            1601 non-null   object \n",
      " 2   PrimaryPropertyType     1601 non-null   object \n",
      " 3   Neighborhood            1601 non-null   object \n",
      " 4   NumberofBuildings       1601 non-null   float64\n",
      " 5   NumberofFloors          1601 non-null   int64  \n",
      " 6   PropertyGFATotal        1601 non-null   int64  \n",
      " 7   PropertyGFAParking      1601 non-null   int64  \n",
      " 8   LargestPropertyUseType  1601 non-null   object \n",
      " 9   SiteEnergyUse(kBtu)     1601 non-null   float64\n",
      " 10  UsageType               1601 non-null   object \n",
      " 11  NumPropertyUseTypes     1601 non-null   int64  \n",
      " 12  BuildingAge             1601 non-null   int64  \n",
      " 13  HasSteam                1601 non-null   int64  \n",
      " 14  HasElectricity          1601 non-null   int64  \n",
      " 15  HasGas                  1601 non-null   int64  \n",
      " 16  NbSourcesEnergies       1601 non-null   int64  \n",
      " 17  SecondUseRatio          1601 non-null   float64\n",
      " 18  ThirdUseRatio           1601 non-null   float64\n",
      " 19  AreaPerFloor            1601 non-null   float64\n",
      "dtypes: float64(5), int64(10), object(5)\n",
      "memory usage: 250.3+ KB\n"
     ]
    }
   ],
   "source": [
    "a_supprimer = ['PropertyGFABuilding(s)','YearBuilt','BuildingVolume','ParkingRatio']\n",
    "building_clean_second = building_clean_second.drop(columns=a_supprimer)\n",
    "building_clean_second.info()"
   ]
  },
  {
   "cell_type": "markdown",
   "metadata": {},
   "source": [
    "* Petit récapitulatif"
   ]
  },
  {
   "cell_type": "code",
   "execution_count": 44,
   "metadata": {},
   "outputs": [
    {
     "name": "stdout",
     "output_type": "stream",
     "text": [
      "Nous retrouvons 1601 lignes et nous avons 20 colonnes avant le nettoyage des données avant transformation.\n",
      "Nous retrouvons 1601 lignes et nous avons 20 colonnes après ajout et suppression d'une colonne liée au nombre de type de bâtiment.\n",
      "Nous retrouvons 1601 lignes et nous avons 20 colonnes après ajout de la colonne BuildingAge.\n",
      "Nous retrouvons 1601 lignes et nous avons 21 colonnes après ajout et suppression des sources d'énergie.\n",
      "Nous retrouvons 1601 lignes et nous avons 26 colonnes après ajout des ratios.\n",
      "Nous retrouvons 1601 lignes et nous avons 24 colonnes après suppression de deux colonnes non pertinentes.\n",
      "Nous retrouvons 1601 lignes et nous avons 24 colonnes après suppression de valeurs infinies.\n",
      "Nous retrouvons 1601 lignes et nous avons 20 colonnes après suppression de 4 colonnes redondantes.\n"
     ]
    }
   ],
   "source": [
    "data_avant_transformation_sept = building_clean_second.shape\n",
    "print('Nous retrouvons',data_avant_transformation[0],'lignes et nous avons',data_avant_transformation[1],'colonnes avant le nettoyage des données avant transformation.')\n",
    "print('Nous retrouvons',data_avant_transformation_un[0],\"lignes et nous avons\",data_avant_transformation_un[1],\"colonnes après ajout et suppression d'une colonne liée au nombre de type de bâtiment.\")\n",
    "print('Nous retrouvons',data_avant_transformation_deux[0],\"lignes et nous avons\",data_avant_transformation_deux[1],\"colonnes après ajout de la colonne BuildingAge.\")\n",
    "print('Nous retrouvons',data_avant_transformation_trois[0],\"lignes et nous avons\",data_avant_transformation_trois[1],\"colonnes après ajout et suppression des sources d'énergie.\")\n",
    "print('Nous retrouvons',data_avant_transformation_quatre[0],\"lignes et nous avons\",data_avant_transformation_quatre[1],\"colonnes après ajout des ratios.\")\n",
    "print('Nous retrouvons',data_avant_transformation_cinq[0],\"lignes et nous avons\",data_avant_transformation_cinq[1],\"colonnes après suppression de deux colonnes non pertinentes.\")\n",
    "print('Nous retrouvons',data_avant_transformation_six[0],\"lignes et nous avons\",data_avant_transformation_six[1],\"colonnes après suppression de valeurs infinies.\")\n",
    "print('Nous retrouvons',data_avant_transformation_sept[0],\"lignes et nous avons\",data_avant_transformation_sept[1],\"colonnes après suppression de 4 colonnes redondantes.\")"
   ]
  },
  {
   "cell_type": "markdown",
   "metadata": {},
   "source": [
    "### Enregistrement du notebook de la deuxième étape du projet 3"
   ]
  },
  {
   "cell_type": "code",
   "execution_count": null,
   "metadata": {},
   "outputs": [],
   "source": [
    "building_clean_second.to_csv(\"../Data/Projet_3_etape2_clean.csv\", index=False)"
   ]
  }
 ],
 "metadata": {
  "kernelspec": {
   "display_name": "florianschorer-py3.12",
   "language": "python",
   "name": "python3"
  },
  "language_info": {
   "codemirror_mode": {
    "name": "ipython",
    "version": 3
   },
   "file_extension": ".py",
   "mimetype": "text/x-python",
   "name": "python",
   "nbconvert_exporter": "python",
   "pygments_lexer": "ipython3",
   "version": "3.12.7"
  }
 },
 "nbformat": 4,
 "nbformat_minor": 2
}
